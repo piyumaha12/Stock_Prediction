{
 "cells": [
  {
   "cell_type": "code",
   "execution_count": 47,
   "id": "6deccc0b",
   "metadata": {
    "ExecuteTime": {
     "end_time": "2022-03-01T08:57:10.537766Z",
     "start_time": "2022-03-01T08:57:10.483323Z"
    }
   },
   "outputs": [],
   "source": [
    "#pip install yfinance"
   ]
  },
  {
   "cell_type": "code",
   "execution_count": 41,
   "id": "d7535d57",
   "metadata": {
    "ExecuteTime": {
     "end_time": "2022-02-28T15:36:35.381608Z",
     "start_time": "2022-02-28T15:36:35.365053Z"
    }
   },
   "outputs": [],
   "source": [
    "import numpy as np\n",
    "import pandas as pd\n",
    "from scipy.stats import boxcox\n",
    "import matplotlib.pyplot as plt\n",
    "from scipy.special import boxcox, inv_boxcox\n",
    "import seaborn as sns\n",
    "import warnings\n",
    "warnings.filterwarnings(\"ignore\")"
   ]
  },
  {
   "cell_type": "code",
   "execution_count": 42,
   "id": "0d9e6b24",
   "metadata": {
    "ExecuteTime": {
     "end_time": "2022-02-28T15:36:35.413079Z",
     "start_time": "2022-02-28T15:36:35.384565Z"
    }
   },
   "outputs": [],
   "source": [
    "from datetime import date\n",
    "import yfinance as yf"
   ]
  },
  {
   "cell_type": "code",
   "execution_count": 43,
   "id": "2e324d75",
   "metadata": {
    "ExecuteTime": {
     "end_time": "2022-02-28T15:36:35.443205Z",
     "start_time": "2022-02-28T15:36:35.417084Z"
    }
   },
   "outputs": [],
   "source": [
    "def get_data(name):\n",
    "    coal=yf.Ticker(name)\n",
    "    data1 = coal.history(start='2022-01-01', end='2022-02-28')\n",
    "    return data1"
   ]
  },
  {
   "cell_type": "code",
   "execution_count": 44,
   "id": "d331e24d",
   "metadata": {
    "ExecuteTime": {
     "end_time": "2022-02-28T15:36:39.868254Z",
     "start_time": "2022-02-28T15:36:35.445203Z"
    }
   },
   "outputs": [
    {
     "name": "stdout",
     "output_type": "stream",
     "text": [
      "Enter Company Name  : LIN\n"
     ]
    }
   ],
   "source": [
    "data = get_data(input('Enter Company Name  : '))"
   ]
  },
  {
   "cell_type": "code",
   "execution_count": 45,
   "id": "1f32ffa3",
   "metadata": {
    "ExecuteTime": {
     "end_time": "2022-02-28T15:36:39.900256Z",
     "start_time": "2022-02-28T15:36:39.870254Z"
    }
   },
   "outputs": [
    {
     "data": {
      "text/html": [
       "<div>\n",
       "<style scoped>\n",
       "    .dataframe tbody tr th:only-of-type {\n",
       "        vertical-align: middle;\n",
       "    }\n",
       "\n",
       "    .dataframe tbody tr th {\n",
       "        vertical-align: top;\n",
       "    }\n",
       "\n",
       "    .dataframe thead th {\n",
       "        text-align: right;\n",
       "    }\n",
       "</style>\n",
       "<table border=\"1\" class=\"dataframe\">\n",
       "  <thead>\n",
       "    <tr style=\"text-align: right;\">\n",
       "      <th></th>\n",
       "      <th>Open</th>\n",
       "      <th>High</th>\n",
       "      <th>Low</th>\n",
       "      <th>Close</th>\n",
       "      <th>Volume</th>\n",
       "      <th>Dividends</th>\n",
       "      <th>Stock Splits</th>\n",
       "    </tr>\n",
       "    <tr>\n",
       "      <th>Date</th>\n",
       "      <th></th>\n",
       "      <th></th>\n",
       "      <th></th>\n",
       "      <th></th>\n",
       "      <th></th>\n",
       "      <th></th>\n",
       "      <th></th>\n",
       "    </tr>\n",
       "  </thead>\n",
       "  <tbody>\n",
       "    <tr>\n",
       "      <th>2021-12-31</th>\n",
       "      <td>343.720001</td>\n",
       "      <td>346.970001</td>\n",
       "      <td>343.630005</td>\n",
       "      <td>346.429993</td>\n",
       "      <td>817800</td>\n",
       "      <td>0</td>\n",
       "      <td>0</td>\n",
       "    </tr>\n",
       "    <tr>\n",
       "      <th>2022-01-03</th>\n",
       "      <td>346.420013</td>\n",
       "      <td>346.589996</td>\n",
       "      <td>338.359985</td>\n",
       "      <td>338.640015</td>\n",
       "      <td>1514700</td>\n",
       "      <td>0</td>\n",
       "      <td>0</td>\n",
       "    </tr>\n",
       "    <tr>\n",
       "      <th>2022-01-04</th>\n",
       "      <td>338.959991</td>\n",
       "      <td>345.630005</td>\n",
       "      <td>338.269989</td>\n",
       "      <td>344.809998</td>\n",
       "      <td>1919900</td>\n",
       "      <td>0</td>\n",
       "      <td>0</td>\n",
       "    </tr>\n",
       "    <tr>\n",
       "      <th>2022-01-05</th>\n",
       "      <td>347.690002</td>\n",
       "      <td>352.179993</td>\n",
       "      <td>346.320007</td>\n",
       "      <td>346.410004</td>\n",
       "      <td>1654900</td>\n",
       "      <td>0</td>\n",
       "      <td>0</td>\n",
       "    </tr>\n",
       "    <tr>\n",
       "      <th>2022-01-06</th>\n",
       "      <td>344.679993</td>\n",
       "      <td>345.500000</td>\n",
       "      <td>337.700012</td>\n",
       "      <td>338.010010</td>\n",
       "      <td>1649400</td>\n",
       "      <td>0</td>\n",
       "      <td>0</td>\n",
       "    </tr>\n",
       "  </tbody>\n",
       "</table>\n",
       "</div>"
      ],
      "text/plain": [
       "                  Open        High         Low       Close   Volume  \\\n",
       "Date                                                                  \n",
       "2021-12-31  343.720001  346.970001  343.630005  346.429993   817800   \n",
       "2022-01-03  346.420013  346.589996  338.359985  338.640015  1514700   \n",
       "2022-01-04  338.959991  345.630005  338.269989  344.809998  1919900   \n",
       "2022-01-05  347.690002  352.179993  346.320007  346.410004  1654900   \n",
       "2022-01-06  344.679993  345.500000  337.700012  338.010010  1649400   \n",
       "\n",
       "            Dividends  Stock Splits  \n",
       "Date                                 \n",
       "2021-12-31          0             0  \n",
       "2022-01-03          0             0  \n",
       "2022-01-04          0             0  \n",
       "2022-01-05          0             0  \n",
       "2022-01-06          0             0  "
      ]
     },
     "execution_count": 45,
     "metadata": {},
     "output_type": "execute_result"
    }
   ],
   "source": [
    "data.head()"
   ]
  },
  {
   "cell_type": "code",
   "execution_count": 46,
   "id": "389195fb",
   "metadata": {
    "ExecuteTime": {
     "end_time": "2022-02-28T15:36:39.961818Z",
     "start_time": "2022-02-28T15:36:39.902772Z"
    }
   },
   "outputs": [
    {
     "data": {
      "text/html": [
       "<div>\n",
       "<style scoped>\n",
       "    .dataframe tbody tr th:only-of-type {\n",
       "        vertical-align: middle;\n",
       "    }\n",
       "\n",
       "    .dataframe tbody tr th {\n",
       "        vertical-align: top;\n",
       "    }\n",
       "\n",
       "    .dataframe thead th {\n",
       "        text-align: right;\n",
       "    }\n",
       "</style>\n",
       "<table border=\"1\" class=\"dataframe\">\n",
       "  <thead>\n",
       "    <tr style=\"text-align: right;\">\n",
       "      <th></th>\n",
       "      <th>Open</th>\n",
       "      <th>High</th>\n",
       "      <th>Low</th>\n",
       "      <th>Close</th>\n",
       "      <th>Volume</th>\n",
       "      <th>Dividends</th>\n",
       "      <th>Stock Splits</th>\n",
       "    </tr>\n",
       "    <tr>\n",
       "      <th>Date</th>\n",
       "      <th></th>\n",
       "      <th></th>\n",
       "      <th></th>\n",
       "      <th></th>\n",
       "      <th></th>\n",
       "      <th></th>\n",
       "      <th></th>\n",
       "    </tr>\n",
       "  </thead>\n",
       "  <tbody>\n",
       "    <tr>\n",
       "      <th>2022-02-18</th>\n",
       "      <td>299.809998</td>\n",
       "      <td>305.260010</td>\n",
       "      <td>298.630005</td>\n",
       "      <td>302.859985</td>\n",
       "      <td>2871400</td>\n",
       "      <td>0</td>\n",
       "      <td>0</td>\n",
       "    </tr>\n",
       "    <tr>\n",
       "      <th>2022-02-22</th>\n",
       "      <td>291.200012</td>\n",
       "      <td>295.070007</td>\n",
       "      <td>289.739990</td>\n",
       "      <td>293.589996</td>\n",
       "      <td>3590700</td>\n",
       "      <td>0</td>\n",
       "      <td>0</td>\n",
       "    </tr>\n",
       "    <tr>\n",
       "      <th>2022-02-23</th>\n",
       "      <td>295.850006</td>\n",
       "      <td>297.119995</td>\n",
       "      <td>290.649994</td>\n",
       "      <td>291.089996</td>\n",
       "      <td>3391600</td>\n",
       "      <td>0</td>\n",
       "      <td>0</td>\n",
       "    </tr>\n",
       "    <tr>\n",
       "      <th>2022-02-24</th>\n",
       "      <td>276.750000</td>\n",
       "      <td>285.899994</td>\n",
       "      <td>276.750000</td>\n",
       "      <td>285.250000</td>\n",
       "      <td>4444500</td>\n",
       "      <td>0</td>\n",
       "      <td>0</td>\n",
       "    </tr>\n",
       "    <tr>\n",
       "      <th>2022-02-25</th>\n",
       "      <td>287.679993</td>\n",
       "      <td>297.649994</td>\n",
       "      <td>287.600006</td>\n",
       "      <td>297.489990</td>\n",
       "      <td>2888900</td>\n",
       "      <td>0</td>\n",
       "      <td>0</td>\n",
       "    </tr>\n",
       "  </tbody>\n",
       "</table>\n",
       "</div>"
      ],
      "text/plain": [
       "                  Open        High         Low       Close   Volume  \\\n",
       "Date                                                                  \n",
       "2022-02-18  299.809998  305.260010  298.630005  302.859985  2871400   \n",
       "2022-02-22  291.200012  295.070007  289.739990  293.589996  3590700   \n",
       "2022-02-23  295.850006  297.119995  290.649994  291.089996  3391600   \n",
       "2022-02-24  276.750000  285.899994  276.750000  285.250000  4444500   \n",
       "2022-02-25  287.679993  297.649994  287.600006  297.489990  2888900   \n",
       "\n",
       "            Dividends  Stock Splits  \n",
       "Date                                 \n",
       "2022-02-18          0             0  \n",
       "2022-02-22          0             0  \n",
       "2022-02-23          0             0  \n",
       "2022-02-24          0             0  \n",
       "2022-02-25          0             0  "
      ]
     },
     "execution_count": 46,
     "metadata": {},
     "output_type": "execute_result"
    }
   ],
   "source": [
    "data.tail()"
   ]
  },
  {
   "cell_type": "code",
   "execution_count": null,
   "id": "de1e0929",
   "metadata": {},
   "outputs": [],
   "source": []
  }
 ],
 "metadata": {
  "kernelspec": {
   "display_name": "Python 3",
   "language": "python",
   "name": "python3"
  },
  "language_info": {
   "codemirror_mode": {
    "name": "ipython",
    "version": 3
   },
   "file_extension": ".py",
   "mimetype": "text/x-python",
   "name": "python",
   "nbconvert_exporter": "python",
   "pygments_lexer": "ipython3",
   "version": "3.8.8"
  },
  "varInspector": {
   "cols": {
    "lenName": 16,
    "lenType": 16,
    "lenVar": 40
   },
   "kernels_config": {
    "python": {
     "delete_cmd_postfix": "",
     "delete_cmd_prefix": "del ",
     "library": "var_list.py",
     "varRefreshCmd": "print(var_dic_list())"
    },
    "r": {
     "delete_cmd_postfix": ") ",
     "delete_cmd_prefix": "rm(",
     "library": "var_list.r",
     "varRefreshCmd": "cat(var_dic_list()) "
    }
   },
   "types_to_exclude": [
    "module",
    "function",
    "builtin_function_or_method",
    "instance",
    "_Feature"
   ],
   "window_display": false
  }
 },
 "nbformat": 4,
 "nbformat_minor": 5
}
