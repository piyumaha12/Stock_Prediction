{
 "cells": [
  {
   "cell_type": "code",
   "execution_count": 1,
   "id": "6deccc0b",
   "metadata": {
    "ExecuteTime": {
     "end_time": "2022-03-01T08:57:10.537766Z",
     "start_time": "2022-03-01T08:57:10.483323Z"
    }
   },
   "outputs": [
    {
     "name": "stdout",
     "output_type": "stream",
     "text": [
      "Collecting yfinance\n",
      "  Downloading yfinance-0.1.70-py2.py3-none-any.whl (26 kB)\n",
      "Requirement already satisfied: numpy>=1.15 in g:\\python_virtual_env\\myenv\\lib\\site-packages (from yfinance) (1.21.2)\n",
      "Requirement already satisfied: requests>=2.26 in g:\\python_virtual_env\\myenv\\lib\\site-packages (from yfinance) (2.26.0)\n",
      "Collecting multitasking>=0.0.7\n",
      "  Downloading multitasking-0.0.10.tar.gz (8.2 kB)\n",
      "Requirement already satisfied: lxml>=4.5.1 in g:\\python_virtual_env\\myenv\\lib\\site-packages (from yfinance) (4.7.1)\n",
      "Collecting pandas>=0.24.0\n",
      "  Downloading pandas-1.4.1-cp39-cp39-win_amd64.whl (10.5 MB)\n",
      "Requirement already satisfied: python-dateutil>=2.8.1 in g:\\python_virtual_env\\myenv\\lib\\site-packages (from pandas>=0.24.0->yfinance) (2.8.2)\n",
      "Collecting pytz>=2020.1\n",
      "  Using cached pytz-2021.3-py2.py3-none-any.whl (503 kB)\n",
      "Requirement already satisfied: six>=1.5 in g:\\python_virtual_env\\myenv\\lib\\site-packages (from python-dateutil>=2.8.1->pandas>=0.24.0->yfinance) (1.16.0)\n",
      "Requirement already satisfied: certifi>=2017.4.17 in g:\\python_virtual_env\\myenv\\lib\\site-packages (from requests>=2.26->yfinance) (2021.10.8)\n",
      "Requirement already satisfied: idna<4,>=2.5 in g:\\python_virtual_env\\myenv\\lib\\site-packages (from requests>=2.26->yfinance) (3.3)\n",
      "Requirement already satisfied: charset-normalizer~=2.0.0 in g:\\python_virtual_env\\myenv\\lib\\site-packages (from requests>=2.26->yfinance) (2.0.9)\n",
      "Requirement already satisfied: urllib3<1.27,>=1.21.1 in g:\\python_virtual_env\\myenv\\lib\\site-packages (from requests>=2.26->yfinance) (1.26.7)\n",
      "Building wheels for collected packages: multitasking\n",
      "  Building wheel for multitasking (setup.py): started\n",
      "  Building wheel for multitasking (setup.py): finished with status 'done'\n",
      "  Created wheel for multitasking: filename=multitasking-0.0.10-py3-none-any.whl size=8500 sha256=69f122cd50cefc42755098f275f136f30bbcc6bbb9991315d2fba868250100ae\n",
      "  Stored in directory: c:\\users\\hp\\appdata\\local\\pip\\cache\\wheels\\f2\\b5\\2c\\59ba95dcf854e542944c75fe3da584e4e3833b319735a0546c\n",
      "Successfully built multitasking\n",
      "Installing collected packages: pytz, pandas, multitasking, yfinance\n",
      "Successfully installed multitasking-0.0.10 pandas-1.4.1 pytz-2021.3 yfinance-0.1.70\n",
      "Note: you may need to restart the kernel to use updated packages.\n"
     ]
    }
   ],
   "source": [
    "pip install yfinance"
   ]
  },
  {
   "cell_type": "code",
   "execution_count": 2,
   "id": "d7535d57",
   "metadata": {
    "ExecuteTime": {
     "end_time": "2022-02-28T15:36:35.381608Z",
     "start_time": "2022-02-28T15:36:35.365053Z"
    }
   },
   "outputs": [],
   "source": [
    "import numpy as np\n",
    "import pandas as pd\n",
    "from scipy.stats import boxcox\n",
    "import matplotlib.pyplot as plt\n",
    "from scipy.special import boxcox, inv_boxcox\n",
    "import seaborn as sns\n",
    "import warnings\n",
    "warnings.filterwarnings(\"ignore\")"
   ]
  },
  {
   "cell_type": "code",
   "execution_count": 3,
   "id": "0d9e6b24",
   "metadata": {
    "ExecuteTime": {
     "end_time": "2022-02-28T15:36:35.413079Z",
     "start_time": "2022-02-28T15:36:35.384565Z"
    }
   },
   "outputs": [],
   "source": [
    "from datetime import date\n",
    "import yfinance as yf"
   ]
  },
  {
   "cell_type": "markdown",
   "id": "61c9e800",
   "metadata": {},
   "source": [
    "Symbol names:\n",
    "- TATAMOTORS.NS"
   ]
  },
  {
   "cell_type": "code",
   "execution_count": 4,
   "id": "2e324d75",
   "metadata": {
    "ExecuteTime": {
     "end_time": "2022-02-28T15:36:35.443205Z",
     "start_time": "2022-02-28T15:36:35.417084Z"
    }
   },
   "outputs": [],
   "source": [
    "def get_data(name):\n",
    "    coal=yf.Ticker(name)\n",
    "    data1 = coal.history(start='2022-01-01', end='2022-02-28')\n",
    "    return data1"
   ]
  },
  {
   "cell_type": "code",
   "execution_count": 7,
   "id": "d331e24d",
   "metadata": {
    "ExecuteTime": {
     "end_time": "2022-02-28T15:36:39.868254Z",
     "start_time": "2022-02-28T15:36:35.445203Z"
    }
   },
   "outputs": [],
   "source": [
    "data = get_data(input('Enter Company Name  : '))"
   ]
  },
  {
   "cell_type": "code",
   "execution_count": null,
   "id": "4f869a1c",
   "metadata": {},
   "outputs": [],
   "source": []
  },
  {
   "cell_type": "code",
   "execution_count": 8,
   "id": "1f32ffa3",
   "metadata": {
    "ExecuteTime": {
     "end_time": "2022-02-28T15:36:39.900256Z",
     "start_time": "2022-02-28T15:36:39.870254Z"
    }
   },
   "outputs": [
    {
     "data": {
      "text/html": [
       "<div>\n",
       "<style scoped>\n",
       "    .dataframe tbody tr th:only-of-type {\n",
       "        vertical-align: middle;\n",
       "    }\n",
       "\n",
       "    .dataframe tbody tr th {\n",
       "        vertical-align: top;\n",
       "    }\n",
       "\n",
       "    .dataframe thead th {\n",
       "        text-align: right;\n",
       "    }\n",
       "</style>\n",
       "<table border=\"1\" class=\"dataframe\">\n",
       "  <thead>\n",
       "    <tr style=\"text-align: right;\">\n",
       "      <th></th>\n",
       "      <th>Open</th>\n",
       "      <th>High</th>\n",
       "      <th>Low</th>\n",
       "      <th>Close</th>\n",
       "      <th>Volume</th>\n",
       "      <th>Dividends</th>\n",
       "      <th>Stock Splits</th>\n",
       "    </tr>\n",
       "    <tr>\n",
       "      <th>Date</th>\n",
       "      <th></th>\n",
       "      <th></th>\n",
       "      <th></th>\n",
       "      <th></th>\n",
       "      <th></th>\n",
       "      <th></th>\n",
       "      <th></th>\n",
       "    </tr>\n",
       "  </thead>\n",
       "  <tbody>\n",
       "    <tr>\n",
       "      <th>2022-01-03</th>\n",
       "      <td>493.500000</td>\n",
       "      <td>500.850006</td>\n",
       "      <td>492.000000</td>\n",
       "      <td>497.600006</td>\n",
       "      <td>32748423</td>\n",
       "      <td>0</td>\n",
       "      <td>0</td>\n",
       "    </tr>\n",
       "    <tr>\n",
       "      <th>2022-01-04</th>\n",
       "      <td>496.799988</td>\n",
       "      <td>499.000000</td>\n",
       "      <td>484.049988</td>\n",
       "      <td>489.600006</td>\n",
       "      <td>24100985</td>\n",
       "      <td>0</td>\n",
       "      <td>0</td>\n",
       "    </tr>\n",
       "    <tr>\n",
       "      <th>2022-01-05</th>\n",
       "      <td>486.950012</td>\n",
       "      <td>492.750000</td>\n",
       "      <td>483.549988</td>\n",
       "      <td>489.750000</td>\n",
       "      <td>15420105</td>\n",
       "      <td>0</td>\n",
       "      <td>0</td>\n",
       "    </tr>\n",
       "    <tr>\n",
       "      <th>2022-01-06</th>\n",
       "      <td>481.500000</td>\n",
       "      <td>492.950012</td>\n",
       "      <td>477.100006</td>\n",
       "      <td>488.850006</td>\n",
       "      <td>16563230</td>\n",
       "      <td>0</td>\n",
       "      <td>0</td>\n",
       "    </tr>\n",
       "    <tr>\n",
       "      <th>2022-01-07</th>\n",
       "      <td>490.049988</td>\n",
       "      <td>495.500000</td>\n",
       "      <td>483.750000</td>\n",
       "      <td>490.600006</td>\n",
       "      <td>15532165</td>\n",
       "      <td>0</td>\n",
       "      <td>0</td>\n",
       "    </tr>\n",
       "  </tbody>\n",
       "</table>\n",
       "</div>"
      ],
      "text/plain": [
       "                  Open        High         Low       Close    Volume  \\\n",
       "Date                                                                   \n",
       "2022-01-03  493.500000  500.850006  492.000000  497.600006  32748423   \n",
       "2022-01-04  496.799988  499.000000  484.049988  489.600006  24100985   \n",
       "2022-01-05  486.950012  492.750000  483.549988  489.750000  15420105   \n",
       "2022-01-06  481.500000  492.950012  477.100006  488.850006  16563230   \n",
       "2022-01-07  490.049988  495.500000  483.750000  490.600006  15532165   \n",
       "\n",
       "            Dividends  Stock Splits  \n",
       "Date                                 \n",
       "2022-01-03          0             0  \n",
       "2022-01-04          0             0  \n",
       "2022-01-05          0             0  \n",
       "2022-01-06          0             0  \n",
       "2022-01-07          0             0  "
      ]
     },
     "execution_count": 8,
     "metadata": {},
     "output_type": "execute_result"
    }
   ],
   "source": [
    "data.head()"
   ]
  },
  {
   "cell_type": "code",
   "execution_count": 9,
   "id": "389195fb",
   "metadata": {
    "ExecuteTime": {
     "end_time": "2022-02-28T15:36:39.961818Z",
     "start_time": "2022-02-28T15:36:39.902772Z"
    }
   },
   "outputs": [
    {
     "data": {
      "text/html": [
       "<div>\n",
       "<style scoped>\n",
       "    .dataframe tbody tr th:only-of-type {\n",
       "        vertical-align: middle;\n",
       "    }\n",
       "\n",
       "    .dataframe tbody tr th {\n",
       "        vertical-align: top;\n",
       "    }\n",
       "\n",
       "    .dataframe thead th {\n",
       "        text-align: right;\n",
       "    }\n",
       "</style>\n",
       "<table border=\"1\" class=\"dataframe\">\n",
       "  <thead>\n",
       "    <tr style=\"text-align: right;\">\n",
       "      <th></th>\n",
       "      <th>Open</th>\n",
       "      <th>High</th>\n",
       "      <th>Low</th>\n",
       "      <th>Close</th>\n",
       "      <th>Volume</th>\n",
       "      <th>Dividends</th>\n",
       "      <th>Stock Splits</th>\n",
       "    </tr>\n",
       "    <tr>\n",
       "      <th>Date</th>\n",
       "      <th></th>\n",
       "      <th></th>\n",
       "      <th></th>\n",
       "      <th></th>\n",
       "      <th></th>\n",
       "      <th></th>\n",
       "      <th></th>\n",
       "    </tr>\n",
       "  </thead>\n",
       "  <tbody>\n",
       "    <tr>\n",
       "      <th>2022-02-21</th>\n",
       "      <td>490.149994</td>\n",
       "      <td>500.399994</td>\n",
       "      <td>486.100006</td>\n",
       "      <td>494.450012</td>\n",
       "      <td>22592161</td>\n",
       "      <td>0</td>\n",
       "      <td>0</td>\n",
       "    </tr>\n",
       "    <tr>\n",
       "      <th>2022-02-22</th>\n",
       "      <td>480.549988</td>\n",
       "      <td>486.299988</td>\n",
       "      <td>471.450012</td>\n",
       "      <td>478.250000</td>\n",
       "      <td>27957544</td>\n",
       "      <td>0</td>\n",
       "      <td>0</td>\n",
       "    </tr>\n",
       "    <tr>\n",
       "      <th>2022-02-23</th>\n",
       "      <td>481.750000</td>\n",
       "      <td>485.399994</td>\n",
       "      <td>475.299988</td>\n",
       "      <td>477.000000</td>\n",
       "      <td>17703998</td>\n",
       "      <td>0</td>\n",
       "      <td>0</td>\n",
       "    </tr>\n",
       "    <tr>\n",
       "      <th>2022-02-24</th>\n",
       "      <td>455.950012</td>\n",
       "      <td>461.549988</td>\n",
       "      <td>405.450012</td>\n",
       "      <td>427.950012</td>\n",
       "      <td>57265685</td>\n",
       "      <td>0</td>\n",
       "      <td>0</td>\n",
       "    </tr>\n",
       "    <tr>\n",
       "      <th>2022-02-25</th>\n",
       "      <td>444.850006</td>\n",
       "      <td>465.700012</td>\n",
       "      <td>441.600006</td>\n",
       "      <td>459.750000</td>\n",
       "      <td>48876182</td>\n",
       "      <td>0</td>\n",
       "      <td>0</td>\n",
       "    </tr>\n",
       "  </tbody>\n",
       "</table>\n",
       "</div>"
      ],
      "text/plain": [
       "                  Open        High         Low       Close    Volume  \\\n",
       "Date                                                                   \n",
       "2022-02-21  490.149994  500.399994  486.100006  494.450012  22592161   \n",
       "2022-02-22  480.549988  486.299988  471.450012  478.250000  27957544   \n",
       "2022-02-23  481.750000  485.399994  475.299988  477.000000  17703998   \n",
       "2022-02-24  455.950012  461.549988  405.450012  427.950012  57265685   \n",
       "2022-02-25  444.850006  465.700012  441.600006  459.750000  48876182   \n",
       "\n",
       "            Dividends  Stock Splits  \n",
       "Date                                 \n",
       "2022-02-21          0             0  \n",
       "2022-02-22          0             0  \n",
       "2022-02-23          0             0  \n",
       "2022-02-24          0             0  \n",
       "2022-02-25          0             0  "
      ]
     },
     "execution_count": 9,
     "metadata": {},
     "output_type": "execute_result"
    }
   ],
   "source": [
    "data.tail()"
   ]
  },
  {
   "cell_type": "code",
   "execution_count": null,
   "id": "de1e0929",
   "metadata": {},
   "outputs": [],
   "source": []
  }
 ],
 "metadata": {
  "kernelspec": {
   "display_name": "Python 3",
   "language": "python",
   "name": "python3"
  },
  "language_info": {
   "codemirror_mode": {
    "name": "ipython",
    "version": 3
   },
   "file_extension": ".py",
   "mimetype": "text/x-python",
   "name": "python",
   "nbconvert_exporter": "python",
   "pygments_lexer": "ipython3",
   "version": "3.9.7"
  },
  "varInspector": {
   "cols": {
    "lenName": 16,
    "lenType": 16,
    "lenVar": 40
   },
   "kernels_config": {
    "python": {
     "delete_cmd_postfix": "",
     "delete_cmd_prefix": "del ",
     "library": "var_list.py",
     "varRefreshCmd": "print(var_dic_list())"
    },
    "r": {
     "delete_cmd_postfix": ") ",
     "delete_cmd_prefix": "rm(",
     "library": "var_list.r",
     "varRefreshCmd": "cat(var_dic_list()) "
    }
   },
   "types_to_exclude": [
    "module",
    "function",
    "builtin_function_or_method",
    "instance",
    "_Feature"
   ],
   "window_display": false
  }
 },
 "nbformat": 4,
 "nbformat_minor": 5
}
