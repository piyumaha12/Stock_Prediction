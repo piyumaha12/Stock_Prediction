{
 "cells": [
  {
   "cell_type": "code",
   "execution_count": 1,
   "metadata": {},
   "outputs": [
    {
     "name": "stdout",
     "output_type": "stream",
     "text": [
      "Collecting nsepy\n",
      "  Downloading nsepy-0.8.tar.gz (33 kB)\n",
      "  Preparing metadata (setup.py): started\n",
      "  Preparing metadata (setup.py): finished with status 'done'\n",
      "Requirement already satisfied: beautifulsoup4 in c:\\programdata\\anaconda3\\lib\\site-packages (from nsepy) (4.8.2)\n",
      "Requirement already satisfied: requests in c:\\programdata\\anaconda3\\lib\\site-packages (from nsepy) (2.24.0)\n",
      "Requirement already satisfied: numpy in c:\\programdata\\anaconda3\\lib\\site-packages (from nsepy) (1.19.2)\n",
      "Requirement already satisfied: pandas in c:\\programdata\\anaconda3\\lib\\site-packages (from nsepy) (1.1.3)\n",
      "Requirement already satisfied: six in c:\\programdata\\anaconda3\\lib\\site-packages (from nsepy) (1.12.0)\n",
      "Requirement already satisfied: click in c:\\programdata\\anaconda3\\lib\\site-packages (from nsepy) (7.1.2)\n",
      "Requirement already satisfied: lxml in c:\\programdata\\anaconda3\\lib\\site-packages (from nsepy) (4.6.1)\n",
      "Requirement already satisfied: soupsieve>=1.2 in c:\\programdata\\anaconda3\\lib\\site-packages (from beautifulsoup4->nsepy) (2.0.1)\n",
      "Requirement already satisfied: python-dateutil>=2.7.3 in c:\\programdata\\anaconda3\\lib\\site-packages (from pandas->nsepy) (2.8.1)\n",
      "Requirement already satisfied: pytz>=2017.2 in c:\\programdata\\anaconda3\\lib\\site-packages (from pandas->nsepy) (2020.1)\n",
      "Requirement already satisfied: urllib3!=1.25.0,!=1.25.1,<1.26,>=1.21.1 in c:\\programdata\\anaconda3\\lib\\site-packages (from requests->nsepy) (1.25.11)\n",
      "Requirement already satisfied: certifi>=2017.4.17 in c:\\programdata\\anaconda3\\lib\\site-packages (from requests->nsepy) (2020.6.20)\n",
      "Requirement already satisfied: idna<3,>=2.5 in c:\\programdata\\anaconda3\\lib\\site-packages (from requests->nsepy) (2.10)\n",
      "Requirement already satisfied: chardet<4,>=3.0.2 in c:\\programdata\\anaconda3\\lib\\site-packages (from requests->nsepy) (3.0.4)\n",
      "Building wheels for collected packages: nsepy\n",
      "  Building wheel for nsepy (setup.py): started\n",
      "  Building wheel for nsepy (setup.py): finished with status 'done'\n",
      "  Created wheel for nsepy: filename=nsepy-0.8-py3-none-any.whl size=36088 sha256=dbab022c0e0efecba205ce55e2f4d0ce4435f368bfd27e4eaa2668a6c3dc9959\n",
      "  Stored in directory: c:\\users\\tushar\\appdata\\local\\pip\\cache\\wheels\\b9\\2c\\cb\\d74199e422a1dbc20297d10cfff9c54d03e0b5c6694d49ccdd\n",
      "Successfully built nsepy\n",
      "Installing collected packages: nsepy\n",
      "Successfully installed nsepy-0.8\n"
     ]
    },
    {
     "name": "stderr",
     "output_type": "stream",
     "text": [
      "WARNING: Ignoring invalid distribution - (c:\\programdata\\anaconda3\\lib\\site-packages)\n",
      "WARNING: Ignoring invalid distribution -eautifulsoup4 (c:\\programdata\\anaconda3\\lib\\site-packages)\n",
      "WARNING: Ignoring invalid distribution -cikit-learn (c:\\programdata\\anaconda3\\lib\\site-packages)\n",
      "WARNING: Ignoring invalid distribution - (c:\\programdata\\anaconda3\\lib\\site-packages)\n",
      "WARNING: Ignoring invalid distribution -eautifulsoup4 (c:\\programdata\\anaconda3\\lib\\site-packages)\n",
      "WARNING: Ignoring invalid distribution -cikit-learn (c:\\programdata\\anaconda3\\lib\\site-packages)\n",
      "WARNING: Ignoring invalid distribution - (c:\\programdata\\anaconda3\\lib\\site-packages)\n",
      "WARNING: Ignoring invalid distribution -eautifulsoup4 (c:\\programdata\\anaconda3\\lib\\site-packages)\n",
      "WARNING: Ignoring invalid distribution -cikit-learn (c:\\programdata\\anaconda3\\lib\\site-packages)\n",
      "WARNING: Ignoring invalid distribution - (c:\\programdata\\anaconda3\\lib\\site-packages)\n",
      "WARNING: Ignoring invalid distribution -eautifulsoup4 (c:\\programdata\\anaconda3\\lib\\site-packages)\n",
      "WARNING: Ignoring invalid distribution -cikit-learn (c:\\programdata\\anaconda3\\lib\\site-packages)\n",
      "WARNING: Ignoring invalid distribution - (c:\\programdata\\anaconda3\\lib\\site-packages)\n",
      "WARNING: Ignoring invalid distribution -eautifulsoup4 (c:\\programdata\\anaconda3\\lib\\site-packages)\n",
      "WARNING: Ignoring invalid distribution -cikit-learn (c:\\programdata\\anaconda3\\lib\\site-packages)\n",
      "WARNING: Ignoring invalid distribution - (c:\\programdata\\anaconda3\\lib\\site-packages)\n",
      "WARNING: Ignoring invalid distribution -eautifulsoup4 (c:\\programdata\\anaconda3\\lib\\site-packages)\n",
      "WARNING: Ignoring invalid distribution -cikit-learn (c:\\programdata\\anaconda3\\lib\\site-packages)\n",
      "WARNING: Ignoring invalid distribution - (c:\\programdata\\anaconda3\\lib\\site-packages)\n",
      "WARNING: Ignoring invalid distribution -eautifulsoup4 (c:\\programdata\\anaconda3\\lib\\site-packages)\n",
      "WARNING: Ignoring invalid distribution -cikit-learn (c:\\programdata\\anaconda3\\lib\\site-packages)\n",
      "WARNING: You are using pip version 21.3.1; however, version 22.0.3 is available.\n",
      "You should consider upgrading via the 'c:\\programdata\\anaconda3\\python.exe -m pip install --upgrade pip' command.\n"
     ]
    }
   ],
   "source": [
    "!pip install nsepy"
   ]
  },
  {
   "cell_type": "code",
   "execution_count": 2,
   "metadata": {},
   "outputs": [],
   "source": [
    "#from datetime import date\n",
    "#from nsepy import get_history\n",
    "#sbin = get_history(symbol='RELIANCE',\n",
    "#                   start=date(2021,1,1),\n",
    "#                   end=date(2022,1,10))"
   ]
  },
  {
   "cell_type": "code",
   "execution_count": 3,
   "metadata": {
    "scrolled": true
   },
   "outputs": [
    {
     "name": "stdout",
     "output_type": "stream",
     "text": [
      "              Symbol Series  Prev Close     Open     High      Low     Last  \\\n",
      "Date                                                                          \n",
      "2021-01-01  RELIANCE     EQ     1985.30  1988.00  1997.00  1982.00  1988.00   \n",
      "2021-01-04  RELIANCE     EQ     1987.50  1995.10  1998.90  1968.00  1990.25   \n",
      "2021-01-05  RELIANCE     EQ     1990.85  1969.00  1983.60  1956.00  1965.00   \n",
      "2021-01-06  RELIANCE     EQ     1966.10  1965.90  1966.00  1905.15  1915.50   \n",
      "2021-01-07  RELIANCE     EQ     1914.25  1920.50  1945.00  1905.15  1912.80   \n",
      "...              ...    ...         ...      ...      ...      ...      ...   \n",
      "2022-01-04  RELIANCE     EQ     2403.85  2415.90  2461.00  2404.00  2460.00   \n",
      "2022-01-05  RELIANCE     EQ     2458.10  2462.00  2477.00  2432.95  2461.85   \n",
      "2022-01-06  RELIANCE     EQ     2469.60  2451.20  2454.00  2409.00  2419.15   \n",
      "2022-01-07  RELIANCE     EQ     2416.50  2430.95  2458.05  2411.55  2439.90   \n",
      "2022-01-10  RELIANCE     EQ     2436.00  2452.00  2457.00  2416.05  2440.20   \n",
      "\n",
      "              Close     VWAP    Volume      Turnover  Trades  \\\n",
      "Date                                                           \n",
      "2021-01-01  1987.50  1989.50   4622002  9.195480e+14  139680   \n",
      "2021-01-04  1990.85  1982.61  11312992  2.242923e+15  316871   \n",
      "2021-01-05  1966.10  1968.87  11132803  2.191902e+15  300233   \n",
      "2021-01-06  1914.25  1928.17  21414270  4.129037e+15  659284   \n",
      "2021-01-07  1911.15  1919.86  14918406  2.864126e+15  454695   \n",
      "...             ...      ...       ...           ...     ...   \n",
      "2022-01-04  2458.10  2437.26   5006225  1.220149e+15  208647   \n",
      "2022-01-05  2469.60  2455.69   5373618  1.319593e+15  210976   \n",
      "2022-01-06  2416.50  2423.21   6667483  1.615674e+15  227953   \n",
      "2022-01-07  2436.00  2436.73   6051239  1.474521e+15  191088   \n",
      "2022-01-10  2438.00  2432.54   4267365  1.038053e+15  214098   \n",
      "\n",
      "            Deliverable Volume  %Deliverble  \n",
      "Date                                         \n",
      "2021-01-01             1013314       0.2192  \n",
      "2021-01-04             3869604       0.3420  \n",
      "2021-01-05             5208047       0.4678  \n",
      "2021-01-06             9038101       0.4221  \n",
      "2021-01-07             6452659       0.4325  \n",
      "...                        ...          ...  \n",
      "2022-01-04             2421857       0.4838  \n",
      "2022-01-05             2963957       0.5516  \n",
      "2022-01-06             3950375       0.5925  \n",
      "2022-01-07             3342839       0.5524  \n",
      "2022-01-10             2152906       0.5045  \n",
      "\n",
      "[254 rows x 14 columns]\n"
     ]
    }
   ],
   "source": [
    "#print(sbin)"
   ]
  },
  {
   "cell_type": "code",
   "execution_count": 1,
   "metadata": {},
   "outputs": [],
   "source": [
    "import pandas as pd\n",
    "from datetime import date\n",
    "from nsepy import get_history"
   ]
  },
  {
   "cell_type": "code",
   "execution_count": 5,
   "metadata": {},
   "outputs": [],
   "source": []
  },
  {
   "cell_type": "code",
   "execution_count": 20,
   "metadata": {},
   "outputs": [
    {
     "data": {
      "text/html": [
       "<div>\n",
       "<style scoped>\n",
       "    .dataframe tbody tr th:only-of-type {\n",
       "        vertical-align: middle;\n",
       "    }\n",
       "\n",
       "    .dataframe tbody tr th {\n",
       "        vertical-align: top;\n",
       "    }\n",
       "\n",
       "    .dataframe thead th {\n",
       "        text-align: right;\n",
       "    }\n",
       "</style>\n",
       "<table border=\"1\" class=\"dataframe\">\n",
       "  <thead>\n",
       "    <tr style=\"text-align: right;\">\n",
       "      <th></th>\n",
       "      <th>Symbol</th>\n",
       "      <th>Series</th>\n",
       "      <th>Prev Close</th>\n",
       "      <th>Open</th>\n",
       "      <th>High</th>\n",
       "      <th>Low</th>\n",
       "      <th>Last</th>\n",
       "      <th>Close</th>\n",
       "      <th>VWAP</th>\n",
       "      <th>Volume</th>\n",
       "      <th>Turnover</th>\n",
       "      <th>Trades</th>\n",
       "      <th>Deliverable Volume</th>\n",
       "      <th>%Deliverble</th>\n",
       "    </tr>\n",
       "    <tr>\n",
       "      <th>Date</th>\n",
       "      <th></th>\n",
       "      <th></th>\n",
       "      <th></th>\n",
       "      <th></th>\n",
       "      <th></th>\n",
       "      <th></th>\n",
       "      <th></th>\n",
       "      <th></th>\n",
       "      <th></th>\n",
       "      <th></th>\n",
       "      <th></th>\n",
       "      <th></th>\n",
       "      <th></th>\n",
       "      <th></th>\n",
       "    </tr>\n",
       "  </thead>\n",
       "  <tbody>\n",
       "    <tr>\n",
       "      <th>2020-10-19</th>\n",
       "      <td>RELIANCE</td>\n",
       "      <td>EQ</td>\n",
       "      <td>2175.80</td>\n",
       "      <td>2190.05</td>\n",
       "      <td>2228.7</td>\n",
       "      <td>2155.15</td>\n",
       "      <td>2175.50</td>\n",
       "      <td>2176.20</td>\n",
       "      <td>2189.75</td>\n",
       "      <td>14399062</td>\n",
       "      <td>3.153033e+15</td>\n",
       "      <td>363717</td>\n",
       "      <td>3772907</td>\n",
       "      <td>0.2620</td>\n",
       "    </tr>\n",
       "    <tr>\n",
       "      <th>2020-10-20</th>\n",
       "      <td>RELIANCE</td>\n",
       "      <td>EQ</td>\n",
       "      <td>2176.20</td>\n",
       "      <td>2179.00</td>\n",
       "      <td>2193.0</td>\n",
       "      <td>2152.25</td>\n",
       "      <td>2155.85</td>\n",
       "      <td>2155.90</td>\n",
       "      <td>2166.54</td>\n",
       "      <td>8529621</td>\n",
       "      <td>1.847974e+15</td>\n",
       "      <td>275082</td>\n",
       "      <td>2119328</td>\n",
       "      <td>0.2485</td>\n",
       "    </tr>\n",
       "    <tr>\n",
       "      <th>2020-10-21</th>\n",
       "      <td>RELIANCE</td>\n",
       "      <td>EQ</td>\n",
       "      <td>2155.90</td>\n",
       "      <td>2168.00</td>\n",
       "      <td>2192.0</td>\n",
       "      <td>2097.75</td>\n",
       "      <td>2122.65</td>\n",
       "      <td>2124.60</td>\n",
       "      <td>2143.87</td>\n",
       "      <td>15729989</td>\n",
       "      <td>3.372313e+15</td>\n",
       "      <td>399065</td>\n",
       "      <td>3975978</td>\n",
       "      <td>0.2528</td>\n",
       "    </tr>\n",
       "    <tr>\n",
       "      <th>2020-10-22</th>\n",
       "      <td>RELIANCE</td>\n",
       "      <td>EQ</td>\n",
       "      <td>2124.60</td>\n",
       "      <td>2127.40</td>\n",
       "      <td>2132.5</td>\n",
       "      <td>2091.00</td>\n",
       "      <td>2111.90</td>\n",
       "      <td>2106.95</td>\n",
       "      <td>2107.04</td>\n",
       "      <td>14215255</td>\n",
       "      <td>2.995212e+15</td>\n",
       "      <td>391498</td>\n",
       "      <td>5836281</td>\n",
       "      <td>0.4106</td>\n",
       "    </tr>\n",
       "    <tr>\n",
       "      <th>2020-10-23</th>\n",
       "      <td>RELIANCE</td>\n",
       "      <td>EQ</td>\n",
       "      <td>2106.95</td>\n",
       "      <td>2106.00</td>\n",
       "      <td>2135.0</td>\n",
       "      <td>2096.40</td>\n",
       "      <td>2112.00</td>\n",
       "      <td>2113.05</td>\n",
       "      <td>2118.90</td>\n",
       "      <td>10809383</td>\n",
       "      <td>2.290405e+15</td>\n",
       "      <td>265187</td>\n",
       "      <td>3551502</td>\n",
       "      <td>0.3286</td>\n",
       "    </tr>\n",
       "  </tbody>\n",
       "</table>\n",
       "</div>"
      ],
      "text/plain": [
       "              Symbol Series  Prev Close     Open    High      Low     Last  \\\n",
       "Date                                                                         \n",
       "2020-10-19  RELIANCE     EQ     2175.80  2190.05  2228.7  2155.15  2175.50   \n",
       "2020-10-20  RELIANCE     EQ     2176.20  2179.00  2193.0  2152.25  2155.85   \n",
       "2020-10-21  RELIANCE     EQ     2155.90  2168.00  2192.0  2097.75  2122.65   \n",
       "2020-10-22  RELIANCE     EQ     2124.60  2127.40  2132.5  2091.00  2111.90   \n",
       "2020-10-23  RELIANCE     EQ     2106.95  2106.00  2135.0  2096.40  2112.00   \n",
       "\n",
       "              Close     VWAP    Volume      Turnover  Trades  \\\n",
       "Date                                                           \n",
       "2020-10-19  2176.20  2189.75  14399062  3.153033e+15  363717   \n",
       "2020-10-20  2155.90  2166.54   8529621  1.847974e+15  275082   \n",
       "2020-10-21  2124.60  2143.87  15729989  3.372313e+15  399065   \n",
       "2020-10-22  2106.95  2107.04  14215255  2.995212e+15  391498   \n",
       "2020-10-23  2113.05  2118.90  10809383  2.290405e+15  265187   \n",
       "\n",
       "            Deliverable Volume  %Deliverble  \n",
       "Date                                         \n",
       "2020-10-19             3772907       0.2620  \n",
       "2020-10-20             2119328       0.2485  \n",
       "2020-10-21             3975978       0.2528  \n",
       "2020-10-22             5836281       0.4106  \n",
       "2020-10-23             3551502       0.3286  "
      ]
     },
     "execution_count": 20,
     "metadata": {},
     "output_type": "execute_result"
    }
   ],
   "source": [
    "#sbin.head()"
   ]
  },
  {
   "cell_type": "code",
   "execution_count": 2,
   "metadata": {},
   "outputs": [],
   "source": [
    "import datetime\n",
    "import nsepy"
   ]
  },
  {
   "cell_type": "code",
   "execution_count": 8,
   "metadata": {},
   "outputs": [
    {
     "data": {
      "text/plain": [
       "datetime.date(2022, 3, 3)"
      ]
     },
     "execution_count": 8,
     "metadata": {},
     "output_type": "execute_result"
    }
   ],
   "source": [
    "#datetime.date.today()"
   ]
  },
  {
   "cell_type": "code",
   "execution_count": 9,
   "metadata": {},
   "outputs": [
    {
     "data": {
      "text/plain": [
       "datetime.date(2020, 10, 19)"
      ]
     },
     "execution_count": 9,
     "metadata": {},
     "output_type": "execute_result"
    }
   ],
   "source": [
    "#datetime.date.today() + datetime.timedelta(-500)"
   ]
  },
  {
   "cell_type": "code",
   "execution_count": 3,
   "metadata": {},
   "outputs": [],
   "source": [
    "def getHistoricalData(stockName):\n",
    "    today = datetime.date.today()\n",
    "    duration = 500\n",
    "    start = today + datetime.timedelta(-duration)\n",
    "    \n",
    "    stockData = nsepy.get_history(symbol=stockName,start=start, end=today)\n",
    "    return stockData\n",
    "\n",
    "df = getHistoricalData('RELIANCE')"
   ]
  },
  {
   "cell_type": "code",
   "execution_count": 4,
   "metadata": {},
   "outputs": [
    {
     "data": {
      "text/html": [
       "<div>\n",
       "<style scoped>\n",
       "    .dataframe tbody tr th:only-of-type {\n",
       "        vertical-align: middle;\n",
       "    }\n",
       "\n",
       "    .dataframe tbody tr th {\n",
       "        vertical-align: top;\n",
       "    }\n",
       "\n",
       "    .dataframe thead th {\n",
       "        text-align: right;\n",
       "    }\n",
       "</style>\n",
       "<table border=\"1\" class=\"dataframe\">\n",
       "  <thead>\n",
       "    <tr style=\"text-align: right;\">\n",
       "      <th></th>\n",
       "      <th>Symbol</th>\n",
       "      <th>Series</th>\n",
       "      <th>Prev Close</th>\n",
       "      <th>Open</th>\n",
       "      <th>High</th>\n",
       "      <th>Low</th>\n",
       "      <th>Last</th>\n",
       "      <th>Close</th>\n",
       "      <th>VWAP</th>\n",
       "      <th>Volume</th>\n",
       "      <th>Turnover</th>\n",
       "      <th>Trades</th>\n",
       "      <th>Deliverable Volume</th>\n",
       "      <th>%Deliverble</th>\n",
       "    </tr>\n",
       "    <tr>\n",
       "      <th>Date</th>\n",
       "      <th></th>\n",
       "      <th></th>\n",
       "      <th></th>\n",
       "      <th></th>\n",
       "      <th></th>\n",
       "      <th></th>\n",
       "      <th></th>\n",
       "      <th></th>\n",
       "      <th></th>\n",
       "      <th></th>\n",
       "      <th></th>\n",
       "      <th></th>\n",
       "      <th></th>\n",
       "      <th></th>\n",
       "    </tr>\n",
       "  </thead>\n",
       "  <tbody>\n",
       "    <tr>\n",
       "      <th>2020-10-22</th>\n",
       "      <td>RELIANCE</td>\n",
       "      <td>EQ</td>\n",
       "      <td>2124.60</td>\n",
       "      <td>2127.40</td>\n",
       "      <td>2132.50</td>\n",
       "      <td>2091.00</td>\n",
       "      <td>2111.90</td>\n",
       "      <td>2106.95</td>\n",
       "      <td>2107.04</td>\n",
       "      <td>14215255</td>\n",
       "      <td>2.995212e+15</td>\n",
       "      <td>391498</td>\n",
       "      <td>5836281</td>\n",
       "      <td>0.4106</td>\n",
       "    </tr>\n",
       "    <tr>\n",
       "      <th>2020-10-23</th>\n",
       "      <td>RELIANCE</td>\n",
       "      <td>EQ</td>\n",
       "      <td>2106.95</td>\n",
       "      <td>2106.00</td>\n",
       "      <td>2135.00</td>\n",
       "      <td>2096.40</td>\n",
       "      <td>2112.00</td>\n",
       "      <td>2113.05</td>\n",
       "      <td>2118.90</td>\n",
       "      <td>10809383</td>\n",
       "      <td>2.290405e+15</td>\n",
       "      <td>265187</td>\n",
       "      <td>3551502</td>\n",
       "      <td>0.3286</td>\n",
       "    </tr>\n",
       "    <tr>\n",
       "      <th>2020-10-26</th>\n",
       "      <td>RELIANCE</td>\n",
       "      <td>EQ</td>\n",
       "      <td>2113.05</td>\n",
       "      <td>2101.95</td>\n",
       "      <td>2101.95</td>\n",
       "      <td>2018.50</td>\n",
       "      <td>2034.90</td>\n",
       "      <td>2029.10</td>\n",
       "      <td>2052.69</td>\n",
       "      <td>17225340</td>\n",
       "      <td>3.535832e+15</td>\n",
       "      <td>581238</td>\n",
       "      <td>6324776</td>\n",
       "      <td>0.3672</td>\n",
       "    </tr>\n",
       "    <tr>\n",
       "      <th>2020-10-27</th>\n",
       "      <td>RELIANCE</td>\n",
       "      <td>EQ</td>\n",
       "      <td>2029.10</td>\n",
       "      <td>2034.90</td>\n",
       "      <td>2059.85</td>\n",
       "      <td>2005.00</td>\n",
       "      <td>2034.40</td>\n",
       "      <td>2034.50</td>\n",
       "      <td>2026.38</td>\n",
       "      <td>16835011</td>\n",
       "      <td>3.411409e+15</td>\n",
       "      <td>462764</td>\n",
       "      <td>5199796</td>\n",
       "      <td>0.3089</td>\n",
       "    </tr>\n",
       "    <tr>\n",
       "      <th>2020-10-28</th>\n",
       "      <td>RELIANCE</td>\n",
       "      <td>EQ</td>\n",
       "      <td>2034.50</td>\n",
       "      <td>2041.80</td>\n",
       "      <td>2057.70</td>\n",
       "      <td>2007.40</td>\n",
       "      <td>2008.90</td>\n",
       "      <td>2011.45</td>\n",
       "      <td>2026.02</td>\n",
       "      <td>13810054</td>\n",
       "      <td>2.797944e+15</td>\n",
       "      <td>413849</td>\n",
       "      <td>4822048</td>\n",
       "      <td>0.3492</td>\n",
       "    </tr>\n",
       "    <tr>\n",
       "      <th>...</th>\n",
       "      <td>...</td>\n",
       "      <td>...</td>\n",
       "      <td>...</td>\n",
       "      <td>...</td>\n",
       "      <td>...</td>\n",
       "      <td>...</td>\n",
       "      <td>...</td>\n",
       "      <td>...</td>\n",
       "      <td>...</td>\n",
       "      <td>...</td>\n",
       "      <td>...</td>\n",
       "      <td>...</td>\n",
       "      <td>...</td>\n",
       "      <td>...</td>\n",
       "    </tr>\n",
       "    <tr>\n",
       "      <th>2022-02-25</th>\n",
       "      <td>RELIANCE</td>\n",
       "      <td>EQ</td>\n",
       "      <td>2255.75</td>\n",
       "      <td>2280.10</td>\n",
       "      <td>2307.95</td>\n",
       "      <td>2276.25</td>\n",
       "      <td>2283.00</td>\n",
       "      <td>2283.95</td>\n",
       "      <td>2290.84</td>\n",
       "      <td>6724094</td>\n",
       "      <td>1.540384e+15</td>\n",
       "      <td>281047</td>\n",
       "      <td>3670287</td>\n",
       "      <td>0.5458</td>\n",
       "    </tr>\n",
       "    <tr>\n",
       "      <th>2022-02-28</th>\n",
       "      <td>RELIANCE</td>\n",
       "      <td>EQ</td>\n",
       "      <td>2283.95</td>\n",
       "      <td>2243.00</td>\n",
       "      <td>2367.35</td>\n",
       "      <td>2243.00</td>\n",
       "      <td>2355.00</td>\n",
       "      <td>2359.55</td>\n",
       "      <td>2328.64</td>\n",
       "      <td>9828768</td>\n",
       "      <td>2.288768e+15</td>\n",
       "      <td>240020</td>\n",
       "      <td>5321030</td>\n",
       "      <td>0.5414</td>\n",
       "    </tr>\n",
       "    <tr>\n",
       "      <th>2022-03-02</th>\n",
       "      <td>RELIANCE</td>\n",
       "      <td>EQ</td>\n",
       "      <td>2359.55</td>\n",
       "      <td>2334.45</td>\n",
       "      <td>2401.00</td>\n",
       "      <td>2329.20</td>\n",
       "      <td>2399.25</td>\n",
       "      <td>2398.55</td>\n",
       "      <td>2376.69</td>\n",
       "      <td>9909226</td>\n",
       "      <td>2.355116e+15</td>\n",
       "      <td>309328</td>\n",
       "      <td>6277829</td>\n",
       "      <td>0.6335</td>\n",
       "    </tr>\n",
       "    <tr>\n",
       "      <th>2022-03-03</th>\n",
       "      <td>RELIANCE</td>\n",
       "      <td>EQ</td>\n",
       "      <td>2398.55</td>\n",
       "      <td>2400.00</td>\n",
       "      <td>2414.85</td>\n",
       "      <td>2370.05</td>\n",
       "      <td>2382.00</td>\n",
       "      <td>2378.30</td>\n",
       "      <td>2392.27</td>\n",
       "      <td>4701183</td>\n",
       "      <td>1.124648e+15</td>\n",
       "      <td>230143</td>\n",
       "      <td>2479449</td>\n",
       "      <td>0.5274</td>\n",
       "    </tr>\n",
       "    <tr>\n",
       "      <th>2022-03-04</th>\n",
       "      <td>RELIANCE</td>\n",
       "      <td>EQ</td>\n",
       "      <td>2378.30</td>\n",
       "      <td>2353.00</td>\n",
       "      <td>2364.30</td>\n",
       "      <td>2320.35</td>\n",
       "      <td>2327.95</td>\n",
       "      <td>2325.55</td>\n",
       "      <td>2338.20</td>\n",
       "      <td>4986814</td>\n",
       "      <td>1.166015e+15</td>\n",
       "      <td>219860</td>\n",
       "      <td>2754095</td>\n",
       "      <td>0.5523</td>\n",
       "    </tr>\n",
       "  </tbody>\n",
       "</table>\n",
       "<p>340 rows × 14 columns</p>\n",
       "</div>"
      ],
      "text/plain": [
       "              Symbol Series  Prev Close     Open  ...      Turnover  Trades  Deliverable Volume  %Deliverble\n",
       "Date                                              ...                                                       \n",
       "2020-10-22  RELIANCE     EQ     2124.60  2127.40  ...  2.995212e+15  391498             5836281       0.4106\n",
       "2020-10-23  RELIANCE     EQ     2106.95  2106.00  ...  2.290405e+15  265187             3551502       0.3286\n",
       "2020-10-26  RELIANCE     EQ     2113.05  2101.95  ...  3.535832e+15  581238             6324776       0.3672\n",
       "2020-10-27  RELIANCE     EQ     2029.10  2034.90  ...  3.411409e+15  462764             5199796       0.3089\n",
       "2020-10-28  RELIANCE     EQ     2034.50  2041.80  ...  2.797944e+15  413849             4822048       0.3492\n",
       "...              ...    ...         ...      ...  ...           ...     ...                 ...          ...\n",
       "2022-02-25  RELIANCE     EQ     2255.75  2280.10  ...  1.540384e+15  281047             3670287       0.5458\n",
       "2022-02-28  RELIANCE     EQ     2283.95  2243.00  ...  2.288768e+15  240020             5321030       0.5414\n",
       "2022-03-02  RELIANCE     EQ     2359.55  2334.45  ...  2.355116e+15  309328             6277829       0.6335\n",
       "2022-03-03  RELIANCE     EQ     2398.55  2400.00  ...  1.124648e+15  230143             2479449       0.5274\n",
       "2022-03-04  RELIANCE     EQ     2378.30  2353.00  ...  1.166015e+15  219860             2754095       0.5523\n",
       "\n",
       "[340 rows x 14 columns]"
      ]
     },
     "execution_count": 4,
     "metadata": {},
     "output_type": "execute_result"
    }
   ],
   "source": [
    "df"
   ]
  },
  {
   "cell_type": "code",
   "execution_count": 5,
   "metadata": {},
   "outputs": [],
   "source": [
    "df.to_csv('Relience.csv')"
   ]
  },
  {
   "cell_type": "code",
   "execution_count": 6,
   "metadata": {},
   "outputs": [
    {
     "name": "stdout",
     "output_type": "stream",
     "text": [
      "Requirement already satisfied: pandas-profiling in c:\\programdata\\anaconda3\\lib\\site-packages (3.1.0)\n",
      "Requirement already satisfied: pydantic>=1.8.1 in c:\\programdata\\anaconda3\\lib\\site-packages (from pandas-profiling) (1.8.2)\n",
      "Requirement already satisfied: joblib~=1.0.1 in c:\\programdata\\anaconda3\\lib\\site-packages (from pandas-profiling) (1.0.1)\n",
      "Requirement already satisfied: htmlmin>=0.1.12 in c:\\programdata\\anaconda3\\lib\\site-packages (from pandas-profiling) (0.1.12)\n",
      "Requirement already satisfied: requests>=2.24.0 in c:\\programdata\\anaconda3\\lib\\site-packages (from pandas-profiling) (2.24.0)\n",
      "Requirement already satisfied: pandas!=1.0.0,!=1.0.1,!=1.0.2,!=1.1.0,>=0.25.3 in c:\\programdata\\anaconda3\\lib\\site-packages (from pandas-profiling) (1.1.3)\n",
      "Requirement already satisfied: numpy>=1.16.0 in c:\\programdata\\anaconda3\\lib\\site-packages (from pandas-profiling) (1.19.2)\n",
      "Requirement already satisfied: multimethod>=1.4 in c:\\programdata\\anaconda3\\lib\\site-packages (from pandas-profiling) (1.6)\n",
      "Requirement already satisfied: tqdm>=4.48.2 in c:\\programdata\\anaconda3\\lib\\site-packages (from pandas-profiling) (4.50.2)\n",
      "Requirement already satisfied: PyYAML>=5.0.0 in c:\\programdata\\anaconda3\\lib\\site-packages (from pandas-profiling) (5.3.1)\n",
      "Requirement already satisfied: seaborn>=0.10.1 in c:\\programdata\\anaconda3\\lib\\site-packages (from pandas-profiling) (0.11.0)\n",
      "Requirement already satisfied: missingno>=0.4.2 in c:\\programdata\\anaconda3\\lib\\site-packages (from pandas-profiling) (0.5.0)\n",
      "Requirement already satisfied: markupsafe~=2.0.1 in c:\\programdata\\anaconda3\\lib\\site-packages (from pandas-profiling) (2.0.1)\n",
      "Requirement already satisfied: phik>=0.11.1 in c:\\programdata\\anaconda3\\lib\\site-packages (from pandas-profiling) (0.12.0)\n",
      "Requirement already satisfied: tangled-up-in-unicode==0.1.0 in c:\\programdata\\anaconda3\\lib\\site-packages (from pandas-profiling) (0.1.0)\n",
      "Requirement already satisfied: scipy>=1.4.1 in c:\\programdata\\anaconda3\\lib\\site-packages (from pandas-profiling) (1.5.2)\n",
      "Requirement already satisfied: visions[type_image_path]==0.7.4 in c:\\programdata\\anaconda3\\lib\\site-packages (from pandas-profiling) (0.7.4)\n",
      "Requirement already satisfied: jinja2>=2.11.1 in c:\\programdata\\anaconda3\\lib\\site-packages (from pandas-profiling) (2.11.2)\n",
      "Requirement already satisfied: matplotlib>=3.2.0 in c:\\programdata\\anaconda3\\lib\\site-packages (from pandas-profiling) (3.3.2)\n",
      "Requirement already satisfied: networkx>=2.4 in c:\\programdata\\anaconda3\\lib\\site-packages (from visions[type_image_path]==0.7.4->pandas-profiling) (2.5)\n",
      "Requirement already satisfied: attrs>=19.3.0 in c:\\programdata\\anaconda3\\lib\\site-packages (from visions[type_image_path]==0.7.4->pandas-profiling) (20.3.0)\n",
      "Requirement already satisfied: Pillow in c:\\programdata\\anaconda3\\lib\\site-packages (from visions[type_image_path]==0.7.4->pandas-profiling) (8.0.1)\n",
      "Requirement already satisfied: imagehash in c:\\programdata\\anaconda3\\lib\\site-packages (from visions[type_image_path]==0.7.4->pandas-profiling) (4.2.1)\n",
      "Requirement already satisfied: pyparsing!=2.0.4,!=2.1.2,!=2.1.6,>=2.0.3 in c:\\programdata\\anaconda3\\lib\\site-packages (from matplotlib>=3.2.0->pandas-profiling) (2.4.7)\n",
      "Requirement already satisfied: python-dateutil>=2.1 in c:\\programdata\\anaconda3\\lib\\site-packages (from matplotlib>=3.2.0->pandas-profiling) (2.8.1)\n",
      "Requirement already satisfied: kiwisolver>=1.0.1 in c:\\programdata\\anaconda3\\lib\\site-packages (from matplotlib>=3.2.0->pandas-profiling) (1.3.0)\n",
      "Requirement already satisfied: cycler>=0.10 in c:\\programdata\\anaconda3\\lib\\site-packages (from matplotlib>=3.2.0->pandas-profiling) (0.10.0)\n",
      "Requirement already satisfied: certifi>=2020.06.20 in c:\\programdata\\anaconda3\\lib\\site-packages (from matplotlib>=3.2.0->pandas-profiling) (2020.6.20)\n",
      "Requirement already satisfied: pytz>=2017.2 in c:\\programdata\\anaconda3\\lib\\site-packages (from pandas!=1.0.0,!=1.0.1,!=1.0.2,!=1.1.0,>=0.25.3->pandas-profiling) (2020.1)\n",
      "Requirement already satisfied: typing-extensions>=3.7.4.3 in c:\\programdata\\anaconda3\\lib\\site-packages (from pydantic>=1.8.1->pandas-profiling) (3.7.4.3)\n",
      "Requirement already satisfied: idna<3,>=2.5 in c:\\programdata\\anaconda3\\lib\\site-packages (from requests>=2.24.0->pandas-profiling) (2.10)\n",
      "Requirement already satisfied: urllib3!=1.25.0,!=1.25.1,<1.26,>=1.21.1 in c:\\programdata\\anaconda3\\lib\\site-packages (from requests>=2.24.0->pandas-profiling) (1.25.11)\n",
      "Requirement already satisfied: chardet<4,>=3.0.2 in c:\\programdata\\anaconda3\\lib\\site-packages (from requests>=2.24.0->pandas-profiling) (3.0.4)\n",
      "Requirement already satisfied: six in c:\\programdata\\anaconda3\\lib\\site-packages (from cycler>=0.10->matplotlib>=3.2.0->pandas-profiling) (1.12.0)\n",
      "Requirement already satisfied: decorator>=4.3.0 in c:\\programdata\\anaconda3\\lib\\site-packages (from networkx>=2.4->visions[type_image_path]==0.7.4->pandas-profiling) (4.4.2)\n",
      "Requirement already satisfied: PyWavelets in c:\\programdata\\anaconda3\\lib\\site-packages (from imagehash->visions[type_image_path]==0.7.4->pandas-profiling) (1.1.1)\n"
     ]
    },
    {
     "name": "stderr",
     "output_type": "stream",
     "text": [
      "WARNING: Ignoring invalid distribution - (c:\\programdata\\anaconda3\\lib\\site-packages)\n",
      "WARNING: Ignoring invalid distribution -eautifulsoup4 (c:\\programdata\\anaconda3\\lib\\site-packages)\n",
      "WARNING: Ignoring invalid distribution -cikit-learn (c:\\programdata\\anaconda3\\lib\\site-packages)\n",
      "WARNING: Ignoring invalid distribution - (c:\\programdata\\anaconda3\\lib\\site-packages)\n",
      "WARNING: Ignoring invalid distribution -eautifulsoup4 (c:\\programdata\\anaconda3\\lib\\site-packages)\n",
      "WARNING: Ignoring invalid distribution -cikit-learn (c:\\programdata\\anaconda3\\lib\\site-packages)\n",
      "WARNING: Ignoring invalid distribution - (c:\\programdata\\anaconda3\\lib\\site-packages)\n",
      "WARNING: Ignoring invalid distribution -eautifulsoup4 (c:\\programdata\\anaconda3\\lib\\site-packages)\n",
      "WARNING: Ignoring invalid distribution -cikit-learn (c:\\programdata\\anaconda3\\lib\\site-packages)\n",
      "WARNING: Ignoring invalid distribution - (c:\\programdata\\anaconda3\\lib\\site-packages)\n",
      "WARNING: Ignoring invalid distribution -eautifulsoup4 (c:\\programdata\\anaconda3\\lib\\site-packages)\n",
      "WARNING: Ignoring invalid distribution -cikit-learn (c:\\programdata\\anaconda3\\lib\\site-packages)\n",
      "WARNING: Ignoring invalid distribution - (c:\\programdata\\anaconda3\\lib\\site-packages)\n",
      "WARNING: Ignoring invalid distribution -eautifulsoup4 (c:\\programdata\\anaconda3\\lib\\site-packages)\n",
      "WARNING: Ignoring invalid distribution -cikit-learn (c:\\programdata\\anaconda3\\lib\\site-packages)\n",
      "WARNING: Ignoring invalid distribution - (c:\\programdata\\anaconda3\\lib\\site-packages)\n",
      "WARNING: Ignoring invalid distribution -eautifulsoup4 (c:\\programdata\\anaconda3\\lib\\site-packages)\n",
      "WARNING: Ignoring invalid distribution -cikit-learn (c:\\programdata\\anaconda3\\lib\\site-packages)\n",
      "WARNING: You are using pip version 21.3.1; however, version 22.0.3 is available.\n",
      "You should consider upgrading via the 'c:\\programdata\\anaconda3\\python.exe -m pip install --upgrade pip' command.\n"
     ]
    }
   ],
   "source": [
    "!pip install pandas-profiling"
   ]
  },
  {
   "cell_type": "code",
   "execution_count": 7,
   "metadata": {},
   "outputs": [
    {
     "data": {
      "application/vnd.jupyter.widget-view+json": {
       "model_id": "966326cbca74434ea71c76c544005289",
       "version_major": 2,
       "version_minor": 0
      },
      "text/plain": [
       "HBox(children=(HTML(value='Summarize dataset'), FloatProgress(value=0.0, max=5.0), HTML(value='')))"
      ]
     },
     "metadata": {},
     "output_type": "display_data"
    },
    {
     "name": "stdout",
     "output_type": "stream",
     "text": [
      "\n"
     ]
    },
    {
     "data": {
      "application/vnd.jupyter.widget-view+json": {
       "model_id": "549c7c497b644fbd935842a480f7ad2b",
       "version_major": 2,
       "version_minor": 0
      },
      "text/plain": [
       "HBox(children=(HTML(value='Generate report structure'), FloatProgress(value=0.0, max=1.0), HTML(value='')))"
      ]
     },
     "metadata": {},
     "output_type": "display_data"
    },
    {
     "name": "stdout",
     "output_type": "stream",
     "text": [
      "\n"
     ]
    },
    {
     "data": {
      "application/vnd.jupyter.widget-view+json": {
       "model_id": "a4b36d52f64a4d0fa2ea2b494746129d",
       "version_major": 2,
       "version_minor": 0
      },
      "text/plain": [
       "HBox(children=(HTML(value='Render HTML'), FloatProgress(value=0.0, max=1.0), HTML(value='')))"
      ]
     },
     "metadata": {},
     "output_type": "display_data"
    },
    {
     "name": "stdout",
     "output_type": "stream",
     "text": [
      "\n"
     ]
    },
    {
     "data": {
      "application/vnd.jupyter.widget-view+json": {
       "model_id": "2f24a5bfd7c2440483756aeb981f502a",
       "version_major": 2,
       "version_minor": 0
      },
      "text/plain": [
       "HBox(children=(HTML(value='Export report to file'), FloatProgress(value=0.0, max=1.0), HTML(value='')))"
      ]
     },
     "metadata": {},
     "output_type": "display_data"
    },
    {
     "name": "stdout",
     "output_type": "stream",
     "text": [
      "\n"
     ]
    }
   ],
   "source": [
    "from pandas_profiling import ProfileReport\n",
    "prof = ProfileReport(df)\n",
    "prof.to_file(output_file='output.html')"
   ]
  },
  {
   "cell_type": "code",
   "execution_count": null,
   "metadata": {},
   "outputs": [],
   "source": []
  }
 ],
 "metadata": {
  "kernelspec": {
   "display_name": "Python 3",
   "language": "python",
   "name": "python3"
  },
  "language_info": {
   "codemirror_mode": {
    "name": "ipython",
    "version": 3
   },
   "file_extension": ".py",
   "mimetype": "text/x-python",
   "name": "python",
   "nbconvert_exporter": "python",
   "pygments_lexer": "ipython3",
   "version": "3.8.5"
  }
 },
 "nbformat": 4,
 "nbformat_minor": 4
}
