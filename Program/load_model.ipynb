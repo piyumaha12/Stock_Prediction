{
 "cells": [
  {
   "cell_type": "code",
   "execution_count": 1,
   "metadata": {},
   "outputs": [],
   "source": [
    "import tensorflow as tf\n",
    "import pandas as pd\n",
    "import numpy as np\n",
    "import matplotlib.pyplot as plt\n",
    "\n",
    "\n",
    "from tensorflow.keras import Model\n",
    "from tensorflow.keras import layers\n",
    "from tensorflow.keras.layers import LSTM, Dense, Bidirectional, GRU\n",
    "from tensorflow.keras.utils import plot_model\n",
    "from tensorflow.keras import Sequential\n",
    "\n",
    "%matplotlib inline"
   ]
  },
  {
   "cell_type": "code",
   "execution_count": 29,
   "metadata": {},
   "outputs": [],
   "source": [
    "MODEL_SAVE_PATH = './model_weights/'\n",
    "RANDOM_SEED = 15"
   ]
  },
  {
   "cell_type": "markdown",
   "metadata": {},
   "source": [
    "# Importing Data"
   ]
  },
  {
   "cell_type": "code",
   "execution_count": 3,
   "metadata": {},
   "outputs": [],
   "source": [
    "reliance = pd.read_csv('H:\\Excelr\\Project\\Stock_Prediction\\Program\\Reliance_5_years.csv')"
   ]
  },
  {
   "cell_type": "code",
   "execution_count": 4,
   "metadata": {},
   "outputs": [
    {
     "data": {
      "text/html": [
       "<div>\n",
       "<style scoped>\n",
       "    .dataframe tbody tr th:only-of-type {\n",
       "        vertical-align: middle;\n",
       "    }\n",
       "\n",
       "    .dataframe tbody tr th {\n",
       "        vertical-align: top;\n",
       "    }\n",
       "\n",
       "    .dataframe thead th {\n",
       "        text-align: right;\n",
       "    }\n",
       "</style>\n",
       "<table border=\"1\" class=\"dataframe\">\n",
       "  <thead>\n",
       "    <tr style=\"text-align: right;\">\n",
       "      <th></th>\n",
       "      <th>Date</th>\n",
       "      <th>Symbol</th>\n",
       "      <th>Series</th>\n",
       "      <th>Prev Close</th>\n",
       "      <th>Open</th>\n",
       "      <th>High</th>\n",
       "      <th>Low</th>\n",
       "      <th>Last</th>\n",
       "      <th>Close</th>\n",
       "      <th>VWAP</th>\n",
       "      <th>Volume</th>\n",
       "      <th>Turnover</th>\n",
       "      <th>Trades</th>\n",
       "      <th>Deliverable Volume</th>\n",
       "      <th>%Deliverble</th>\n",
       "    </tr>\n",
       "  </thead>\n",
       "  <tbody>\n",
       "    <tr>\n",
       "      <th>0</th>\n",
       "      <td>2017-01-02</td>\n",
       "      <td>RELIANCE</td>\n",
       "      <td>EQ</td>\n",
       "      <td>1082.40</td>\n",
       "      <td>1084.00</td>\n",
       "      <td>1090.0</td>\n",
       "      <td>1072.35</td>\n",
       "      <td>1086.70</td>\n",
       "      <td>1085.10</td>\n",
       "      <td>1086.63</td>\n",
       "      <td>1622458</td>\n",
       "      <td>1.763016e+14</td>\n",
       "      <td>38903</td>\n",
       "      <td>881915</td>\n",
       "      <td>0.5436</td>\n",
       "    </tr>\n",
       "    <tr>\n",
       "      <th>1</th>\n",
       "      <td>2017-01-03</td>\n",
       "      <td>RELIANCE</td>\n",
       "      <td>EQ</td>\n",
       "      <td>1085.10</td>\n",
       "      <td>1089.85</td>\n",
       "      <td>1097.0</td>\n",
       "      <td>1081.10</td>\n",
       "      <td>1089.00</td>\n",
       "      <td>1089.40</td>\n",
       "      <td>1091.74</td>\n",
       "      <td>1470751</td>\n",
       "      <td>1.605682e+14</td>\n",
       "      <td>31291</td>\n",
       "      <td>776985</td>\n",
       "      <td>0.5283</td>\n",
       "    </tr>\n",
       "    <tr>\n",
       "      <th>2</th>\n",
       "      <td>2017-01-04</td>\n",
       "      <td>RELIANCE</td>\n",
       "      <td>EQ</td>\n",
       "      <td>1089.40</td>\n",
       "      <td>1092.90</td>\n",
       "      <td>1093.0</td>\n",
       "      <td>1064.30</td>\n",
       "      <td>1067.15</td>\n",
       "      <td>1067.15</td>\n",
       "      <td>1072.39</td>\n",
       "      <td>2375547</td>\n",
       "      <td>2.547514e+14</td>\n",
       "      <td>70540</td>\n",
       "      <td>1516724</td>\n",
       "      <td>0.6385</td>\n",
       "    </tr>\n",
       "    <tr>\n",
       "      <th>3</th>\n",
       "      <td>2017-01-05</td>\n",
       "      <td>RELIANCE</td>\n",
       "      <td>EQ</td>\n",
       "      <td>1067.15</td>\n",
       "      <td>1071.00</td>\n",
       "      <td>1079.9</td>\n",
       "      <td>1068.75</td>\n",
       "      <td>1077.00</td>\n",
       "      <td>1077.40</td>\n",
       "      <td>1077.12</td>\n",
       "      <td>1996483</td>\n",
       "      <td>2.150452e+14</td>\n",
       "      <td>84058</td>\n",
       "      <td>1272212</td>\n",
       "      <td>0.6372</td>\n",
       "    </tr>\n",
       "    <tr>\n",
       "      <th>4</th>\n",
       "      <td>2017-01-06</td>\n",
       "      <td>RELIANCE</td>\n",
       "      <td>EQ</td>\n",
       "      <td>1077.40</td>\n",
       "      <td>1074.20</td>\n",
       "      <td>1085.0</td>\n",
       "      <td>1073.10</td>\n",
       "      <td>1073.95</td>\n",
       "      <td>1074.95</td>\n",
       "      <td>1078.77</td>\n",
       "      <td>1793427</td>\n",
       "      <td>1.934704e+14</td>\n",
       "      <td>66643</td>\n",
       "      <td>1121595</td>\n",
       "      <td>0.6254</td>\n",
       "    </tr>\n",
       "  </tbody>\n",
       "</table>\n",
       "</div>"
      ],
      "text/plain": [
       "         Date    Symbol Series  Prev Close     Open    High      Low     Last  \\\n",
       "0  2017-01-02  RELIANCE     EQ     1082.40  1084.00  1090.0  1072.35  1086.70   \n",
       "1  2017-01-03  RELIANCE     EQ     1085.10  1089.85  1097.0  1081.10  1089.00   \n",
       "2  2017-01-04  RELIANCE     EQ     1089.40  1092.90  1093.0  1064.30  1067.15   \n",
       "3  2017-01-05  RELIANCE     EQ     1067.15  1071.00  1079.9  1068.75  1077.00   \n",
       "4  2017-01-06  RELIANCE     EQ     1077.40  1074.20  1085.0  1073.10  1073.95   \n",
       "\n",
       "     Close     VWAP   Volume      Turnover  Trades  Deliverable Volume  \\\n",
       "0  1085.10  1086.63  1622458  1.763016e+14   38903              881915   \n",
       "1  1089.40  1091.74  1470751  1.605682e+14   31291              776985   \n",
       "2  1067.15  1072.39  2375547  2.547514e+14   70540             1516724   \n",
       "3  1077.40  1077.12  1996483  2.150452e+14   84058             1272212   \n",
       "4  1074.95  1078.77  1793427  1.934704e+14   66643             1121595   \n",
       "\n",
       "   %Deliverble  \n",
       "0       0.5436  \n",
       "1       0.5283  \n",
       "2       0.6385  \n",
       "3       0.6372  \n",
       "4       0.6254  "
      ]
     },
     "execution_count": 4,
     "metadata": {},
     "output_type": "execute_result"
    }
   ],
   "source": [
    "reliance.head()"
   ]
  },
  {
   "cell_type": "markdown",
   "metadata": {},
   "source": [
    "# Dataset creation"
   ]
  },
  {
   "cell_type": "code",
   "execution_count": 5,
   "metadata": {},
   "outputs": [],
   "source": [
    "def Time_series_dataset(data, time_step, columns, target_colm, values_in_target = 1, dataframe = False):\n",
    "    '''\n",
    "    This function returns two arrays one dataset and other target dataset.\n",
    "    target dataset can be singular or multiples \n",
    "    - data : dataframe object consists of feature and target_colm\n",
    "    - time_step : window size for building dataset\n",
    "    - columns : list of columns that will be used as features\n",
    "    - target_colm : list of target_colm \n",
    "    - values_in_target : It is the no of values should be in target columns of dataset\n",
    "    '''\n",
    "    n = len(columns)\n",
    "    for i in range(data.shape[0]-time_step-values_in_target):\n",
    "        values = data[columns][i:time_step+i].to_numpy().reshape(-1,time_step,n)\n",
    "\n",
    "        target_value = data[target_colm].iloc[time_step+i:time_step+i+values_in_target,:].to_numpy()\n",
    "        target_value = target_value.reshape(-1, target_value.shape[0], target_value.shape[1])\n",
    "        if i == 0:\n",
    "            dataset = values\n",
    "            target_values = target_value\n",
    "        else:\n",
    "            dataset = np.concatenate((dataset, values))\n",
    "            target_values = np.concatenate((target_values, target_value))\n",
    "    if columns == target_colm and len(columns) == 1 and dataframe is True:\n",
    "        dataset = dataset.reshape(dataset.shape[0], -1)\n",
    "        target_values = target_values.reshape(dataset.shape[0], -1)\n",
    "        data = pd.DataFrame(dataset)\n",
    "        data['target'] = target_values\n",
    "        return data\n",
    "    else:\n",
    "        if len(target_colm)==1:\n",
    "            target_values = target_values.reshape(target_values.shape[0], -1)\n",
    "        return dataset, target_values"
   ]
  },
  {
   "cell_type": "code",
   "execution_count": 6,
   "metadata": {},
   "outputs": [],
   "source": [
    "open_dataset_multi_target, target_multi_target = Time_series_dataset(reliance, 50, ['Open']\n",
    "        , ['Open'])"
   ]
  },
  {
   "cell_type": "code",
   "execution_count": 7,
   "metadata": {},
   "outputs": [
    {
     "data": {
      "text/plain": [
       "((1233, 50, 1), (1233, 1))"
      ]
     },
     "execution_count": 7,
     "metadata": {},
     "output_type": "execute_result"
    }
   ],
   "source": [
    "open_dataset_multi_target.shape, target_multi_target.shape"
   ]
  },
  {
   "cell_type": "code",
   "execution_count": 8,
   "metadata": {},
   "outputs": [],
   "source": [
    "train_ratio = 0.7\n",
    "validation_ratio = 0.15\n",
    "test_ratio = 0.15\n",
    "\n",
    "def Splitting_dataset(data, train_ratio = train_ratio, valid_ratio = None, target_variable = None):\n",
    "    '''\n",
    "    This Function Splits time series data into train, test and validation data with given percentages\n",
    "    \n",
    "    - train_ratio : percentage of data contained in training set\n",
    "    - valid_ratio : percentage of data contained in validation set\n",
    "    - target_variable : If given data does not contain final column as target column then provide target array\n",
    "\n",
    "    Return:\n",
    "    - If valid_ratio is provided the dataset will be split into 3 set with order as:\n",
    "    x_train, x_val, x_test, y_train, y_val, y_test\n",
    "\n",
    "    - If only train_ratio is provided the dataset will be divided into 2 sets as:\n",
    "    x_train, x_test, y_train, y_test\n",
    "    '''\n",
    "    if target_variable is None:\n",
    "        obs = data.shape[0]\n",
    "        training_rows = int(obs*train_ratio)\n",
    "        if valid_ratio:\n",
    "            valid_rows = int(obs*valid_ratio)\n",
    "            A = training_rows+valid_rows\n",
    "            x_train, y_train = data.iloc[:training_rows,:-1].to_numpy(), data.iloc[:training_rows,-1].to_numpy()\n",
    "            x_val, y_val = data.iloc[training_rows:A, :-1].to_numpy(), data.iloc[training_rows:A, -1].to_numpy()\n",
    "            x_test, y_test = data.iloc[A:,:-1].to_numpy(), data.iloc[A:,-1].to_numpy()\n",
    "            return x_train, x_val, x_test, y_train, y_val, y_test\n",
    "        else:\n",
    "            x_train, y_train = data.iloc[:training_rows,:-1].to_numpy(), data.iloc[:training_rows,-1].to_numpy()\n",
    "            x_test, y_test = data.iloc[training_rows:, :-1].to_numpy(), data.iloc[training_rows:,-1].to_numpy()\n",
    "            return x_train, x_test, y_train, y_test\n",
    "\n",
    "    else:\n",
    "        obs = data.shape[0]\n",
    "        training_rows = int(obs*train_ratio)\n",
    "        if valid_ratio:\n",
    "            valid_rows = int(obs*valid_ratio)\n",
    "            A = training_rows+valid_rows\n",
    "            x_train, y_train = data[:training_rows], target_variable[:training_rows]\n",
    "            x_val, y_val = data[training_rows:A], target_variable[training_rows:A]\n",
    "            x_test, y_test = data[A:], target_variable[A:]\n",
    "            return x_train, x_val, x_test, y_train, y_val, y_test\n",
    "        else:\n",
    "            x_train, y_train = data[:training_rows], target_variable[:training_rows]\n",
    "            x_test, y_test = data[training_rows:], target_variable[training_rows:]\n",
    "            return x_train, x_test, y_train, y_test\n",
    "\n",
    "\n",
    "\n",
    "\n",
    "def transformation_min_max(data, min, max):\n",
    "    data = (data - min)/(max- min)\n",
    "    return data"
   ]
  },
  {
   "cell_type": "code",
   "execution_count": 9,
   "metadata": {},
   "outputs": [],
   "source": [
    "x_train_multi_target, x_test_multi_target, y_train_multi_target, y_test_multi_target=Splitting_dataset(\n",
    "        open_dataset_multi_target, target_variable= target_multi_target)"
   ]
  },
  {
   "cell_type": "code",
   "execution_count": 10,
   "metadata": {},
   "outputs": [
    {
     "data": {
      "text/plain": [
       "((863, 50, 1), (863, 1), (370, 50, 1))"
      ]
     },
     "execution_count": 10,
     "metadata": {},
     "output_type": "execute_result"
    }
   ],
   "source": [
    "x_train_multi_target.shape, y_train_multi_target.shape, x_test_multi_target.shape"
   ]
  },
  {
   "cell_type": "code",
   "execution_count": 11,
   "metadata": {},
   "outputs": [
    {
     "data": {
      "text/plain": [
       "2178.8"
      ]
     },
     "execution_count": 11,
     "metadata": {},
     "output_type": "execute_result"
    }
   ],
   "source": [
    "x_train_multi_target.max()"
   ]
  },
  {
   "cell_type": "code",
   "execution_count": 12,
   "metadata": {},
   "outputs": [],
   "source": [
    "train_min_multi_target = x_train_multi_target.min()\n",
    "train_max_multi_target = x_train_multi_target.max()"
   ]
  },
  {
   "cell_type": "code",
   "execution_count": 13,
   "metadata": {},
   "outputs": [
    {
     "data": {
      "text/plain": [
       "(791.75, 2178.8)"
      ]
     },
     "execution_count": 13,
     "metadata": {},
     "output_type": "execute_result"
    }
   ],
   "source": [
    "train_min_multi_target, train_max_multi_target"
   ]
  },
  {
   "cell_type": "code",
   "execution_count": 14,
   "metadata": {},
   "outputs": [],
   "source": [
    "scaled_data = transformation_min_max(open_dataset_multi_target, train_min_multi_target, train_max_multi_target)"
   ]
  },
  {
   "cell_type": "code",
   "execution_count": 15,
   "metadata": {},
   "outputs": [],
   "source": [
    "scaled_data_target = transformation_min_max(target_multi_target, train_min_multi_target, train_max_multi_target)"
   ]
  },
  {
   "cell_type": "code",
   "execution_count": 16,
   "metadata": {},
   "outputs": [
    {
     "data": {
      "text/plain": [
       "((50, 1), (1,))"
      ]
     },
     "execution_count": 16,
     "metadata": {},
     "output_type": "execute_result"
    }
   ],
   "source": [
    "scaled_data[-1].shape, scaled_data_target[-1].shape"
   ]
  },
  {
   "cell_type": "code",
   "execution_count": 44,
   "metadata": {},
   "outputs": [],
   "source": [
    "forecasting_data = scaled_data_target[-50:]"
   ]
  },
  {
   "cell_type": "code",
   "execution_count": 46,
   "metadata": {},
   "outputs": [
    {
     "data": {
      "text/plain": [
       "(50, 1)"
      ]
     },
     "execution_count": 46,
     "metadata": {},
     "output_type": "execute_result"
    }
   ],
   "source": [
    "forecasting_data.shape"
   ]
  },
  {
   "cell_type": "code",
   "execution_count": 18,
   "metadata": {},
   "outputs": [],
   "source": [
    "x_train_multi_target = transformation_min_max(x_train_multi_target, train_min_multi_target, train_max_multi_target)\n",
    "x_test_multi_target = transformation_min_max(x_test_multi_target, train_min_multi_target, train_max_multi_target)\n",
    "# x_val_multi_target = transformation_min_max(x_val_multi_target, train_min_multi_target, train_max_multi_target)\n",
    "\n",
    "y_train_multi_target = transformation_min_max(y_train_multi_target, train_min_multi_target, train_max_multi_target)\n",
    "y_test_multi_target = transformation_min_max(y_test_multi_target, train_min_multi_target, train_max_multi_target)\n",
    "# y_val_multi_target = transformation_min_max(y_val_multi_target, train_min_multi_target, train_max_multi_target)"
   ]
  },
  {
   "cell_type": "code",
   "execution_count": 19,
   "metadata": {},
   "outputs": [
    {
     "data": {
      "text/plain": [
       "((863, 50, 1), (863, 1), (370, 50, 1))"
      ]
     },
     "execution_count": 19,
     "metadata": {},
     "output_type": "execute_result"
    }
   ],
   "source": [
    "x_train_multi_target.shape, y_train_multi_target.shape, x_test_multi_target.shape"
   ]
  },
  {
   "cell_type": "code",
   "execution_count": 20,
   "metadata": {},
   "outputs": [
    {
     "data": {
      "text/plain": [
       "(array([1.]), array([1.40658231]), 1.0)"
      ]
     },
     "execution_count": 20,
     "metadata": {},
     "output_type": "execute_result"
    }
   ],
   "source": [
    "(x_train_multi_target.max(axis = (0,1)), \n",
    "x_test_multi_target.max(axis = (0,1)), y_train_multi_target.max())"
   ]
  },
  {
   "cell_type": "markdown",
   "metadata": {},
   "source": [
    "# Model finetunning"
   ]
  },
  {
   "cell_type": "markdown",
   "metadata": {},
   "source": [
    "## Complex model"
   ]
  },
  {
   "cell_type": "code",
   "execution_count": 35,
   "metadata": {},
   "outputs": [],
   "source": [
    "model_3 = Sequential([\n",
    "    layers.Bidirectional(LSTM(50, recurrent_regularizer= tf.keras.regularizers.L2(0.1), \n",
    "                input_shape = (50,1), return_sequences= True), input_shape = (50,1)),\n",
    "    layers.Bidirectional(LSTM(50, recurrent_regularizer= tf.keras.regularizers.L2(0.1),\n",
    "                return_sequences= True)),\n",
    "    GRU(50),\n",
    "    Dense(25, activation = 'relu'),\n",
    "    Dense(1)\n",
    "])\n",
    "\n",
    "model_3.compile(optimizer= tf.keras.optimizers.Adam(learning_rate=0.001), \n",
    "    loss = tf.keras.losses.MeanSquaredError(),\n",
    "    metrics = ['mae']\n",
    ")"
   ]
  },
  {
   "cell_type": "code",
   "execution_count": 27,
   "metadata": {},
   "outputs": [],
   "source": [
    "model_3.build(input_shape = (50,1))"
   ]
  },
  {
   "cell_type": "code",
   "execution_count": 36,
   "metadata": {},
   "outputs": [],
   "source": [
    "model_3.load_weights(MODEL_SAVE_PATH + 'for_deployment.h5')"
   ]
  },
  {
   "cell_type": "code",
   "execution_count": 37,
   "metadata": {},
   "outputs": [
    {
     "name": "stdout",
     "output_type": "stream",
     "text": [
      "Model: \"sequential_2\"\n",
      "_________________________________________________________________\n",
      " Layer (type)                Output Shape              Param #   \n",
      "=================================================================\n",
      " bidirectional_4 (Bidirectio  (None, 50, 100)          20800     \n",
      " nal)                                                            \n",
      "                                                                 \n",
      " bidirectional_5 (Bidirectio  (None, 50, 100)          60400     \n",
      " nal)                                                            \n",
      "                                                                 \n",
      " gru_2 (GRU)                 (None, 50)                22800     \n",
      "                                                                 \n",
      " dense_4 (Dense)             (None, 25)                1275      \n",
      "                                                                 \n",
      " dense_5 (Dense)             (None, 1)                 26        \n",
      "                                                                 \n",
      "=================================================================\n",
      "Total params: 105,301\n",
      "Trainable params: 105,301\n",
      "Non-trainable params: 0\n",
      "_________________________________________________________________\n"
     ]
    }
   ],
   "source": [
    "model_3.summary()"
   ]
  },
  {
   "cell_type": "code",
   "execution_count": 38,
   "metadata": {},
   "outputs": [
    {
     "data": {
      "image/png": "[encoded data removed]",
      "text/plain": [
       "<IPython.core.display.Image object>"
      ]
     },
     "execution_count": 38,
     "metadata": {},
     "output_type": "execute_result"
    }
   ],
   "source": [
    "plot_model(model_3, show_layer_names= True, show_shapes=True)"
   ]
  },
  {
   "cell_type": "code",
   "execution_count": 39,
   "metadata": {},
   "outputs": [
    {
     "name": "stdout",
     "output_type": "stream",
     "text": [
      "12/12 [==============================] - 23s 45ms/step - loss: 8.2816e-04 - mae: 0.0216 0s - loss: 8.0880e-04 - mae: 0.02\n"
     ]
    },
    {
     "data": {
      "text/plain": [
       "[0.0008281635236926377, 0.021561821922659874]"
      ]
     },
     "execution_count": 39,
     "metadata": {},
     "output_type": "execute_result"
    }
   ],
   "source": [
    "model_3.evaluate(x_test_multi_target, y_test_multi_target)"
   ]
  },
  {
   "cell_type": "code",
   "execution_count": 40,
   "metadata": {},
   "outputs": [
    {
     "name": "stdout",
     "output_type": "stream",
     "text": [
      "Epoch 1/10\n",
      "39/39 [==============================] - 14s 55ms/step - loss: 0.0017 - mae: 0.0246\n",
      "Epoch 2/10\n",
      "39/39 [==============================] - 2s 52ms/step - loss: 8.6960e-04 - mae: 0.0176\n",
      "Epoch 3/10\n",
      "39/39 [==============================] - 2s 51ms/step - loss: 9.4653e-04 - mae: 0.0185\n",
      "Epoch 4/10\n",
      "39/39 [==============================] - 2s 51ms/step - loss: 9.9796e-04 - mae: 0.0194\n",
      "Epoch 5/10\n",
      "39/39 [==============================] - 2s 53ms/step - loss: 9.6640e-04 - mae: 0.0194 - loss: 0.\n",
      "Epoch 6/10\n",
      "39/39 [==============================] - 2s 52ms/step - loss: 9.0054e-04 - mae: 0.0183\n",
      "Epoch 7/10\n",
      "39/39 [==============================] - 2s 55ms/step - loss: 8.9365e-04 - mae: 0.0180\n",
      "Epoch 8/10\n",
      "39/39 [==============================] - 2s 53ms/step - loss: 8.8675e-04 - mae: 0.0179\n",
      "Epoch 9/10\n",
      "39/39 [==============================] - 2s 55ms/step - loss: 9.5854e-04 - mae: 0.0193\n",
      "Epoch 10/10\n",
      "39/39 [==============================] - 2s 57ms/step - loss: 9.1252e-04 - mae: 0.0184 - loss: 0.0011\n"
     ]
    },
    {
     "data": {
      "text/plain": [
       "<keras.callbacks.History at 0x1bf8a42b100>"
      ]
     },
     "execution_count": 40,
     "metadata": {},
     "output_type": "execute_result"
    }
   ],
   "source": [
    "model_3.fit(scaled_data, scaled_data_target,\n",
    "     epochs=10) "
   ]
  },
  {
   "cell_type": "code",
   "execution_count": 43,
   "metadata": {},
   "outputs": [
    {
     "data": {
      "text/plain": [
       "(1233, 1)"
      ]
     },
     "execution_count": 43,
     "metadata": {},
     "output_type": "execute_result"
    }
   ],
   "source": [
    "forecasting_data.shape"
   ]
  },
  {
   "cell_type": "code",
   "execution_count": 56,
   "metadata": {},
   "outputs": [],
   "source": [
    "ROWS = for_forecasting_10day.shape[0]\n",
    "COLS = for_forecasting_10day.shape[1]\n",
    "forecasting = model_reweight.predict(for_forecasting_10day.reshape((-1,ROWS,COLS)))"
   ]
  },
  {
   "cell_type": "code",
   "execution_count": 71,
   "metadata": {},
   "outputs": [
    {
     "data": {
      "text/plain": [
       "((359, 80, 2), (359, 10, 2))"
      ]
     },
     "execution_count": 71,
     "metadata": {},
     "output_type": "execute_result"
    }
   ],
   "source": [
    "x_test_multi_target.shape, y_test_multi_target.shape"
   ]
  },
  {
   "cell_type": "code",
   "execution_count": 74,
   "metadata": {},
   "outputs": [],
   "source": [
    "y_test_pred = model_reweight.predict(x_test_multi_target)"
   ]
  },
  {
   "cell_type": "code",
   "execution_count": 65,
   "metadata": {},
   "outputs": [
    {
     "data": {
      "text/plain": [
       "array([1.25654939, 1.27297229, 1.29963704, 1.27954864, 1.22700974,\n",
       "       1.19901534, 1.18183778, 1.10777303, 1.14151723, 1.13648615,\n",
       "       1.20462141, 1.18399396, 1.20476516, 1.17960973, 1.20598699,\n",
       "       1.22661444, 1.16739138, 1.13875013, 1.17321307, 1.18104718,\n",
       "       1.1848205 , 1.20871815, 1.14151723, 1.14439214, 1.1599885 ,\n",
       "       1.15449024, 1.09684838, 1.09217666, 1.10191541, 1.13720487,\n",
       "       1.13432997, 1.12825673, 1.13835484, 1.14942322, 1.15589176,\n",
       "       1.13648615, 1.13073634, 1.16731951, 1.2004528 , 1.19269055,\n",
       "       1.17813634, 1.19326553, 1.18176591, 1.20713695, 1.24303734,\n",
       "       1.25291983, 1.25507601, 1.26711467, 1.24932619, 1.22780034,\n",
       "       1.19326553, 1.20979624, 1.11963201, 1.10989327, 1.13073634,\n",
       "       1.12728645, 1.16164157, 1.16092284, 1.15014195, 1.1134869 ,\n",
       "       1.11420563, 1.10604808, 1.1351565 , 1.15280124, 1.13666583,\n",
       "       1.11294786, 1.12081791, 1.17745355, 1.17033816, 1.18780321,\n",
       "       1.16451648, 1.12203975, 1.15668236, 1.08761275, 1.06971646,\n",
       "       1.04305171, 1.10877924, 1.15589176, 1.12211162, 1.06871025])"
      ]
     },
     "execution_count": 65,
     "metadata": {},
     "output_type": "execute_result"
    }
   ],
   "source": [
    "for_forecasting_10day[:,0]"
   ]
  },
  {
   "cell_type": "code",
   "execution_count": 66,
   "metadata": {},
   "outputs": [
    {
     "data": {
      "text/plain": [
       "[<matplotlib.lines.Line2D at 0x1d89d86d460>]"
      ]
     },
     "execution_count": 66,
     "metadata": {},
     "output_type": "execute_result"
    },
    {
     "data": {
      "image/png": "[encoded data removed]",
      "text/plain": [
       "<Figure size 432x288 with 1 Axes>"
      ]
     },
     "metadata": {
      "needs_background": "light"
     },
     "output_type": "display_data"
    }
   ],
   "source": [
    "plt.plot(forecasting[0].ravel())\n",
    "plt.plot(for_forecasting_10day[:,0])"
   ]
  },
  {
   "cell_type": "code",
   "execution_count": 79,
   "metadata": {},
   "outputs": [
    {
     "data": {
      "text/plain": [
       "(10,)"
      ]
     },
     "execution_count": 79,
     "metadata": {},
     "output_type": "execute_result"
    }
   ],
   "source": [
    "y_test_pred[0][0].shape"
   ]
  },
  {
   "cell_type": "code",
   "execution_count": 88,
   "metadata": {},
   "outputs": [
    {
     "data": {
      "text/plain": [
       "array([1.10198728, 1.0926079 , 1.09839365, 1.09839365, 1.09426097,\n",
       "       1.08401912, 1.06748841, 1.05527006, 1.01782442, 1.00424049])"
      ]
     },
     "execution_count": 88,
     "metadata": {},
     "output_type": "execute_result"
    }
   ],
   "source": [
    "y_test_multi_target[0][:,0]"
   ]
  },
  {
   "cell_type": "code",
   "execution_count": 89,
   "metadata": {},
   "outputs": [
    {
     "data": {
      "text/plain": [
       "[<matplotlib.lines.Line2D at 0x1d8a4a0ec40>]"
      ]
     },
     "execution_count": 89,
     "metadata": {},
     "output_type": "execute_result"
    },
    {
     "data": {
      "image/png": "[encoded data removed]",
      "text/plain": [
       "<Figure size 432x288 with 1 Axes>"
      ]
     },
     "metadata": {
      "needs_background": "light"
     },
     "output_type": "display_data"
    }
   ],
   "source": [
    "plt.plot(y_test_pred[0][0].ravel())\n",
    "plt.plot(y_test_multi_target[0][:,0] )"
   ]
  },
  {
   "cell_type": "markdown",
   "metadata": {},
   "source": [
    "## Bidirectional model"
   ]
  },
  {
   "cell_type": "code",
   "execution_count": 91,
   "metadata": {},
   "outputs": [
    {
     "ename": "TypeError",
     "evalue": "__init__() got an unexpected keyword argument 'reduction'",
     "output_type": "error",
     "traceback": [
      "\u001b[1;31m---------------------------------------------------------------------------\u001b[0m",
      "\u001b[1;31mTypeError\u001b[0m                                 Traceback (most recent call last)",
      "\u001b[1;32m~\\AppData\\Local\\Temp/ipykernel_10992/1036013083.py\u001b[0m in \u001b[0;36m<module>\u001b[1;34m\u001b[0m\n\u001b[1;32m----> 1\u001b[1;33m \u001b[0mmodel_bidire_comb\u001b[0m \u001b[1;33m=\u001b[0m \u001b[0mtf\u001b[0m\u001b[1;33m.\u001b[0m\u001b[0mkeras\u001b[0m\u001b[1;33m.\u001b[0m\u001b[0mmodels\u001b[0m\u001b[1;33m.\u001b[0m\u001b[0mload_model\u001b[0m\u001b[1;33m(\u001b[0m\u001b[0mMODEL_SAVE_PATH\u001b[0m \u001b[1;33m+\u001b[0m \u001b[1;34m'/model_combo_whole.h5'\u001b[0m\u001b[1;33m)\u001b[0m\u001b[1;33m\u001b[0m\u001b[1;33m\u001b[0m\u001b[0m\n\u001b[0m",
      "\u001b[1;32mG:\\python_virtual_env\\myenv\\lib\\site-packages\\keras\\utils\\traceback_utils.py\u001b[0m in \u001b[0;36merror_handler\u001b[1;34m(*args, **kwargs)\u001b[0m\n\u001b[0;32m     65\u001b[0m     \u001b[1;32mexcept\u001b[0m \u001b[0mException\u001b[0m \u001b[1;32mas\u001b[0m \u001b[0me\u001b[0m\u001b[1;33m:\u001b[0m  \u001b[1;31m# pylint: disable=broad-except\u001b[0m\u001b[1;33m\u001b[0m\u001b[1;33m\u001b[0m\u001b[0m\n\u001b[0;32m     66\u001b[0m       \u001b[0mfiltered_tb\u001b[0m \u001b[1;33m=\u001b[0m \u001b[0m_process_traceback_frames\u001b[0m\u001b[1;33m(\u001b[0m\u001b[0me\u001b[0m\u001b[1;33m.\u001b[0m\u001b[0m__traceback__\u001b[0m\u001b[1;33m)\u001b[0m\u001b[1;33m\u001b[0m\u001b[1;33m\u001b[0m\u001b[0m\n\u001b[1;32m---> 67\u001b[1;33m       \u001b[1;32mraise\u001b[0m \u001b[0me\u001b[0m\u001b[1;33m.\u001b[0m\u001b[0mwith_traceback\u001b[0m\u001b[1;33m(\u001b[0m\u001b[0mfiltered_tb\u001b[0m\u001b[1;33m)\u001b[0m \u001b[1;32mfrom\u001b[0m \u001b[1;32mNone\u001b[0m\u001b[1;33m\u001b[0m\u001b[1;33m\u001b[0m\u001b[0m\n\u001b[0m\u001b[0;32m     68\u001b[0m     \u001b[1;32mfinally\u001b[0m\u001b[1;33m:\u001b[0m\u001b[1;33m\u001b[0m\u001b[1;33m\u001b[0m\u001b[0m\n\u001b[0;32m     69\u001b[0m       \u001b[1;32mdel\u001b[0m \u001b[0mfiltered_tb\u001b[0m\u001b[1;33m\u001b[0m\u001b[1;33m\u001b[0m\u001b[0m\n",
      "\u001b[1;32mG:\\python_virtual_env\\myenv\\lib\\site-packages\\keras\\engine\\base_layer.py\u001b[0m in \u001b[0;36mfrom_config\u001b[1;34m(cls, config)\u001b[0m\n\u001b[0;32m    782\u001b[0m         \u001b[0mA\u001b[0m \u001b[0mlayer\u001b[0m \u001b[0minstance\u001b[0m\u001b[1;33m.\u001b[0m\u001b[1;33m\u001b[0m\u001b[1;33m\u001b[0m\u001b[0m\n\u001b[0;32m    783\u001b[0m     \"\"\"\n\u001b[1;32m--> 784\u001b[1;33m     \u001b[1;32mreturn\u001b[0m \u001b[0mcls\u001b[0m\u001b[1;33m(\u001b[0m\u001b[1;33m**\u001b[0m\u001b[0mconfig\u001b[0m\u001b[1;33m)\u001b[0m\u001b[1;33m\u001b[0m\u001b[1;33m\u001b[0m\u001b[0m\n\u001b[0m\u001b[0;32m    785\u001b[0m \u001b[1;33m\u001b[0m\u001b[0m\n\u001b[0;32m    786\u001b[0m   \u001b[1;32mdef\u001b[0m \u001b[0mcompute_output_shape\u001b[0m\u001b[1;33m(\u001b[0m\u001b[0mself\u001b[0m\u001b[1;33m,\u001b[0m \u001b[0minput_shape\u001b[0m\u001b[1;33m)\u001b[0m\u001b[1;33m:\u001b[0m\u001b[1;33m\u001b[0m\u001b[1;33m\u001b[0m\u001b[0m\n",
      "\u001b[1;31mTypeError\u001b[0m: __init__() got an unexpected keyword argument 'reduction'"
     ]
    }
   ],
   "source": []
  },
  {
   "cell_type": "code",
   "execution_count": null,
   "metadata": {},
   "outputs": [],
   "source": []
  }
 ],
 "metadata": {
  "interpreter": {
   "hash": "f4e04f42c045def5aa7d79311fcd976240163128e37e7a373751b42951a60e82"
  },
  "kernelspec": {
   "display_name": "Python 3.9.7",
   "language": "python",
   "name": "python3"
  },
  "language_info": {
   "codemirror_mode": {
    "name": "ipython",
    "version": 3
   },
   "file_extension": ".py",
   "mimetype": "text/x-python",
   "name": "python",
   "nbconvert_exporter": "python",
   "pygments_lexer": "ipython3",
   "version": "3.9.7"
  },
  "orig_nbformat": 4
 },
 "nbformat": 4,
 "nbformat_minor": 2
}
