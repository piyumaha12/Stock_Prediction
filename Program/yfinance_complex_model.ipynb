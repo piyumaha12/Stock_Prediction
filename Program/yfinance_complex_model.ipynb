{
 "cells": [
  {
   "cell_type": "markdown",
   "metadata": {},
   "source": [
    "<a id = \"1\"></a>\n",
    "<div>\n",
    "    <div style='float:left; width:55%; overflow:hidden'>\n",
    "        <br><br><br><br>\n",
    "        <span style = \"float:right;\">\n",
    "        <h2><strong><span style='color:#17202a'> Forecasting and Time Series Analysis 📈 - LSTM 💥🔥 </span></strong></h2>\n",
    "        <h4><b><span style=\"color:#273746\"> Share Market Forecasting live data </span></b></h4> \n",
    "        <p><span style=\"color:#566573\"> By Piyush Mahajan </span></p>\n",
    "        <br>\n",
    "        <b></b>\n",
    "    </div>\n",
    "    <div style=\"float:rigth; width:40%; max-height:300px; overflow: hidden;\">\n",
    "        <img src = 'https://i.pinimg.com/originals/65/56/d1/6556d1f996900f1b315db64ae955d524.png' width = '500px' height='300px'>\n",
    "    </div>\n",
    "</div>"
   ]
  },
  {
   "cell_type": "markdown",
   "metadata": {},
   "source": [
    "**Hello Guys 🖐**\n",
    "\n",
    "This is Simple Starter Notebook for **Share market forecasting using LSTM**. \n",
    "\n",
    "- The Purpose of this Project/Notebook is to help Invester in investing money in stock market (especially me 😅). \n",
    "\n",
    "- In This Notebook, I am Using yahoo finance library to extract 5 years of share market data of **TATAMOTORS** company (India) and for visualization purpose I am extensively using plotly because of its interactive plots.\n",
    "\n",
    "- I am using 5 years **day-wise** data for building lstm, extracted from date 08-03-2017 to 02-03-2022\n",
    "\n",
    "- If you are starting to learn Time Series data and model building, I hope this notebook will help you.\n",
    "\n",
    "> **NOTE** I am using two libraries yfinance and yahoofinancials just because to explore 🚵‍♀️, you can use any one of them."
   ]
  },
  {
   "cell_type": "markdown",
   "metadata": {},
   "source": [
    "**<h3><span style=\"color: #f08ec9 \">About Dataset: </span></h3>**\n",
    "\n",
    "1. **Open** - It is a Opening price of stock at that date.\n",
    "\n",
    "2. **High** - The highest price reached by stock at that day.\n",
    "3. **Low**- The Lowest price reached by stock at that day.\n",
    "4. **Close** - It is the Closing price of stock that is, Price of stock at closing time of share market.\n",
    "5. **Volume** - It is the total number of shares exchanged at that day. \n",
    "\n",
    "I am not going to used other two columns but they may be useful in forecasting but i am going to ignore them."
   ]
  },
  {
   "cell_type": "markdown",
   "metadata": {},
   "source": [
    "<a id='2'></a>\n",
    "# <span style= \"color: #5494ff \" id = 'Table of content'>Table of Content</span>\n",
    "\n",
    "<a id=\"toc\"></a>\n",
    "- [1. Introduction](#1)\n",
    "- [2. Table of Content](#2)\n",
    "- [1. Libraries](#3)\n",
    "- [2. Importing and Creation of dataset](#4)\n",
    "- [3. Exploring dataset and Visualization](#5)\n",
    "    - [3.1 Changing Format of dataset](#5.1)\n",
    "    - [3.2 Line and Candle Plot](#5.2)\n",
    "    - [3.3 Volume plot](#5.3)\n",
    "    - [3.4 Combinated Candle and Volume plot](#5.4)\n",
    "    - [3.5 Box Plot](#5.5)\n",
    "    - [3.6 Histogram for distribution on values](#5.6)\n",
    "    - [3.7 Moving average line plot](#5.7)\n",
    "    - [3.8 Manipulating dataset](#5.8)\n",
    "- [4. Dataset Creation for LSTM](#6)\n",
    "    - [4.1 Mean Value Dataset](#6.1)\n",
    "    - [4.2 Volume Dataset](#6.2)\n",
    "    - [4.2 Price Dataset having multiple values in target](#6.3)\n",
    "    - [4.3 Price and Volume Combined dataset](#6.4)\n",
    "- [5 Splitting dataset](#7)\n",
    "    - [5.1 Splitting dataframe](#7.1)\n",
    "    - [5.2 Splitting Combined data](#7.2)\n",
    "- [6. Model Building](#8)\n",
    "    - [6.1 Imports](#8.1)\n"
   ]
  },
  {
   "cell_type": "markdown",
   "metadata": {},
   "source": [
    "<a id=\"3\"></a>\n",
    "# <span><center style=\"background-color: ; color: #5494ff ;\"><strong>1. Libraries 📚</strong></center></span>"
   ]
  },
  {
   "cell_type": "code",
   "execution_count": 2,
   "metadata": {},
   "outputs": [],
   "source": [
    "import yfinance as yf\n",
    "import plotly.express as px\n",
    "import plotly.graph_objects as go\n",
    "import pandas as pd\n",
    "import numpy as np\n",
    "import datetime\n",
    "import os\n",
    "\n",
    "import seaborn as sns\n",
    "import matplotlib.pyplot as plt\n",
    "import plotly.figure_factory as ff\n",
    "\n",
    "\n",
    "from plotly.subplots import make_subplots\n",
    "from pandas_profiling import ProfileReport\n",
    "from yahoofinancials import YahooFinancials\n",
    "from sklearn.preprocessing import MinMaxScaler, StandardScaler\n",
    "from sklearn.metrics import mean_absolute_error, mean_squared_error\n",
    "\n",
    "from colorama import Fore, Back, Style\n",
    "y_ = Fore.YELLOW\n",
    "r_ = Fore.RED\n",
    "g_ = Fore.GREEN\n",
    "b_ = Fore.BLUE\n",
    "m_ = Fore.MAGENTA\n",
    "bl_ = Fore.BLACK\n",
    "\n",
    "plt.rcParams['figure.figsize']=(15,8)\n",
    "%matplotlib inline\n",
    "\n",
    "RANDOM_SEED = 15\n",
    "np.random.seed(15)"
   ]
  },
  {
   "cell_type": "code",
   "execution_count": 3,
   "metadata": {},
   "outputs": [],
   "source": [
    "PATH = os.getcwd()"
   ]
  },
  {
   "cell_type": "code",
   "execution_count": 4,
   "metadata": {},
   "outputs": [],
   "source": [
    "CSV_PATH = 'H:\\\\Excelr\\\\Project\\\\Stock_Prediction\\\\csv_files\\\\'"
   ]
  },
  {
   "cell_type": "markdown",
   "metadata": {},
   "source": [
    "<a id = '4'></a>\n",
    "# <span><center style=' color: #5494ff '><strong>2. Importing dataset 📈📊</strong></center></span>"
   ]
  },
  {
   "cell_type": "code",
   "execution_count": 5,
   "metadata": {},
   "outputs": [],
   "source": [
    "tatamotors_5year = pd.read_csv(os.path.join(CSV_PATH,'Tatamotors_5years.csv'))\n",
    "tatamotors_2m = pd.read_csv(os.path.join(CSV_PATH+'Tatamotors_2m.csv'))"
   ]
  },
  {
   "cell_type": "code",
   "execution_count": 6,
   "metadata": {},
   "outputs": [
    {
     "data": {
      "text/html": [
       "<div>\n",
       "<style scoped>\n",
       "    .dataframe tbody tr th:only-of-type {\n",
       "        vertical-align: middle;\n",
       "    }\n",
       "\n",
       "    .dataframe tbody tr th {\n",
       "        vertical-align: top;\n",
       "    }\n",
       "\n",
       "    .dataframe thead th {\n",
       "        text-align: right;\n",
       "    }\n",
       "</style>\n",
       "<table border=\"1\" class=\"dataframe\">\n",
       "  <thead>\n",
       "    <tr style=\"text-align: right;\">\n",
       "      <th></th>\n",
       "      <th>Datetime</th>\n",
       "      <th>Open</th>\n",
       "      <th>High</th>\n",
       "      <th>Low</th>\n",
       "      <th>Close</th>\n",
       "      <th>Volume</th>\n",
       "      <th>Dividends</th>\n",
       "      <th>Stock Splits</th>\n",
       "    </tr>\n",
       "  </thead>\n",
       "  <tbody>\n",
       "    <tr>\n",
       "      <th>0</th>\n",
       "      <td>2022-01-20 09:15:00+05:30</td>\n",
       "      <td>519.950012</td>\n",
       "      <td>522.900024</td>\n",
       "      <td>518.299988</td>\n",
       "      <td>522.099976</td>\n",
       "      <td>281714</td>\n",
       "      <td>0</td>\n",
       "      <td>0</td>\n",
       "    </tr>\n",
       "    <tr>\n",
       "      <th>1</th>\n",
       "      <td>2022-01-20 09:17:00+05:30</td>\n",
       "      <td>522.150024</td>\n",
       "      <td>522.250000</td>\n",
       "      <td>520.250000</td>\n",
       "      <td>521.849976</td>\n",
       "      <td>332337</td>\n",
       "      <td>0</td>\n",
       "      <td>0</td>\n",
       "    </tr>\n",
       "    <tr>\n",
       "      <th>2</th>\n",
       "      <td>2022-01-20 09:19:00+05:30</td>\n",
       "      <td>521.750000</td>\n",
       "      <td>521.900024</td>\n",
       "      <td>518.150024</td>\n",
       "      <td>519.099976</td>\n",
       "      <td>465151</td>\n",
       "      <td>0</td>\n",
       "      <td>0</td>\n",
       "    </tr>\n",
       "    <tr>\n",
       "      <th>3</th>\n",
       "      <td>2022-01-20 09:21:00+05:30</td>\n",
       "      <td>519.250000</td>\n",
       "      <td>519.250000</td>\n",
       "      <td>517.000000</td>\n",
       "      <td>518.000000</td>\n",
       "      <td>420753</td>\n",
       "      <td>0</td>\n",
       "      <td>0</td>\n",
       "    </tr>\n",
       "    <tr>\n",
       "      <th>4</th>\n",
       "      <td>2022-01-20 09:23:00+05:30</td>\n",
       "      <td>518.000000</td>\n",
       "      <td>518.599976</td>\n",
       "      <td>517.650024</td>\n",
       "      <td>518.450012</td>\n",
       "      <td>198417</td>\n",
       "      <td>0</td>\n",
       "      <td>0</td>\n",
       "    </tr>\n",
       "    <tr>\n",
       "      <th>5</th>\n",
       "      <td>2022-01-20 09:25:00+05:30</td>\n",
       "      <td>518.450012</td>\n",
       "      <td>519.000000</td>\n",
       "      <td>517.799988</td>\n",
       "      <td>518.900024</td>\n",
       "      <td>171080</td>\n",
       "      <td>0</td>\n",
       "      <td>0</td>\n",
       "    </tr>\n",
       "    <tr>\n",
       "      <th>6</th>\n",
       "      <td>2022-01-20 09:27:00+05:30</td>\n",
       "      <td>518.599976</td>\n",
       "      <td>519.750000</td>\n",
       "      <td>518.200012</td>\n",
       "      <td>519.549988</td>\n",
       "      <td>135341</td>\n",
       "      <td>0</td>\n",
       "      <td>0</td>\n",
       "    </tr>\n",
       "    <tr>\n",
       "      <th>7</th>\n",
       "      <td>2022-01-20 09:29:00+05:30</td>\n",
       "      <td>519.599976</td>\n",
       "      <td>521.750000</td>\n",
       "      <td>519.349976</td>\n",
       "      <td>521.599976</td>\n",
       "      <td>216447</td>\n",
       "      <td>0</td>\n",
       "      <td>0</td>\n",
       "    </tr>\n",
       "    <tr>\n",
       "      <th>8</th>\n",
       "      <td>2022-01-20 09:31:00+05:30</td>\n",
       "      <td>521.700012</td>\n",
       "      <td>521.799988</td>\n",
       "      <td>521.049988</td>\n",
       "      <td>521.400024</td>\n",
       "      <td>192900</td>\n",
       "      <td>0</td>\n",
       "      <td>0</td>\n",
       "    </tr>\n",
       "    <tr>\n",
       "      <th>9</th>\n",
       "      <td>2022-01-20 09:33:00+05:30</td>\n",
       "      <td>521.349976</td>\n",
       "      <td>521.650024</td>\n",
       "      <td>521.000000</td>\n",
       "      <td>521.650024</td>\n",
       "      <td>122506</td>\n",
       "      <td>0</td>\n",
       "      <td>0</td>\n",
       "    </tr>\n",
       "  </tbody>\n",
       "</table>\n",
       "</div>"
      ],
      "text/plain": [
       "                    Datetime        Open        High         Low       Close  \\\n",
       "0  2022-01-20 09:15:00+05:30  519.950012  522.900024  518.299988  522.099976   \n",
       "1  2022-01-20 09:17:00+05:30  522.150024  522.250000  520.250000  521.849976   \n",
       "2  2022-01-20 09:19:00+05:30  521.750000  521.900024  518.150024  519.099976   \n",
       "3  2022-01-20 09:21:00+05:30  519.250000  519.250000  517.000000  518.000000   \n",
       "4  2022-01-20 09:23:00+05:30  518.000000  518.599976  517.650024  518.450012   \n",
       "5  2022-01-20 09:25:00+05:30  518.450012  519.000000  517.799988  518.900024   \n",
       "6  2022-01-20 09:27:00+05:30  518.599976  519.750000  518.200012  519.549988   \n",
       "7  2022-01-20 09:29:00+05:30  519.599976  521.750000  519.349976  521.599976   \n",
       "8  2022-01-20 09:31:00+05:30  521.700012  521.799988  521.049988  521.400024   \n",
       "9  2022-01-20 09:33:00+05:30  521.349976  521.650024  521.000000  521.650024   \n",
       "\n",
       "   Volume  Dividends  Stock Splits  \n",
       "0  281714          0             0  \n",
       "1  332337          0             0  \n",
       "2  465151          0             0  \n",
       "3  420753          0             0  \n",
       "4  198417          0             0  \n",
       "5  171080          0             0  \n",
       "6  135341          0             0  \n",
       "7  216447          0             0  \n",
       "8  192900          0             0  \n",
       "9  122506          0             0  "
      ]
     },
     "execution_count": 6,
     "metadata": {},
     "output_type": "execute_result"
    }
   ],
   "source": [
    "tatamotors_2m.head(10)"
   ]
  },
  {
   "cell_type": "code",
   "execution_count": 7,
   "metadata": {},
   "outputs": [
    {
     "data": {
      "text/html": [
       "<div>\n",
       "<style scoped>\n",
       "    .dataframe tbody tr th:only-of-type {\n",
       "        vertical-align: middle;\n",
       "    }\n",
       "\n",
       "    .dataframe tbody tr th {\n",
       "        vertical-align: top;\n",
       "    }\n",
       "\n",
       "    .dataframe thead th {\n",
       "        text-align: right;\n",
       "    }\n",
       "</style>\n",
       "<table border=\"1\" class=\"dataframe\">\n",
       "  <thead>\n",
       "    <tr style=\"text-align: right;\">\n",
       "      <th></th>\n",
       "      <th>Date</th>\n",
       "      <th>Open</th>\n",
       "      <th>High</th>\n",
       "      <th>Low</th>\n",
       "      <th>Close</th>\n",
       "      <th>Volume</th>\n",
       "      <th>Dividends</th>\n",
       "      <th>Stock Splits</th>\n",
       "    </tr>\n",
       "  </thead>\n",
       "  <tbody>\n",
       "    <tr>\n",
       "      <th>0</th>\n",
       "      <td>2017-03-08</td>\n",
       "      <td>469.399994</td>\n",
       "      <td>469.600006</td>\n",
       "      <td>461.149994</td>\n",
       "      <td>462.799988</td>\n",
       "      <td>5351597</td>\n",
       "      <td>0</td>\n",
       "      <td>0</td>\n",
       "    </tr>\n",
       "    <tr>\n",
       "      <th>1</th>\n",
       "      <td>2017-03-09</td>\n",
       "      <td>462.450012</td>\n",
       "      <td>469.700012</td>\n",
       "      <td>462.000000</td>\n",
       "      <td>467.600006</td>\n",
       "      <td>3837624</td>\n",
       "      <td>0</td>\n",
       "      <td>0</td>\n",
       "    </tr>\n",
       "    <tr>\n",
       "      <th>2</th>\n",
       "      <td>2017-03-10</td>\n",
       "      <td>471.000000</td>\n",
       "      <td>471.850006</td>\n",
       "      <td>465.100006</td>\n",
       "      <td>469.100006</td>\n",
       "      <td>5766815</td>\n",
       "      <td>0</td>\n",
       "      <td>0</td>\n",
       "    </tr>\n",
       "    <tr>\n",
       "      <th>3</th>\n",
       "      <td>2017-03-14</td>\n",
       "      <td>481.000000</td>\n",
       "      <td>483.000000</td>\n",
       "      <td>468.450012</td>\n",
       "      <td>469.750000</td>\n",
       "      <td>6348198</td>\n",
       "      <td>0</td>\n",
       "      <td>0</td>\n",
       "    </tr>\n",
       "    <tr>\n",
       "      <th>4</th>\n",
       "      <td>2017-03-15</td>\n",
       "      <td>475.000000</td>\n",
       "      <td>476.549988</td>\n",
       "      <td>470.649994</td>\n",
       "      <td>473.450012</td>\n",
       "      <td>4801312</td>\n",
       "      <td>0</td>\n",
       "      <td>0</td>\n",
       "    </tr>\n",
       "  </tbody>\n",
       "</table>\n",
       "</div>"
      ],
      "text/plain": [
       "         Date        Open        High         Low       Close   Volume  \\\n",
       "0  2017-03-08  469.399994  469.600006  461.149994  462.799988  5351597   \n",
       "1  2017-03-09  462.450012  469.700012  462.000000  467.600006  3837624   \n",
       "2  2017-03-10  471.000000  471.850006  465.100006  469.100006  5766815   \n",
       "3  2017-03-14  481.000000  483.000000  468.450012  469.750000  6348198   \n",
       "4  2017-03-15  475.000000  476.549988  470.649994  473.450012  4801312   \n",
       "\n",
       "   Dividends  Stock Splits  \n",
       "0          0             0  \n",
       "1          0             0  \n",
       "2          0             0  \n",
       "3          0             0  \n",
       "4          0             0  "
      ]
     },
     "execution_count": 7,
     "metadata": {},
     "output_type": "execute_result"
    }
   ],
   "source": [
    "tatamotors_5year.head()"
   ]
  },
  {
   "cell_type": "code",
   "execution_count": 8,
   "metadata": {},
   "outputs": [
    {
     "data": {
      "text/html": [
       "<div>\n",
       "<style scoped>\n",
       "    .dataframe tbody tr th:only-of-type {\n",
       "        vertical-align: middle;\n",
       "    }\n",
       "\n",
       "    .dataframe tbody tr th {\n",
       "        vertical-align: top;\n",
       "    }\n",
       "\n",
       "    .dataframe thead th {\n",
       "        text-align: right;\n",
       "    }\n",
       "</style>\n",
       "<table border=\"1\" class=\"dataframe\">\n",
       "  <thead>\n",
       "    <tr style=\"text-align: right;\">\n",
       "      <th></th>\n",
       "      <th>Date</th>\n",
       "      <th>Open</th>\n",
       "      <th>High</th>\n",
       "      <th>Low</th>\n",
       "      <th>Close</th>\n",
       "      <th>Volume</th>\n",
       "      <th>Dividends</th>\n",
       "      <th>Stock Splits</th>\n",
       "    </tr>\n",
       "  </thead>\n",
       "  <tbody>\n",
       "    <tr>\n",
       "      <th>1231</th>\n",
       "      <td>2022-03-02</td>\n",
       "      <td>452.950012</td>\n",
       "      <td>454.250000</td>\n",
       "      <td>444.549988</td>\n",
       "      <td>447.600006</td>\n",
       "      <td>25791134</td>\n",
       "      <td>0</td>\n",
       "      <td>0</td>\n",
       "    </tr>\n",
       "    <tr>\n",
       "      <th>1232</th>\n",
       "      <td>2022-03-03</td>\n",
       "      <td>458.500000</td>\n",
       "      <td>458.500000</td>\n",
       "      <td>435.000000</td>\n",
       "      <td>437.100006</td>\n",
       "      <td>29599672</td>\n",
       "      <td>0</td>\n",
       "      <td>0</td>\n",
       "    </tr>\n",
       "    <tr>\n",
       "      <th>1233</th>\n",
       "      <td>2022-03-04</td>\n",
       "      <td>431.850006</td>\n",
       "      <td>431.850006</td>\n",
       "      <td>414.750000</td>\n",
       "      <td>417.250000</td>\n",
       "      <td>38765185</td>\n",
       "      <td>0</td>\n",
       "      <td>0</td>\n",
       "    </tr>\n",
       "    <tr>\n",
       "      <th>1234</th>\n",
       "      <td>2022-03-07</td>\n",
       "      <td>401.750000</td>\n",
       "      <td>401.750000</td>\n",
       "      <td>387.500000</td>\n",
       "      <td>394.000000</td>\n",
       "      <td>44836205</td>\n",
       "      <td>0</td>\n",
       "      <td>0</td>\n",
       "    </tr>\n",
       "    <tr>\n",
       "      <th>1235</th>\n",
       "      <td>2022-03-08</td>\n",
       "      <td>390.500000</td>\n",
       "      <td>395.450012</td>\n",
       "      <td>376.350006</td>\n",
       "      <td>391.750000</td>\n",
       "      <td>55526844</td>\n",
       "      <td>0</td>\n",
       "      <td>0</td>\n",
       "    </tr>\n",
       "  </tbody>\n",
       "</table>\n",
       "</div>"
      ],
      "text/plain": [
       "            Date        Open        High         Low       Close    Volume  \\\n",
       "1231  2022-03-02  452.950012  454.250000  444.549988  447.600006  25791134   \n",
       "1232  2022-03-03  458.500000  458.500000  435.000000  437.100006  29599672   \n",
       "1233  2022-03-04  431.850006  431.850006  414.750000  417.250000  38765185   \n",
       "1234  2022-03-07  401.750000  401.750000  387.500000  394.000000  44836205   \n",
       "1235  2022-03-08  390.500000  395.450012  376.350006  391.750000  55526844   \n",
       "\n",
       "      Dividends  Stock Splits  \n",
       "1231          0             0  \n",
       "1232          0             0  \n",
       "1233          0             0  \n",
       "1234          0             0  \n",
       "1235          0             0  "
      ]
     },
     "execution_count": 8,
     "metadata": {},
     "output_type": "execute_result"
    }
   ],
   "source": [
    "tatamotors_5year.tail()"
   ]
  },
  {
   "cell_type": "markdown",
   "metadata": {},
   "source": [
    "<a id=\"5\"></a> \n",
    "# <span><center style=\"color: #5494ff \"><strong>3. Exploring Dataset and Visualization </strong> </center></span>"
   ]
  },
  {
   "cell_type": "markdown",
   "metadata": {},
   "source": [
    "<a id = \"5.1\"></a>\n",
    "## **<span style = \"color: #5494ff ;\">3.1 Changing Format of dataset</span>**"
   ]
  },
  {
   "cell_type": "markdown",
   "metadata": {},
   "source": [
    "- We have dataset of stock prices of TATAMOTORS, in which we have to change indexes to datetime that is setting Date Column as index"
   ]
  },
  {
   "cell_type": "markdown",
   "metadata": {},
   "source": [
    "### **<span style= 'color: #5494ff '>Changing format of 1 year dataset</span>**"
   ]
  },
  {
   "cell_type": "code",
   "execution_count": 9,
   "metadata": {},
   "outputs": [
    {
     "data": {
      "text/plain": [
       "'2017-03-09'"
      ]
     },
     "execution_count": 9,
     "metadata": {},
     "output_type": "execute_result"
    }
   ],
   "source": [
    "tatamotors_5year.Date[1]"
   ]
  },
  {
   "cell_type": "code",
   "execution_count": 10,
   "metadata": {},
   "outputs": [],
   "source": [
    "# tatamotors_5year['Date_1'] = tatamotors_5year.Date\n",
    "tatamotors_5year['Date'] = pd.to_datetime(tatamotors_5year.Date)\n",
    "tatamotors_5year['Index'] = tatamotors_5year.Date\n",
    "tatamotors_5year=tatamotors_5year.set_index('Index')\n",
    "# tatamotors_5year['Date']=tatamotors_5year.Date.astype('datetime64')"
   ]
  },
  {
   "cell_type": "code",
   "execution_count": 11,
   "metadata": {},
   "outputs": [],
   "source": [
    "tatamotors_5year['Years'] = tatamotors_5year.Date.dt.year\n",
    "tatamotors_5year['Months'] = tatamotors_5year.Date.dt.month\n",
    "tatamotors_5year['Days'] = tatamotors_5year.Date.dt.day\n",
    "tatamotors_5year['Day_name'] = tatamotors_5year.Date.dt.day_name()"
   ]
  },
  {
   "cell_type": "code",
   "execution_count": 12,
   "metadata": {},
   "outputs": [
    {
     "name": "stdout",
     "output_type": "stream",
     "text": [
      "<class 'pandas.core.frame.DataFrame'>\n",
      "DatetimeIndex: 1236 entries, 2017-03-08 to 2022-03-08\n",
      "Data columns (total 12 columns):\n",
      " #   Column        Non-Null Count  Dtype         \n",
      "---  ------        --------------  -----         \n",
      " 0   Date          1236 non-null   datetime64[ns]\n",
      " 1   Open          1236 non-null   float64       \n",
      " 2   High          1236 non-null   float64       \n",
      " 3   Low           1236 non-null   float64       \n",
      " 4   Close         1236 non-null   float64       \n",
      " 5   Volume        1236 non-null   int64         \n",
      " 6   Dividends     1236 non-null   int64         \n",
      " 7   Stock Splits  1236 non-null   int64         \n",
      " 8   Years         1236 non-null   int64         \n",
      " 9   Months        1236 non-null   int64         \n",
      " 10  Days          1236 non-null   int64         \n",
      " 11  Day_name      1236 non-null   object        \n",
      "dtypes: datetime64[ns](1), float64(4), int64(6), object(1)\n",
      "memory usage: 125.5+ KB\n"
     ]
    }
   ],
   "source": [
    "tatamotors_5year.info()"
   ]
  },
  {
   "cell_type": "code",
   "execution_count": 13,
   "metadata": {},
   "outputs": [],
   "source": [
    "T = tatamotors_5year.index.max() - datetime.timedelta(weeks = 52)"
   ]
  },
  {
   "cell_type": "code",
   "execution_count": 14,
   "metadata": {},
   "outputs": [
    {
     "data": {
      "text/plain": [
       "(536.7000122070312, 268.45001220703125)"
      ]
     },
     "execution_count": 14,
     "metadata": {},
     "output_type": "execute_result"
    }
   ],
   "source": [
    "tatamotors_5year['High'][T:].max(), tatamotors_5year['Low'][T:].min()"
   ]
  },
  {
   "cell_type": "code",
   "execution_count": 15,
   "metadata": {},
   "outputs": [
    {
     "data": {
      "text/html": [
       "<div>\n",
       "<style scoped>\n",
       "    .dataframe tbody tr th:only-of-type {\n",
       "        vertical-align: middle;\n",
       "    }\n",
       "\n",
       "    .dataframe tbody tr th {\n",
       "        vertical-align: top;\n",
       "    }\n",
       "\n",
       "    .dataframe thead th {\n",
       "        text-align: right;\n",
       "    }\n",
       "</style>\n",
       "<table border=\"1\" class=\"dataframe\">\n",
       "  <thead>\n",
       "    <tr style=\"text-align: right;\">\n",
       "      <th></th>\n",
       "      <th>Date</th>\n",
       "      <th>Open</th>\n",
       "      <th>High</th>\n",
       "      <th>Low</th>\n",
       "      <th>Close</th>\n",
       "      <th>Volume</th>\n",
       "      <th>Dividends</th>\n",
       "      <th>Stock Splits</th>\n",
       "      <th>Years</th>\n",
       "      <th>Months</th>\n",
       "      <th>Days</th>\n",
       "      <th>Day_name</th>\n",
       "    </tr>\n",
       "    <tr>\n",
       "      <th>Index</th>\n",
       "      <th></th>\n",
       "      <th></th>\n",
       "      <th></th>\n",
       "      <th></th>\n",
       "      <th></th>\n",
       "      <th></th>\n",
       "      <th></th>\n",
       "      <th></th>\n",
       "      <th></th>\n",
       "      <th></th>\n",
       "      <th></th>\n",
       "      <th></th>\n",
       "    </tr>\n",
       "  </thead>\n",
       "  <tbody>\n",
       "    <tr>\n",
       "      <th>2017-03-08</th>\n",
       "      <td>2017-03-08</td>\n",
       "      <td>469.399994</td>\n",
       "      <td>469.600006</td>\n",
       "      <td>461.149994</td>\n",
       "      <td>462.799988</td>\n",
       "      <td>5351597</td>\n",
       "      <td>0</td>\n",
       "      <td>0</td>\n",
       "      <td>2017</td>\n",
       "      <td>3</td>\n",
       "      <td>8</td>\n",
       "      <td>Wednesday</td>\n",
       "    </tr>\n",
       "    <tr>\n",
       "      <th>2017-03-09</th>\n",
       "      <td>2017-03-09</td>\n",
       "      <td>462.450012</td>\n",
       "      <td>469.700012</td>\n",
       "      <td>462.000000</td>\n",
       "      <td>467.600006</td>\n",
       "      <td>3837624</td>\n",
       "      <td>0</td>\n",
       "      <td>0</td>\n",
       "      <td>2017</td>\n",
       "      <td>3</td>\n",
       "      <td>9</td>\n",
       "      <td>Thursday</td>\n",
       "    </tr>\n",
       "    <tr>\n",
       "      <th>2017-03-10</th>\n",
       "      <td>2017-03-10</td>\n",
       "      <td>471.000000</td>\n",
       "      <td>471.850006</td>\n",
       "      <td>465.100006</td>\n",
       "      <td>469.100006</td>\n",
       "      <td>5766815</td>\n",
       "      <td>0</td>\n",
       "      <td>0</td>\n",
       "      <td>2017</td>\n",
       "      <td>3</td>\n",
       "      <td>10</td>\n",
       "      <td>Friday</td>\n",
       "    </tr>\n",
       "    <tr>\n",
       "      <th>2017-03-14</th>\n",
       "      <td>2017-03-14</td>\n",
       "      <td>481.000000</td>\n",
       "      <td>483.000000</td>\n",
       "      <td>468.450012</td>\n",
       "      <td>469.750000</td>\n",
       "      <td>6348198</td>\n",
       "      <td>0</td>\n",
       "      <td>0</td>\n",
       "      <td>2017</td>\n",
       "      <td>3</td>\n",
       "      <td>14</td>\n",
       "      <td>Tuesday</td>\n",
       "    </tr>\n",
       "    <tr>\n",
       "      <th>2017-03-15</th>\n",
       "      <td>2017-03-15</td>\n",
       "      <td>475.000000</td>\n",
       "      <td>476.549988</td>\n",
       "      <td>470.649994</td>\n",
       "      <td>473.450012</td>\n",
       "      <td>4801312</td>\n",
       "      <td>0</td>\n",
       "      <td>0</td>\n",
       "      <td>2017</td>\n",
       "      <td>3</td>\n",
       "      <td>15</td>\n",
       "      <td>Wednesday</td>\n",
       "    </tr>\n",
       "  </tbody>\n",
       "</table>\n",
       "</div>"
      ],
      "text/plain": [
       "                 Date        Open        High         Low       Close  \\\n",
       "Index                                                                   \n",
       "2017-03-08 2017-03-08  469.399994  469.600006  461.149994  462.799988   \n",
       "2017-03-09 2017-03-09  462.450012  469.700012  462.000000  467.600006   \n",
       "2017-03-10 2017-03-10  471.000000  471.850006  465.100006  469.100006   \n",
       "2017-03-14 2017-03-14  481.000000  483.000000  468.450012  469.750000   \n",
       "2017-03-15 2017-03-15  475.000000  476.549988  470.649994  473.450012   \n",
       "\n",
       "             Volume  Dividends  Stock Splits  Years  Months  Days   Day_name  \n",
       "Index                                                                         \n",
       "2017-03-08  5351597          0             0   2017       3     8  Wednesday  \n",
       "2017-03-09  3837624          0             0   2017       3     9   Thursday  \n",
       "2017-03-10  5766815          0             0   2017       3    10     Friday  \n",
       "2017-03-14  6348198          0             0   2017       3    14    Tuesday  \n",
       "2017-03-15  4801312          0             0   2017       3    15  Wednesday  "
      ]
     },
     "execution_count": 15,
     "metadata": {},
     "output_type": "execute_result"
    }
   ],
   "source": [
    "tatamotors_5year.head()"
   ]
  },
  {
   "cell_type": "code",
   "execution_count": 16,
   "metadata": {},
   "outputs": [
    {
     "data": {
      "text/plain": [
       "536.7000122070312"
      ]
     },
     "execution_count": 16,
     "metadata": {},
     "output_type": "execute_result"
    }
   ],
   "source": [
    "tatamotors_5year.groupby('Years').get_group(2021).High.max(axis = 0)"
   ]
  },
  {
   "cell_type": "markdown",
   "metadata": {},
   "source": [
    "# <span><center style=\"color:#5494ff\"><strong>4. Dataset Creation for LSTM</strong></center></span>"
   ]
  },
  {
   "cell_type": "code",
   "execution_count": 17,
   "metadata": {},
   "outputs": [
    {
     "data": {
      "text/html": [
       "<div>\n",
       "<style scoped>\n",
       "    .dataframe tbody tr th:only-of-type {\n",
       "        vertical-align: middle;\n",
       "    }\n",
       "\n",
       "    .dataframe tbody tr th {\n",
       "        vertical-align: top;\n",
       "    }\n",
       "\n",
       "    .dataframe thead th {\n",
       "        text-align: right;\n",
       "    }\n",
       "</style>\n",
       "<table border=\"1\" class=\"dataframe\">\n",
       "  <thead>\n",
       "    <tr style=\"text-align: right;\">\n",
       "      <th></th>\n",
       "      <th>Date</th>\n",
       "      <th>Open</th>\n",
       "      <th>High</th>\n",
       "      <th>Low</th>\n",
       "      <th>Close</th>\n",
       "      <th>Volume</th>\n",
       "      <th>Dividends</th>\n",
       "      <th>Stock Splits</th>\n",
       "      <th>Years</th>\n",
       "      <th>Months</th>\n",
       "      <th>Days</th>\n",
       "      <th>Day_name</th>\n",
       "    </tr>\n",
       "    <tr>\n",
       "      <th>Index</th>\n",
       "      <th></th>\n",
       "      <th></th>\n",
       "      <th></th>\n",
       "      <th></th>\n",
       "      <th></th>\n",
       "      <th></th>\n",
       "      <th></th>\n",
       "      <th></th>\n",
       "      <th></th>\n",
       "      <th></th>\n",
       "      <th></th>\n",
       "      <th></th>\n",
       "    </tr>\n",
       "  </thead>\n",
       "  <tbody>\n",
       "    <tr>\n",
       "      <th>2017-03-08</th>\n",
       "      <td>2017-03-08</td>\n",
       "      <td>469.399994</td>\n",
       "      <td>469.600006</td>\n",
       "      <td>461.149994</td>\n",
       "      <td>462.799988</td>\n",
       "      <td>5351597</td>\n",
       "      <td>0</td>\n",
       "      <td>0</td>\n",
       "      <td>2017</td>\n",
       "      <td>3</td>\n",
       "      <td>8</td>\n",
       "      <td>Wednesday</td>\n",
       "    </tr>\n",
       "    <tr>\n",
       "      <th>2017-03-09</th>\n",
       "      <td>2017-03-09</td>\n",
       "      <td>462.450012</td>\n",
       "      <td>469.700012</td>\n",
       "      <td>462.000000</td>\n",
       "      <td>467.600006</td>\n",
       "      <td>3837624</td>\n",
       "      <td>0</td>\n",
       "      <td>0</td>\n",
       "      <td>2017</td>\n",
       "      <td>3</td>\n",
       "      <td>9</td>\n",
       "      <td>Thursday</td>\n",
       "    </tr>\n",
       "    <tr>\n",
       "      <th>2017-03-10</th>\n",
       "      <td>2017-03-10</td>\n",
       "      <td>471.000000</td>\n",
       "      <td>471.850006</td>\n",
       "      <td>465.100006</td>\n",
       "      <td>469.100006</td>\n",
       "      <td>5766815</td>\n",
       "      <td>0</td>\n",
       "      <td>0</td>\n",
       "      <td>2017</td>\n",
       "      <td>3</td>\n",
       "      <td>10</td>\n",
       "      <td>Friday</td>\n",
       "    </tr>\n",
       "    <tr>\n",
       "      <th>2017-03-14</th>\n",
       "      <td>2017-03-14</td>\n",
       "      <td>481.000000</td>\n",
       "      <td>483.000000</td>\n",
       "      <td>468.450012</td>\n",
       "      <td>469.750000</td>\n",
       "      <td>6348198</td>\n",
       "      <td>0</td>\n",
       "      <td>0</td>\n",
       "      <td>2017</td>\n",
       "      <td>3</td>\n",
       "      <td>14</td>\n",
       "      <td>Tuesday</td>\n",
       "    </tr>\n",
       "    <tr>\n",
       "      <th>2017-03-15</th>\n",
       "      <td>2017-03-15</td>\n",
       "      <td>475.000000</td>\n",
       "      <td>476.549988</td>\n",
       "      <td>470.649994</td>\n",
       "      <td>473.450012</td>\n",
       "      <td>4801312</td>\n",
       "      <td>0</td>\n",
       "      <td>0</td>\n",
       "      <td>2017</td>\n",
       "      <td>3</td>\n",
       "      <td>15</td>\n",
       "      <td>Wednesday</td>\n",
       "    </tr>\n",
       "  </tbody>\n",
       "</table>\n",
       "</div>"
      ],
      "text/plain": [
       "                 Date        Open        High         Low       Close  \\\n",
       "Index                                                                   \n",
       "2017-03-08 2017-03-08  469.399994  469.600006  461.149994  462.799988   \n",
       "2017-03-09 2017-03-09  462.450012  469.700012  462.000000  467.600006   \n",
       "2017-03-10 2017-03-10  471.000000  471.850006  465.100006  469.100006   \n",
       "2017-03-14 2017-03-14  481.000000  483.000000  468.450012  469.750000   \n",
       "2017-03-15 2017-03-15  475.000000  476.549988  470.649994  473.450012   \n",
       "\n",
       "             Volume  Dividends  Stock Splits  Years  Months  Days   Day_name  \n",
       "Index                                                                         \n",
       "2017-03-08  5351597          0             0   2017       3     8  Wednesday  \n",
       "2017-03-09  3837624          0             0   2017       3     9   Thursday  \n",
       "2017-03-10  5766815          0             0   2017       3    10     Friday  \n",
       "2017-03-14  6348198          0             0   2017       3    14    Tuesday  \n",
       "2017-03-15  4801312          0             0   2017       3    15  Wednesday  "
      ]
     },
     "execution_count": 17,
     "metadata": {},
     "output_type": "execute_result"
    }
   ],
   "source": [
    "tatamotors_5year.head(5)"
   ]
  },
  {
   "cell_type": "code",
   "execution_count": 18,
   "metadata": {},
   "outputs": [],
   "source": [
    "def Time_series_dataset(data, time_step, columns, target_colm, values_in_target = 1, dataframe = False):\n",
    "    '''\n",
    "    This function returns two arrays one dataset and other target dataset.\n",
    "    target dataset can be singular or multiples \n",
    "    - data : dataframe object consists of feature and target_colm\n",
    "    - time_step : window size for building dataset\n",
    "    - columns : list of columns that will be used as features\n",
    "    - target_colm : list of target_colm \n",
    "    - values_in_target : It is the no of values should be in target columns of dataset\n",
    "    '''\n",
    "    n = len(columns)\n",
    "    for i in range(data.shape[0]-time_step-values_in_target):\n",
    "        values = data[columns][i:time_step+i].to_numpy().reshape(-1,time_step,n)\n",
    "\n",
    "        target_value = data[target_colm].iloc[time_step+i:time_step+i+values_in_target,:].to_numpy()\n",
    "        target_value = target_value.reshape(-1, target_value.shape[0], target_value.shape[1])\n",
    "        if i == 0:\n",
    "            dataset = values\n",
    "            target_values = target_value\n",
    "        else:\n",
    "            dataset = np.concatenate((dataset, values))\n",
    "            target_values = np.concatenate((target_values, target_value))\n",
    "    if columns == target_colm and len(columns) == 1 and dataframe is True:\n",
    "        dataset = dataset.reshape(dataset.shape[0], -1)\n",
    "        target_values = target_values.reshape(dataset.shape[0], -1)\n",
    "        data = pd.DataFrame(dataset)\n",
    "        data['target'] = target_values\n",
    "        return data\n",
    "    else:\n",
    "        if len(target_colm)==1:\n",
    "            target_values = target_values.reshape(target_values.shape[0], -1)\n",
    "        return dataset, target_values"
   ]
  },
  {
   "cell_type": "markdown",
   "metadata": {},
   "source": [
    "<a id = '6.3'></a>\n",
    "## **<span style= 'color: #5494ff '>4.3 Dataset Having Multiple values in target</span>**"
   ]
  },
  {
   "cell_type": "markdown",
   "metadata": {},
   "source": [
    "<a id = '6.3.2'></a>\n",
    "### **<span style= 'color: #5494ff '>4.3.2 Multiple Feature in Target with Multiple values</span>**"
   ]
  },
  {
   "cell_type": "code",
   "execution_count": 19,
   "metadata": {},
   "outputs": [],
   "source": [
    "open_dataset_multi_target, target_multi_target = Time_series_dataset(tatamotors_5year, 80, ['Open', 'Volume']\n",
    "        , ['Open', 'Volume'], values_in_target= 10)"
   ]
  },
  {
   "cell_type": "code",
   "execution_count": 20,
   "metadata": {},
   "outputs": [
    {
     "data": {
      "text/plain": [
       "((1146, 80, 2), (1146, 10, 2))"
      ]
     },
     "execution_count": 20,
     "metadata": {},
     "output_type": "execute_result"
    }
   ],
   "source": [
    "open_dataset_multi_target.shape, target_multi_target.shape"
   ]
  },
  {
   "cell_type": "code",
   "execution_count": 21,
   "metadata": {},
   "outputs": [
    {
     "data": {
      "text/plain": [
       "array([[4.28899994e+02, 5.05074900e+06],\n",
       "       [4.35399994e+02, 4.03818800e+06],\n",
       "       [4.34450012e+02, 5.31173000e+06],\n",
       "       [4.46600006e+02, 1.15472100e+06],\n",
       "       [4.52000000e+02, 1.20690060e+07],\n",
       "       [4.61000000e+02, 6.05154000e+06],\n",
       "       [4.64500000e+02, 4.38206300e+06],\n",
       "       [4.60000000e+02, 3.97426900e+06],\n",
       "       [4.55000000e+02, 4.92245300e+06],\n",
       "       [4.52600006e+02, 2.34926800e+06]])"
      ]
     },
     "execution_count": 21,
     "metadata": {},
     "output_type": "execute_result"
    }
   ],
   "source": [
    "target_multi_target[0]"
   ]
  },
  {
   "cell_type": "markdown",
   "metadata": {},
   "source": [
    "<a id = '7'></a>\n",
    "# <span><center style=\"color:#5494ff\"><strong>5. Split into Train, Test and Validation dataset</strong></center></span>"
   ]
  },
  {
   "cell_type": "code",
   "execution_count": 22,
   "metadata": {},
   "outputs": [],
   "source": [
    "train_ratio = 0.7\n",
    "validation_ratio = 0.15\n",
    "test_ratio = 0.15\n",
    "\n",
    "def Splitting_dataset(data, train_ratio = train_ratio, valid_ratio = None, target_variable = None):\n",
    "    '''\n",
    "    This Function Splits time series data into train, test and validation data with given percentages\n",
    "    \n",
    "    - train_ratio : percentage of data contained in training set\n",
    "    - valid_ratio : percentage of data contained in validation set\n",
    "    - target_variable : If given data does not contain final column as target column then provide target array\n",
    "\n",
    "    Return:\n",
    "    - If valid_ratio is provided the dataset will be split into 3 set with order as:\n",
    "    x_train, x_val, x_test, y_train, y_val, y_test\n",
    "\n",
    "    - If only train_ratio is provided the dataset will be divided into 2 sets as:\n",
    "    x_train, x_test, y_train, y_test\n",
    "    '''\n",
    "    if target_variable is None:\n",
    "        obs = data.shape[0]\n",
    "        training_rows = int(obs*train_ratio)\n",
    "        if valid_ratio:\n",
    "            valid_rows = int(obs*valid_ratio)\n",
    "            A = training_rows+valid_rows\n",
    "            x_train, y_train = data.iloc[:training_rows,:-1].to_numpy(), data.iloc[:training_rows,-1].to_numpy()\n",
    "            x_val, y_val = data.iloc[training_rows:A, :-1].to_numpy(), data.iloc[training_rows:A, -1].to_numpy()\n",
    "            x_test, y_test = data.iloc[A:,:-1].to_numpy(), data.iloc[A:,-1].to_numpy()\n",
    "            return x_train, x_val, x_test, y_train, y_val, y_test\n",
    "        else:\n",
    "            x_train, y_train = data.iloc[:training_rows,:-1].to_numpy(), data.iloc[:training_rows,-1].to_numpy()\n",
    "            x_test, y_test = data.iloc[training_rows:, :-1].to_numpy(), data.iloc[training_rows:,-1].to_numpy()\n",
    "            return x_train, x_test, y_train, y_test\n",
    "\n",
    "    else:\n",
    "        obs = data.shape[0]\n",
    "        training_rows = int(obs*train_ratio)\n",
    "        if valid_ratio:\n",
    "            valid_rows = int(obs*valid_ratio)\n",
    "            A = training_rows+valid_rows\n",
    "            x_train, y_train = data[:training_rows], target_variable[:training_rows]\n",
    "            x_val, y_val = data[training_rows:A], target_variable[training_rows:A]\n",
    "            x_test, y_test = data[A:], target_variable[A:]\n",
    "            return x_train, x_val, x_test, y_train, y_val, y_test\n",
    "        else:\n",
    "            x_train, y_train = data[:training_rows], target_variable[:training_rows]\n",
    "            x_test, y_test = data[training_rows:], target_variable[training_rows:]\n",
    "            return x_train, x_test, y_train, y_test\n",
    "\n",
    "\n",
    "\n",
    "\n",
    "\n",
    "\n",
    "def transformation_min_max(data, min, max):\n",
    "    data = (data - min)/(max- min)\n",
    "    return data"
   ]
  },
  {
   "cell_type": "markdown",
   "metadata": {},
   "source": [
    "<a id = '7.4'></a>\n",
    "## **<span style= 'color: #5494ff '>5.4 Dataset with Multiple feature in target having Multi target values</span>**"
   ]
  },
  {
   "cell_type": "code",
   "execution_count": 23,
   "metadata": {},
   "outputs": [],
   "source": [
    "x_train_multi_target, x_val_multi_target, x_test_multi_target, y_train_multi_target, y_val_multi_target, y_test_multi_target=Splitting_dataset(\n",
    "        open_dataset_multi_target, target_variable= target_multi_target, valid_ratio=validation_ratio)"
   ]
  },
  {
   "cell_type": "code",
   "execution_count": 24,
   "metadata": {},
   "outputs": [
    {
     "data": {
      "text/plain": [
       "((802, 80, 2), (802, 10, 2), (171, 80, 2), (173, 80, 2))"
      ]
     },
     "execution_count": 24,
     "metadata": {},
     "output_type": "execute_result"
    }
   ],
   "source": [
    "x_train_multi_target.shape, y_train_multi_target.shape, x_val_multi_target.shape, x_test_multi_target.shape"
   ]
  },
  {
   "cell_type": "code",
   "execution_count": 25,
   "metadata": {},
   "outputs": [
    {
     "data": {
      "text/plain": [
       "array([4.82899994e+02, 2.15476711e+08])"
      ]
     },
     "execution_count": 25,
     "metadata": {},
     "output_type": "execute_result"
    }
   ],
   "source": [
    "x_train_multi_target.max(axis = (0,1))"
   ]
  },
  {
   "cell_type": "code",
   "execution_count": 26,
   "metadata": {},
   "outputs": [
    {
     "data": {
      "text/plain": [
       "(802, 80)"
      ]
     },
     "execution_count": 26,
     "metadata": {},
     "output_type": "execute_result"
    }
   ],
   "source": [
    "U = pd.DataFrame(x_train_multi_target[:,:,0])\n",
    "V = pd.DataFrame(y_train_multi_target[:,:,0])\n",
    "\n",
    "U.shape"
   ]
  },
  {
   "cell_type": "code",
   "execution_count": 27,
   "metadata": {},
   "outputs": [
    {
     "data": {
      "text/html": [
       "<div>\n",
       "<style scoped>\n",
       "    .dataframe tbody tr th:only-of-type {\n",
       "        vertical-align: middle;\n",
       "    }\n",
       "\n",
       "    .dataframe tbody tr th {\n",
       "        vertical-align: top;\n",
       "    }\n",
       "\n",
       "    .dataframe thead th {\n",
       "        text-align: right;\n",
       "    }\n",
       "</style>\n",
       "<table border=\"1\" class=\"dataframe\">\n",
       "  <thead>\n",
       "    <tr style=\"text-align: right;\">\n",
       "      <th></th>\n",
       "      <th>75</th>\n",
       "      <th>76</th>\n",
       "      <th>77</th>\n",
       "      <th>78</th>\n",
       "      <th>79</th>\n",
       "      <th>0</th>\n",
       "      <th>1</th>\n",
       "      <th>2</th>\n",
       "      <th>3</th>\n",
       "      <th>4</th>\n",
       "      <th>5</th>\n",
       "      <th>6</th>\n",
       "      <th>7</th>\n",
       "      <th>8</th>\n",
       "      <th>9</th>\n",
       "    </tr>\n",
       "  </thead>\n",
       "  <tbody>\n",
       "    <tr>\n",
       "      <th>0</th>\n",
       "      <td>443.899994</td>\n",
       "      <td>444.500000</td>\n",
       "      <td>433.899994</td>\n",
       "      <td>431.500000</td>\n",
       "      <td>434.200012</td>\n",
       "      <td>428.899994</td>\n",
       "      <td>435.399994</td>\n",
       "      <td>434.450012</td>\n",
       "      <td>446.600006</td>\n",
       "      <td>452.000000</td>\n",
       "      <td>461.000000</td>\n",
       "      <td>464.500000</td>\n",
       "      <td>460.000000</td>\n",
       "      <td>455.000000</td>\n",
       "      <td>452.600006</td>\n",
       "    </tr>\n",
       "    <tr>\n",
       "      <th>1</th>\n",
       "      <td>444.500000</td>\n",
       "      <td>433.899994</td>\n",
       "      <td>431.500000</td>\n",
       "      <td>434.200012</td>\n",
       "      <td>428.899994</td>\n",
       "      <td>435.399994</td>\n",
       "      <td>434.450012</td>\n",
       "      <td>446.600006</td>\n",
       "      <td>452.000000</td>\n",
       "      <td>461.000000</td>\n",
       "      <td>464.500000</td>\n",
       "      <td>460.000000</td>\n",
       "      <td>455.000000</td>\n",
       "      <td>452.600006</td>\n",
       "      <td>453.000000</td>\n",
       "    </tr>\n",
       "    <tr>\n",
       "      <th>2</th>\n",
       "      <td>433.899994</td>\n",
       "      <td>431.500000</td>\n",
       "      <td>434.200012</td>\n",
       "      <td>428.899994</td>\n",
       "      <td>435.399994</td>\n",
       "      <td>434.450012</td>\n",
       "      <td>446.600006</td>\n",
       "      <td>452.000000</td>\n",
       "      <td>461.000000</td>\n",
       "      <td>464.500000</td>\n",
       "      <td>460.000000</td>\n",
       "      <td>455.000000</td>\n",
       "      <td>452.600006</td>\n",
       "      <td>453.000000</td>\n",
       "      <td>463.500000</td>\n",
       "    </tr>\n",
       "    <tr>\n",
       "      <th>3</th>\n",
       "      <td>431.500000</td>\n",
       "      <td>434.200012</td>\n",
       "      <td>428.899994</td>\n",
       "      <td>435.399994</td>\n",
       "      <td>434.450012</td>\n",
       "      <td>446.600006</td>\n",
       "      <td>452.000000</td>\n",
       "      <td>461.000000</td>\n",
       "      <td>464.500000</td>\n",
       "      <td>460.000000</td>\n",
       "      <td>455.000000</td>\n",
       "      <td>452.600006</td>\n",
       "      <td>453.000000</td>\n",
       "      <td>463.500000</td>\n",
       "      <td>460.000000</td>\n",
       "    </tr>\n",
       "    <tr>\n",
       "      <th>4</th>\n",
       "      <td>434.200012</td>\n",
       "      <td>428.899994</td>\n",
       "      <td>435.399994</td>\n",
       "      <td>434.450012</td>\n",
       "      <td>446.600006</td>\n",
       "      <td>452.000000</td>\n",
       "      <td>461.000000</td>\n",
       "      <td>464.500000</td>\n",
       "      <td>460.000000</td>\n",
       "      <td>455.000000</td>\n",
       "      <td>452.600006</td>\n",
       "      <td>453.000000</td>\n",
       "      <td>463.500000</td>\n",
       "      <td>460.000000</td>\n",
       "      <td>464.950012</td>\n",
       "    </tr>\n",
       "    <tr>\n",
       "      <th>5</th>\n",
       "      <td>428.899994</td>\n",
       "      <td>435.399994</td>\n",
       "      <td>434.450012</td>\n",
       "      <td>446.600006</td>\n",
       "      <td>452.000000</td>\n",
       "      <td>461.000000</td>\n",
       "      <td>464.500000</td>\n",
       "      <td>460.000000</td>\n",
       "      <td>455.000000</td>\n",
       "      <td>452.600006</td>\n",
       "      <td>453.000000</td>\n",
       "      <td>463.500000</td>\n",
       "      <td>460.000000</td>\n",
       "      <td>464.950012</td>\n",
       "      <td>462.149994</td>\n",
       "    </tr>\n",
       "    <tr>\n",
       "      <th>6</th>\n",
       "      <td>435.399994</td>\n",
       "      <td>434.450012</td>\n",
       "      <td>446.600006</td>\n",
       "      <td>452.000000</td>\n",
       "      <td>461.000000</td>\n",
       "      <td>464.500000</td>\n",
       "      <td>460.000000</td>\n",
       "      <td>455.000000</td>\n",
       "      <td>452.600006</td>\n",
       "      <td>453.000000</td>\n",
       "      <td>463.500000</td>\n",
       "      <td>460.000000</td>\n",
       "      <td>464.950012</td>\n",
       "      <td>462.149994</td>\n",
       "      <td>457.200012</td>\n",
       "    </tr>\n",
       "    <tr>\n",
       "      <th>7</th>\n",
       "      <td>434.450012</td>\n",
       "      <td>446.600006</td>\n",
       "      <td>452.000000</td>\n",
       "      <td>461.000000</td>\n",
       "      <td>464.500000</td>\n",
       "      <td>460.000000</td>\n",
       "      <td>455.000000</td>\n",
       "      <td>452.600006</td>\n",
       "      <td>453.000000</td>\n",
       "      <td>463.500000</td>\n",
       "      <td>460.000000</td>\n",
       "      <td>464.950012</td>\n",
       "      <td>462.149994</td>\n",
       "      <td>457.200012</td>\n",
       "      <td>459.000000</td>\n",
       "    </tr>\n",
       "    <tr>\n",
       "      <th>8</th>\n",
       "      <td>446.600006</td>\n",
       "      <td>452.000000</td>\n",
       "      <td>461.000000</td>\n",
       "      <td>464.500000</td>\n",
       "      <td>460.000000</td>\n",
       "      <td>455.000000</td>\n",
       "      <td>452.600006</td>\n",
       "      <td>453.000000</td>\n",
       "      <td>463.500000</td>\n",
       "      <td>460.000000</td>\n",
       "      <td>464.950012</td>\n",
       "      <td>462.149994</td>\n",
       "      <td>457.200012</td>\n",
       "      <td>459.000000</td>\n",
       "      <td>444.600006</td>\n",
       "    </tr>\n",
       "    <tr>\n",
       "      <th>9</th>\n",
       "      <td>452.000000</td>\n",
       "      <td>461.000000</td>\n",
       "      <td>464.500000</td>\n",
       "      <td>460.000000</td>\n",
       "      <td>455.000000</td>\n",
       "      <td>452.600006</td>\n",
       "      <td>453.000000</td>\n",
       "      <td>463.500000</td>\n",
       "      <td>460.000000</td>\n",
       "      <td>464.950012</td>\n",
       "      <td>462.149994</td>\n",
       "      <td>457.200012</td>\n",
       "      <td>459.000000</td>\n",
       "      <td>444.600006</td>\n",
       "      <td>446.250000</td>\n",
       "    </tr>\n",
       "  </tbody>\n",
       "</table>\n",
       "</div>"
      ],
      "text/plain": [
       "           75          76          77          78          79          0   \\\n",
       "0  443.899994  444.500000  433.899994  431.500000  434.200012  428.899994   \n",
       "1  444.500000  433.899994  431.500000  434.200012  428.899994  435.399994   \n",
       "2  433.899994  431.500000  434.200012  428.899994  435.399994  434.450012   \n",
       "3  431.500000  434.200012  428.899994  435.399994  434.450012  446.600006   \n",
       "4  434.200012  428.899994  435.399994  434.450012  446.600006  452.000000   \n",
       "5  428.899994  435.399994  434.450012  446.600006  452.000000  461.000000   \n",
       "6  435.399994  434.450012  446.600006  452.000000  461.000000  464.500000   \n",
       "7  434.450012  446.600006  452.000000  461.000000  464.500000  460.000000   \n",
       "8  446.600006  452.000000  461.000000  464.500000  460.000000  455.000000   \n",
       "9  452.000000  461.000000  464.500000  460.000000  455.000000  452.600006   \n",
       "\n",
       "           1           2           3           4           5           6   \\\n",
       "0  435.399994  434.450012  446.600006  452.000000  461.000000  464.500000   \n",
       "1  434.450012  446.600006  452.000000  461.000000  464.500000  460.000000   \n",
       "2  446.600006  452.000000  461.000000  464.500000  460.000000  455.000000   \n",
       "3  452.000000  461.000000  464.500000  460.000000  455.000000  452.600006   \n",
       "4  461.000000  464.500000  460.000000  455.000000  452.600006  453.000000   \n",
       "5  464.500000  460.000000  455.000000  452.600006  453.000000  463.500000   \n",
       "6  460.000000  455.000000  452.600006  453.000000  463.500000  460.000000   \n",
       "7  455.000000  452.600006  453.000000  463.500000  460.000000  464.950012   \n",
       "8  452.600006  453.000000  463.500000  460.000000  464.950012  462.149994   \n",
       "9  453.000000  463.500000  460.000000  464.950012  462.149994  457.200012   \n",
       "\n",
       "           7           8           9   \n",
       "0  460.000000  455.000000  452.600006  \n",
       "1  455.000000  452.600006  453.000000  \n",
       "2  452.600006  453.000000  463.500000  \n",
       "3  453.000000  463.500000  460.000000  \n",
       "4  463.500000  460.000000  464.950012  \n",
       "5  460.000000  464.950012  462.149994  \n",
       "6  464.950012  462.149994  457.200012  \n",
       "7  462.149994  457.200012  459.000000  \n",
       "8  457.200012  459.000000  444.600006  \n",
       "9  459.000000  444.600006  446.250000  "
      ]
     },
     "execution_count": 27,
     "metadata": {},
     "output_type": "execute_result"
    }
   ],
   "source": [
    "pd.concat((U,V), axis = 1).iloc[:10,75:]"
   ]
  },
  {
   "cell_type": "code",
   "execution_count": 28,
   "metadata": {},
   "outputs": [],
   "source": [
    "train_min_multi_target = x_train_multi_target.min(axis = (0,1))\n",
    "train_max_multi_target = x_train_multi_target.max(axis = (0,1))"
   ]
  },
  {
   "cell_type": "code",
   "execution_count": 29,
   "metadata": {},
   "outputs": [
    {
     "data": {
      "text/plain": [
       "(array([6.650000e+01, 1.154721e+06]), array([4.82899994e+02, 2.15476711e+08]))"
      ]
     },
     "execution_count": 29,
     "metadata": {},
     "output_type": "execute_result"
    }
   ],
   "source": [
    "train_min_multi_target, train_max_multi_target"
   ]
  },
  {
   "cell_type": "code",
   "execution_count": 30,
   "metadata": {},
   "outputs": [],
   "source": [
    "x_train_multi_target = transformation_min_max(x_train_multi_target, train_min_multi_target, train_max_multi_target)\n",
    "x_test_multi_target = transformation_min_max(x_test_multi_target, train_min_multi_target, train_max_multi_target)\n",
    "x_val_multi_target = transformation_min_max(x_val_multi_target, train_min_multi_target, train_max_multi_target)\n",
    "\n",
    "y_train_multi_target = transformation_min_max(y_train_multi_target, train_min_multi_target, train_max_multi_target)\n",
    "y_test_multi_target = transformation_min_max(y_test_multi_target, train_min_multi_target, train_max_multi_target)\n",
    "y_val_multi_target = transformation_min_max(y_val_multi_target, train_min_multi_target, train_max_multi_target)"
   ]
  },
  {
   "cell_type": "code",
   "execution_count": 31,
   "metadata": {},
   "outputs": [
    {
     "data": {
      "text/plain": [
       "((802, 80, 2), (802, 10, 2))"
      ]
     },
     "execution_count": 31,
     "metadata": {},
     "output_type": "execute_result"
    }
   ],
   "source": [
    "x_train_multi_target.shape, y_train_multi_target.shape, "
   ]
  },
  {
   "cell_type": "code",
   "execution_count": 32,
   "metadata": {},
   "outputs": [
    {
     "data": {
      "text/plain": [
       "(array([1., 1.]), array([1.11659467, 0.91821967]), 1.0)"
      ]
     },
     "execution_count": 32,
     "metadata": {},
     "output_type": "execute_result"
    }
   ],
   "source": [
    "(x_train_multi_target.max(axis = (0,1)), \n",
    "x_test_multi_target.max(axis = (0,1)), y_train_multi_target.max())"
   ]
  },
  {
   "cell_type": "markdown",
   "metadata": {},
   "source": [
    "<a id = '8'></a>\n",
    "# <span><center style=\"color:#5494ff\"><strong>6. Model Building</strong></center></span>"
   ]
  },
  {
   "cell_type": "markdown",
   "metadata": {},
   "source": [
    "<a id = \"8.1\"></a>\n",
    "## **<span style = \"color: #5494ff ;\">6.1 Imports</span>**"
   ]
  },
  {
   "cell_type": "code",
   "execution_count": 33,
   "metadata": {},
   "outputs": [],
   "source": [
    "import tensorflow as tf\n",
    "\n",
    "from tensorflow.keras import Sequential, Model\n",
    "from tensorflow.keras.callbacks import TensorBoard, EarlyStopping\n",
    "from tensorflow.keras.layers import Dense, LSTM, GRU\n",
    "from tensorflow.keras import layers\n",
    "from tensorflow.keras.utils import plot_model\n",
    "\n",
    "tf.random.set_seed(RANDOM_SEED)"
   ]
  },
  {
   "cell_type": "code",
   "execution_count": 34,
   "metadata": {},
   "outputs": [],
   "source": [
    "MODEL_SAVE_PATH = './model_weights'"
   ]
  },
  {
   "cell_type": "code",
   "execution_count": 35,
   "metadata": {},
   "outputs": [
    {
     "data": {
      "text/plain": [
       "[PhysicalDevice(name='/physical_device:CPU:0', device_type='CPU'),\n",
       " PhysicalDevice(name='/physical_device:GPU:0', device_type='GPU')]"
      ]
     },
     "execution_count": 35,
     "metadata": {},
     "output_type": "execute_result"
    }
   ],
   "source": [
    "tf.config.list_physical_devices()"
   ]
  },
  {
   "cell_type": "code",
   "execution_count": 36,
   "metadata": {},
   "outputs": [],
   "source": [
    "def Prediction_fun(data, model, no_predictions):\n",
    "    '''\n",
    "    This function return array of forecast values given data and model,\n",
    "    forecasts no_prediction steps\n",
    "    '''\n",
    "    predictions = []\n",
    "    last_steps = data[-1]\n",
    "    last_values = last_steps.reshape(-1, last_steps.shape[0], last_steps.shape[1])\n",
    "    for i in range(no_predictions):\n",
    "        prediction = model.predict(last_values)\n",
    "        predictions.extend(prediction.tolist())\n",
    "        prediction = prediction.reshape(-1, prediction.shape[0], prediction.shape[1])\n",
    "        last_values = np.concatenate((last_values[:,1:,:], prediction), axis = 1)\n",
    "    return np.array(predictions)\n",
    "\n",
    "def Reverse_transform(max, min, values):\n",
    "    values = values*(max - min) + min\n",
    "    return values\n",
    "\n",
    "\n",
    "def Evaluate_model(model, x_test, y_test, transform_max=None, transform_min = None, \n",
    "        x_val = None, y_val = None, no_prediction=None):\n",
    "    \n",
    "    original_y_test = Reverse_transform(transform_max, transform_min, y_test)\n",
    "\n",
    "    if transform_max is not None:\n",
    "        if x_val is not None:\n",
    "            original_y_val = Reverse_transform(transform_max ,transform_min, y_val)\n",
    "            print(\"The Model errors on validation dataset before reverse_transform is: \")\n",
    "            print(f'{model.evaluate(x_val, y_val, verbose= 0)}')\n",
    "            val_pred = Reverse_transform(transform_max, transform_min, model.predict(x_val))\n",
    "            print(\"The Model Absolute error on validation dataset after reverse_transform is: \")\n",
    "            print(f\"{mean_absolute_error(original_y_val, val_pred)}\")\n",
    "            print('-~'*40)\n",
    "            \n",
    "        print(\"The Model errors on test dataset before reverse_transform is: \")\n",
    "        print(f'{model.evaluate(x_test, y_test, verbose= 0)}')\n",
    "        test_pred = Reverse_transform(transform_max, transform_min, model.predict(x_test))\n",
    "        print(\"The Model Absolute error on test dataset after reverse_transform is: \")\n",
    "        print(f\"{mean_absolute_error(original_y_test, test_pred)}\")\n",
    "        ax = plt.plot(original_y_test, label = 'Test')\n",
    "        ax.append(plt.plot(test_pred, label = 'Test_prediction'))\n",
    "        if no_prediction:\n",
    "            plot_prediction(x_test, y_test, model, transform_max, transform_min, no_prediction)\n",
    "        plt.title('Test dataset')\n",
    "        plt.legend()\n",
    "        plt.show()\n",
    "\n",
    "def plot_prediction(time_series_data, target,  model, d_max, d_min , no_prediction= 10):\n",
    "    prediction = Prediction_fun(time_series_data, model, no_prediction)\n",
    "    prediction = Reverse_transform(d_max, d_min, prediction)\n",
    "    A = np.empty_like(target)\n",
    "    A.fill(None)\n",
    "    A = np.concatenate((A, prediction.ravel()))\n",
    "    target = Reverse_transform(d_max, d_min, target)\n",
    "    # plt.plot(target)\n",
    "    ax = plt.plot(A, label = 'Future')\n",
    "    return ax"
   ]
  },
  {
   "cell_type": "markdown",
   "metadata": {},
   "source": [
    "<a id = \"8.2\"></a>\n",
    "## **<span style = \"color: #5494ff ;\">6.2 Neural Model Building</span>**"
   ]
  },
  {
   "cell_type": "markdown",
   "metadata": {},
   "source": [
    "### **<span style = \"color: #5494ff ;\">6.2.7 Model with dataset having Multiple feature & multiple values in target</span>**"
   ]
  },
  {
   "cell_type": "code",
   "execution_count": 37,
   "metadata": {},
   "outputs": [
    {
     "data": {
      "text/plain": [
       "((802, 80, 2), (802, 10, 2))"
      ]
     },
     "execution_count": 37,
     "metadata": {},
     "output_type": "execute_result"
    }
   ],
   "source": [
    "x_train_multi_target.shape, y_train_multi_target.shape"
   ]
  },
  {
   "cell_type": "code",
   "execution_count": 38,
   "metadata": {},
   "outputs": [
    {
     "data": {
      "text/plain": [
       "15"
      ]
     },
     "execution_count": 38,
     "metadata": {},
     "output_type": "execute_result"
    }
   ],
   "source": [
    "RANDOM_SEED"
   ]
  },
  {
   "cell_type": "code",
   "execution_count": 46,
   "metadata": {},
   "outputs": [],
   "source": [
    "tf.random.set_seed(RANDOM_SEED)\n",
    "\n",
    "inputs = tf.keras.Input(shape = (80,2))\n",
    "x = LSTM(80, recurrent_regularizer= tf.keras.regularizers.L2(0.1),\n",
    "        input_shape = (80,2), return_sequences= True )(inputs)\n",
    "x = layers.Bidirectional(LSTM(80, recurrent_regularizer= tf.keras.regularizers.L2(0.05) ,return_sequences = True))(x)\n",
    "x = layers.Bidirectional(LSTM(80))(x)\n",
    "\n",
    "\n",
    "y = Dense(50, activation= 'relu')(x)\n",
    "z = Dense(50, activation = 'relu')(x)\n",
    "price_output = Dense(10, name = 'price_output')(y)\n",
    "volume_output = Dense(10, name = 'volume_output')(z)\n",
    "\n",
    "model_multi_target = Model(inputs = inputs, outputs = [price_output, volume_output])"
   ]
  },
  {
   "cell_type": "code",
   "execution_count": 77,
   "metadata": {},
   "outputs": [
    {
     "ename": "TypeError",
     "evalue": "unsupported operand type(s) for *: 'MeanSquaredError' and 'int'",
     "output_type": "error",
     "traceback": [
      "\u001b[1;31m---------------------------------------------------------------------------\u001b[0m",
      "\u001b[1;31mTypeError\u001b[0m                                 Traceback (most recent call last)",
      "\u001b[1;32m~\\AppData\\Local\\Temp/ipykernel_9380/2813404749.py\u001b[0m in \u001b[0;36m<module>\u001b[1;34m\u001b[0m\n\u001b[0;32m      1\u001b[0m model_multi_target.compile(optimizer= tf.keras.optimizers.Adam(learning_rate=0.0005),\n\u001b[1;32m----> 2\u001b[1;33m     loss = tf.keras.losses.MeanSquaredError()*4, metrics = [tf.keras.losses.MeanAbsoluteError()])\n\u001b[0m\u001b[0;32m      3\u001b[0m \u001b[1;33m\u001b[0m\u001b[0m\n\u001b[0;32m      4\u001b[0m \u001b[0mtensor_board\u001b[0m \u001b[1;33m=\u001b[0m \u001b[0mTensorBoard\u001b[0m\u001b[1;33m(\u001b[0m\u001b[1;34m'./logs/'\u001b[0m\u001b[1;33m)\u001b[0m\u001b[1;33m\u001b[0m\u001b[1;33m\u001b[0m\u001b[0m\n",
      "\u001b[1;31mTypeError\u001b[0m: unsupported operand type(s) for *: 'MeanSquaredError' and 'int'"
     ]
    }
   ],
   "source": [
    "model_multi_target.compile(optimizer= tf.keras.optimizers.Adam(learning_rate=0.0005),\n",
    "    loss = tf.keras.losses.MeanSquaredError(), metrics = [tf.keras.losses.MeanAbsoluteError()])\n",
    "\n",
    "tensor_board = TensorBoard('./logs/')"
   ]
  },
  {
   "cell_type": "code",
   "execution_count": 48,
   "metadata": {},
   "outputs": [
    {
     "name": "stdout",
     "output_type": "stream",
     "text": [
      "Model: \"model_1\"\n",
      "__________________________________________________________________________________________________\n",
      " Layer (type)                   Output Shape         Param #     Connected to                     \n",
      "==================================================================================================\n",
      " input_2 (InputLayer)           [(None, 80, 2)]      0           []                               \n",
      "                                                                                                  \n",
      " lstm_3 (LSTM)                  (None, 80, 80)       26560       ['input_2[0][0]']                \n",
      "                                                                                                  \n",
      " bidirectional_2 (Bidirectional  (None, 80, 160)     103040      ['lstm_3[0][0]']                 \n",
      " )                                                                                                \n",
      "                                                                                                  \n",
      " bidirectional_3 (Bidirectional  (None, 160)         154240      ['bidirectional_2[0][0]']        \n",
      " )                                                                                                \n",
      "                                                                                                  \n",
      " dense_2 (Dense)                (None, 50)           8050        ['bidirectional_3[0][0]']        \n",
      "                                                                                                  \n",
      " dense_3 (Dense)                (None, 50)           8050        ['bidirectional_3[0][0]']        \n",
      "                                                                                                  \n",
      " price_output (Dense)           (None, 10)           510         ['dense_2[0][0]']                \n",
      "                                                                                                  \n",
      " volume_output (Dense)          (None, 10)           510         ['dense_3[0][0]']                \n",
      "                                                                                                  \n",
      "==================================================================================================\n",
      "Total params: 300,960\n",
      "Trainable params: 300,960\n",
      "Non-trainable params: 0\n",
      "__________________________________________________________________________________________________\n"
     ]
    }
   ],
   "source": [
    "model_multi_target.summary()"
   ]
  },
  {
   "cell_type": "code",
   "execution_count": 49,
   "metadata": {},
   "outputs": [
    {
     "data": {
      "image/png": "[encoded data removed]",
      "text/plain": [
       "<IPython.core.display.Image object>"
      ]
     },
     "execution_count": 49,
     "metadata": {},
     "output_type": "execute_result"
    }
   ],
   "source": [
    "plot_model(model_multi_target, show_shapes=True, show_dtype= True)"
   ]
  },
  {
   "cell_type": "code",
   "execution_count": 50,
   "metadata": {},
   "outputs": [
    {
     "data": {
      "text/plain": [
       "array([0.870317  , 0.88592699, 0.88364558, 0.91282424, 0.92579252,\n",
       "       0.94740635, 0.95581173, 0.94500482, 0.93299713, 0.92723346])"
      ]
     },
     "execution_count": 50,
     "metadata": {},
     "output_type": "execute_result"
    }
   ],
   "source": [
    "y_train_multi_target[0,:,0]"
   ]
  },
  {
   "cell_type": "code",
   "execution_count": 69,
   "metadata": {},
   "outputs": [
    {
     "name": "stdout",
     "output_type": "stream",
     "text": [
      "Epoch 1/5\n",
      "26/26 [==============================] - 5s 145ms/step - loss: 0.0110 - price_output_loss: 0.0018 - volume_output_loss: 0.0091 - price_output_mean_absolute_error: 0.0332 - volume_output_mean_absolute_error: 0.0549 - val_loss: 0.0889 - val_price_output_loss: 0.0186 - val_volume_output_loss: 0.0702 - val_price_output_mean_absolute_error: 0.1069 - val_volume_output_mean_absolute_error: 0.1477\n",
      "Epoch 2/5\n",
      "26/26 [==============================] - 3s 114ms/step - loss: 0.0111 - price_output_loss: 0.0022 - volume_output_loss: 0.0089 - price_output_mean_absolute_error: 0.0344 - volume_output_mean_absolute_error: 0.0556 - val_loss: 0.0911 - val_price_output_loss: 0.0203 - val_volume_output_loss: 0.0708 - val_price_output_mean_absolute_error: 0.1120 - val_volume_output_mean_absolute_error: 0.1489\n",
      "Epoch 3/5\n",
      "26/26 [==============================] - 3s 104ms/step - loss: 0.0107 - price_output_loss: 0.0018 - volume_output_loss: 0.0089 - price_output_mean_absolute_error: 0.0317 - volume_output_mean_absolute_error: 0.0556 - val_loss: 0.0878 - val_price_output_loss: 0.0193 - val_volume_output_loss: 0.0685 - val_price_output_mean_absolute_error: 0.1064 - val_volume_output_mean_absolute_error: 0.1474\n",
      "Epoch 4/5\n",
      "26/26 [==============================] - 3s 130ms/step - loss: 0.0109 - price_output_loss: 0.0017 - volume_output_loss: 0.0092 - price_output_mean_absolute_error: 0.0303 - volume_output_mean_absolute_error: 0.0556 - val_loss: 0.0915 - val_price_output_loss: 0.0212 - val_volume_output_loss: 0.0703 - val_price_output_mean_absolute_error: 0.1169 - val_volume_output_mean_absolute_error: 0.1486\n",
      "Epoch 5/5\n",
      "26/26 [==============================] - 3s 108ms/step - loss: 0.0104 - price_output_loss: 0.0016 - volume_output_loss: 0.0088 - price_output_mean_absolute_error: 0.0311 - volume_output_mean_absolute_error: 0.0534 - val_loss: 0.0897 - val_price_output_loss: 0.0222 - val_volume_output_loss: 0.0675 - val_price_output_mean_absolute_error: 0.1181 - val_volume_output_mean_absolute_error: 0.1471\n"
     ]
    },
    {
     "data": {
      "text/plain": [
       "<keras.callbacks.History at 0x1fcacba8340>"
      ]
     },
     "execution_count": 69,
     "metadata": {},
     "output_type": "execute_result"
    }
   ],
   "source": [
    "model_multi_target.fit(x_train_multi_target, (y_train_multi_target[:,:,0], y_train_multi_target[:,:,1]), epochs= 5, \n",
    "    validation_data= [x_val_multi_target, (y_val_multi_target[:,:,0], y_val_multi_target[:,:,1] )],\n",
    "    callbacks = [tensor_board], shuffle= True)"
   ]
  },
  {
   "cell_type": "code",
   "execution_count": 52,
   "metadata": {},
   "outputs": [
    {
     "data": {
      "text/plain": [
       "'./model_weights'"
      ]
     },
     "execution_count": 52,
     "metadata": {},
     "output_type": "execute_result"
    }
   ],
   "source": [
    "MODEL_SAVE_PATH"
   ]
  },
  {
   "cell_type": "code",
   "execution_count": 70,
   "metadata": {},
   "outputs": [],
   "source": [
    "model_multi_target.save_weights(MODEL_SAVE_PATH+'/model_multi_target.h5')"
   ]
  },
  {
   "cell_type": "code",
   "execution_count": 71,
   "metadata": {},
   "outputs": [],
   "source": [
    "model_multi_target.save(MODEL_SAVE_PATH+'/model_multi_target_whole.h5')"
   ]
  },
  {
   "cell_type": "code",
   "execution_count": 72,
   "metadata": {},
   "outputs": [
    {
     "data": {
      "text/plain": [
       "([TensorSpec(shape=(None, 80, 2), dtype=tf.float32, name='input_2')], {})"
      ]
     },
     "execution_count": 72,
     "metadata": {},
     "output_type": "execute_result"
    }
   ],
   "source": [
    "model_multi_target.save_spec()"
   ]
  },
  {
   "cell_type": "code",
   "execution_count": 73,
   "metadata": {},
   "outputs": [
    {
     "data": {
      "text/plain": [
       "(173, 10, 2)"
      ]
     },
     "execution_count": 73,
     "metadata": {},
     "output_type": "execute_result"
    }
   ],
   "source": [
    "y_test_multi_target.shape\n"
   ]
  },
  {
   "cell_type": "code",
   "execution_count": 74,
   "metadata": {},
   "outputs": [
    {
     "name": "stdout",
     "output_type": "stream",
     "text": [
      "6/6 [==============================] - 0s 41ms/step - loss: 0.0435 - price_output_loss: 0.0246 - volume_output_loss: 0.0189 - price_output_mean_absolute_error: 0.1152 - volume_output_mean_absolute_error: 0.0745\n"
     ]
    },
    {
     "data": {
      "text/plain": [
       "[0.04353918507695198,\n",
       " 0.02464939095079899,\n",
       " 0.018881266936659813,\n",
       " 0.11524593830108643,\n",
       " 0.07449506968259811]"
      ]
     },
     "execution_count": 74,
     "metadata": {},
     "output_type": "execute_result"
    }
   ],
   "source": [
    "model_multi_target.evaluate(x_test_multi_target, y=[y_test_multi_target[:,:,0], y_test_multi_target[:,:,1]])"
   ]
  },
  {
   "cell_type": "code",
   "execution_count": 75,
   "metadata": {},
   "outputs": [
    {
     "data": {
      "text/plain": [
       "(80, 2)"
      ]
     },
     "execution_count": 75,
     "metadata": {},
     "output_type": "execute_result"
    }
   ],
   "source": [
    "x_test_multi_target[-1].shape"
   ]
  },
  {
   "cell_type": "code",
   "execution_count": 76,
   "metadata": {},
   "outputs": [],
   "source": [
    "price_predict, volume_predict = model_multi_target.predict(x_test_multi_target[-1].reshape(-1, 80,2))"
   ]
  },
  {
   "cell_type": "code",
   "execution_count": 60,
   "metadata": {},
   "outputs": [
    {
     "data": {
      "text/plain": [
       "array([4.82899994e+02, 2.15476711e+08])"
      ]
     },
     "execution_count": 60,
     "metadata": {},
     "output_type": "execute_result"
    }
   ],
   "source": [
    "train_max_multi_target"
   ]
  },
  {
   "cell_type": "code",
   "execution_count": 61,
   "metadata": {},
   "outputs": [],
   "source": [
    "price_predict=Reverse_transform(train_max_multi_target[0], train_min_multi_target[0], price_predict.ravel())\n",
    "volume_predict = Reverse_transform(train_max_multi_target[1], train_min_multi_target[1], volume_predict.ravel())"
   ]
  },
  {
   "cell_type": "code",
   "execution_count": 62,
   "metadata": {},
   "outputs": [
    {
     "data": {
      "text/plain": [
       "array([1.01741114, 0.99435637, 0.99723825, 0.93527862, 0.90862155,\n",
       "       0.90898176, 0.92807401, 0.94140251, 0.87740156, 0.80511529])"
      ]
     },
     "execution_count": 62,
     "metadata": {},
     "output_type": "execute_result"
    }
   ],
   "source": [
    "y_test_multi_target[-1][:,0]"
   ]
  },
  {
   "cell_type": "code",
   "execution_count": 63,
   "metadata": {},
   "outputs": [],
   "source": [
    "price_actual = Reverse_transform(train_max_multi_target[0], train_min_multi_target[0], y_test_multi_target[-1][:,0])\n",
    "volume_actual = Reverse_transform(train_max_multi_target[1], train_min_multi_target[1], y_test_multi_target[-1][:,1])"
   ]
  },
  {
   "cell_type": "code",
   "execution_count": 64,
   "metadata": {},
   "outputs": [
    {
     "data": {
      "text/plain": [
       "(array([22592161., 27957544., 17703998., 57265685., 48876182., 34475468.,\n",
       "        25791134., 29599672., 38765185., 44836205.]),\n",
       " array([490.1499939 , 480.54998779, 481.75      , 455.95001221,\n",
       "        444.8500061 , 445.        , 452.95001221, 458.5       ,\n",
       "        431.8500061 , 401.75      ]))"
      ]
     },
     "execution_count": 64,
     "metadata": {},
     "output_type": "execute_result"
    }
   ],
   "source": [
    "volume_actual, price_actual"
   ]
  },
  {
   "cell_type": "code",
   "execution_count": 65,
   "metadata": {},
   "outputs": [
    {
     "data": {
      "text/plain": [
       "array([1.05487514, 1.02641691, 0.99783863, 1.0085255 , 1.05667629,\n",
       "       1.00216137, 1.01657059, 1.02641691, 1.05307398, 1.0560759 ,\n",
       "       1.06508167, 1.05775701, 1.0560759 , 1.05763689, 1.08969742,\n",
       "       1.11659467, 1.07048513, 1.00360231, 1.03866476, 1.01897213,\n",
       "       1.00744478, 0.93780021, 0.96073486, 0.9638569 , 0.99159462,\n",
       "       0.99303556, 0.99327573, 0.98547073, 1.00384247, 1.03626322,\n",
       "       1.01164747, 1.03974548, 1.02173395, 1.01176752, 1.02905861,\n",
       "       1.01224785, 0.94476465, 0.92603269, 0.94056196, 0.98342941,\n",
       "       0.9807877 , 0.95869361, 0.98150821, 0.99003364, 0.97514408,\n",
       "       0.97550437, 1.02545631, 1.03338135, 1.00972627, 0.99663786,\n",
       "       1.01717098, 1.02449571, 1.04827091, 1.0551153 , 1.05067245,\n",
       "       1.06268013, 1.07660902, 1.10806924, 1.06508167, 1.08897699,\n",
       "       1.06604227, 1.04034587, 0.978146  , 0.99483671, 1.04226707,\n",
       "       1.05307398, 1.06027859, 1.06171953, 1.0629203 , 1.05019211,\n",
       "       1.04803074, 1.03626322, 1.03266092, 1.05715663, 1.04887129,\n",
       "       1.00984632, 0.98378963, 1.05067245, 1.05523535, 1.03626322])"
      ]
     },
     "execution_count": 65,
     "metadata": {},
     "output_type": "execute_result"
    }
   ],
   "source": [
    "x_test_multi_target[-1,:,0]"
   ]
  },
  {
   "cell_type": "code",
   "execution_count": 68,
   "metadata": {},
   "outputs": [
    {
     "data": {
      "text/plain": [
       "<matplotlib.legend.Legend at 0x1fcacb52580>"
      ]
     },
     "execution_count": 68,
     "metadata": {},
     "output_type": "execute_result"
    },
    {
     "data": {
      "image/png": "[encoded data removed]",
      "text/plain": [
       "<Figure size 432x288 with 1 Axes>"
      ]
     },
     "metadata": {
      "needs_background": "light"
     },
     "output_type": "display_data"
    }
   ],
   "source": [
    "plt.plot(price_predict, label = 'predict')\n",
    "plt.plot(price_actual)\n",
    "plt.legend()"
   ]
  },
  {
   "cell_type": "code",
   "execution_count": null,
   "metadata": {},
   "outputs": [],
   "source": []
  }
 ],
 "metadata": {
  "interpreter": {
   "hash": "f4e04f42c045def5aa7d79311fcd976240163128e37e7a373751b42951a60e82"
  },
  "kernelspec": {
   "display_name": "Python 3.9.7",
   "language": "python",
   "name": "python3"
  },
  "language_info": {
   "codemirror_mode": {
    "name": "ipython",
    "version": 3
   },
   "file_extension": ".py",
   "mimetype": "text/x-python",
   "name": "python",
   "nbconvert_exporter": "python",
   "pygments_lexer": "ipython3",
   "version": "3.9.7"
  },
  "orig_nbformat": 4
 },
 "nbformat": 4,
 "nbformat_minor": 2
}
