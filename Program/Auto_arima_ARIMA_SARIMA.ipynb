{
  "nbformat": 4,
  "nbformat_minor": 0,
  "metadata": {
    "colab": {
      "name": "Auto_arima_ARIMA_SARIMA.ipynb",
      "provenance": [],
      "collapsed_sections": []
    },
    "kernelspec": {
      "name": "python3",
      "display_name": "Python 3"
    },
    "language_info": {
      "name": "python"
    },
    "accelerator": "GPU"
  },
  "cells": [
    {
      "cell_type": "code",
      "execution_count": null,
      "metadata": {
        "id": "RpzbqvOXMBUk"
      },
      "outputs": [],
      "source": [
        "import numpy as np\n",
        "import pandas as pd"
      ]
    },
    {
      "cell_type": "code",
      "source": [
        "df = pd.read_csv('/content/sample_data/Reliance_5_years.csv')"
      ],
      "metadata": {
        "id": "HC-OJW93MzPa"
      },
      "execution_count": null,
      "outputs": []
    },
    {
      "cell_type": "code",
      "source": [
        "df.head()"
      ],
      "metadata": {
        "colab": {
          "base_uri": "https://localhost:8080/",
          "height": 374
        },
        "id": "R7rLXnMqM_ei",
        "outputId": "20b54210-5323-4331-a7ef-57c0f542e88b"
      },
      "execution_count": null,
      "outputs": [
        {
          "output_type": "execute_result",
          "data": {
            "text/html": [
              "\n",
              "  <div id=\"df-53ed2384-ab52-4b58-b2e5-b24790145082\">\n",
              "    <div class=\"colab-df-container\">\n",
              "      <div>\n",
              "<style scoped>\n",
              "    .dataframe tbody tr th:only-of-type {\n",
              "        vertical-align: middle;\n",
              "    }\n",
              "\n",
              "    .dataframe tbody tr th {\n",
              "        vertical-align: top;\n",
              "    }\n",
              "\n",
              "    .dataframe thead th {\n",
              "        text-align: right;\n",
              "    }\n",
              "</style>\n",
              "<table border=\"1\" class=\"dataframe\">\n",
              "  <thead>\n",
              "    <tr style=\"text-align: right;\">\n",
              "      <th></th>\n",
              "      <th>Date</th>\n",
              "      <th>Symbol</th>\n",
              "      <th>Series</th>\n",
              "      <th>Prev Close</th>\n",
              "      <th>Open</th>\n",
              "      <th>High</th>\n",
              "      <th>Low</th>\n",
              "      <th>Last</th>\n",
              "      <th>Close</th>\n",
              "      <th>VWAP</th>\n",
              "      <th>Volume</th>\n",
              "      <th>Turnover</th>\n",
              "      <th>Trades</th>\n",
              "      <th>Deliverable Volume</th>\n",
              "      <th>%Deliverble</th>\n",
              "    </tr>\n",
              "  </thead>\n",
              "  <tbody>\n",
              "    <tr>\n",
              "      <th>0</th>\n",
              "      <td>2017-01-02</td>\n",
              "      <td>RELIANCE</td>\n",
              "      <td>EQ</td>\n",
              "      <td>1082.40</td>\n",
              "      <td>1084.00</td>\n",
              "      <td>1090.0</td>\n",
              "      <td>1072.35</td>\n",
              "      <td>1086.70</td>\n",
              "      <td>1085.10</td>\n",
              "      <td>1086.63</td>\n",
              "      <td>1622458</td>\n",
              "      <td>1.763016e+14</td>\n",
              "      <td>38903</td>\n",
              "      <td>881915</td>\n",
              "      <td>0.5436</td>\n",
              "    </tr>\n",
              "    <tr>\n",
              "      <th>1</th>\n",
              "      <td>2017-01-03</td>\n",
              "      <td>RELIANCE</td>\n",
              "      <td>EQ</td>\n",
              "      <td>1085.10</td>\n",
              "      <td>1089.85</td>\n",
              "      <td>1097.0</td>\n",
              "      <td>1081.10</td>\n",
              "      <td>1089.00</td>\n",
              "      <td>1089.40</td>\n",
              "      <td>1091.74</td>\n",
              "      <td>1470751</td>\n",
              "      <td>1.605682e+14</td>\n",
              "      <td>31291</td>\n",
              "      <td>776985</td>\n",
              "      <td>0.5283</td>\n",
              "    </tr>\n",
              "    <tr>\n",
              "      <th>2</th>\n",
              "      <td>2017-01-04</td>\n",
              "      <td>RELIANCE</td>\n",
              "      <td>EQ</td>\n",
              "      <td>1089.40</td>\n",
              "      <td>1092.90</td>\n",
              "      <td>1093.0</td>\n",
              "      <td>1064.30</td>\n",
              "      <td>1067.15</td>\n",
              "      <td>1067.15</td>\n",
              "      <td>1072.39</td>\n",
              "      <td>2375547</td>\n",
              "      <td>2.547514e+14</td>\n",
              "      <td>70540</td>\n",
              "      <td>1516724</td>\n",
              "      <td>0.6385</td>\n",
              "    </tr>\n",
              "    <tr>\n",
              "      <th>3</th>\n",
              "      <td>2017-01-05</td>\n",
              "      <td>RELIANCE</td>\n",
              "      <td>EQ</td>\n",
              "      <td>1067.15</td>\n",
              "      <td>1071.00</td>\n",
              "      <td>1079.9</td>\n",
              "      <td>1068.75</td>\n",
              "      <td>1077.00</td>\n",
              "      <td>1077.40</td>\n",
              "      <td>1077.12</td>\n",
              "      <td>1996483</td>\n",
              "      <td>2.150452e+14</td>\n",
              "      <td>84058</td>\n",
              "      <td>1272212</td>\n",
              "      <td>0.6372</td>\n",
              "    </tr>\n",
              "    <tr>\n",
              "      <th>4</th>\n",
              "      <td>2017-01-06</td>\n",
              "      <td>RELIANCE</td>\n",
              "      <td>EQ</td>\n",
              "      <td>1077.40</td>\n",
              "      <td>1074.20</td>\n",
              "      <td>1085.0</td>\n",
              "      <td>1073.10</td>\n",
              "      <td>1073.95</td>\n",
              "      <td>1074.95</td>\n",
              "      <td>1078.77</td>\n",
              "      <td>1793427</td>\n",
              "      <td>1.934704e+14</td>\n",
              "      <td>66643</td>\n",
              "      <td>1121595</td>\n",
              "      <td>0.6254</td>\n",
              "    </tr>\n",
              "  </tbody>\n",
              "</table>\n",
              "</div>\n",
              "      <button class=\"colab-df-convert\" onclick=\"convertToInteractive('df-53ed2384-ab52-4b58-b2e5-b24790145082')\"\n",
              "              title=\"Convert this dataframe to an interactive table.\"\n",
              "              style=\"display:none;\">\n",
              "        \n",
              "  <svg xmlns=\"http://www.w3.org/2000/svg\" height=\"24px\"viewBox=\"0 0 24 24\"\n",
              "       width=\"24px\">\n",
              "    <path d=\"M0 0h24v24H0V0z\" fill=\"none\"/>\n",
              "    <path d=\"M18.56 5.44l.94 2.06.94-2.06 2.06-.94-2.06-.94-.94-2.06-.94 2.06-2.06.94zm-11 1L8.5 8.5l.94-2.06 2.06-.94-2.06-.94L8.5 2.5l-.94 2.06-2.06.94zm10 10l.94 2.06.94-2.06 2.06-.94-2.06-.94-.94-2.06-.94 2.06-2.06.94z\"/><path d=\"M17.41 7.96l-1.37-1.37c-.4-.4-.92-.59-1.43-.59-.52 0-1.04.2-1.43.59L10.3 9.45l-7.72 7.72c-.78.78-.78 2.05 0 2.83L4 21.41c.39.39.9.59 1.41.59.51 0 1.02-.2 1.41-.59l7.78-7.78 2.81-2.81c.8-.78.8-2.07 0-2.86zM5.41 20L4 18.59l7.72-7.72 1.47 1.35L5.41 20z\"/>\n",
              "  </svg>\n",
              "      </button>\n",
              "      \n",
              "  <style>\n",
              "    .colab-df-container {\n",
              "      display:flex;\n",
              "      flex-wrap:wrap;\n",
              "      gap: 12px;\n",
              "    }\n",
              "\n",
              "    .colab-df-convert {\n",
              "      background-color: #E8F0FE;\n",
              "      border: none;\n",
              "      border-radius: 50%;\n",
              "      cursor: pointer;\n",
              "      display: none;\n",
              "      fill: #1967D2;\n",
              "      height: 32px;\n",
              "      padding: 0 0 0 0;\n",
              "      width: 32px;\n",
              "    }\n",
              "\n",
              "    .colab-df-convert:hover {\n",
              "      background-color: #E2EBFA;\n",
              "      box-shadow: 0px 1px 2px rgba(60, 64, 67, 0.3), 0px 1px 3px 1px rgba(60, 64, 67, 0.15);\n",
              "      fill: #174EA6;\n",
              "    }\n",
              "\n",
              "    [theme=dark] .colab-df-convert {\n",
              "      background-color: #3B4455;\n",
              "      fill: #D2E3FC;\n",
              "    }\n",
              "\n",
              "    [theme=dark] .colab-df-convert:hover {\n",
              "      background-color: #434B5C;\n",
              "      box-shadow: 0px 1px 3px 1px rgba(0, 0, 0, 0.15);\n",
              "      filter: drop-shadow(0px 1px 2px rgba(0, 0, 0, 0.3));\n",
              "      fill: #FFFFFF;\n",
              "    }\n",
              "  </style>\n",
              "\n",
              "      <script>\n",
              "        const buttonEl =\n",
              "          document.querySelector('#df-53ed2384-ab52-4b58-b2e5-b24790145082 button.colab-df-convert');\n",
              "        buttonEl.style.display =\n",
              "          google.colab.kernel.accessAllowed ? 'block' : 'none';\n",
              "\n",
              "        async function convertToInteractive(key) {\n",
              "          const element = document.querySelector('#df-53ed2384-ab52-4b58-b2e5-b24790145082');\n",
              "          const dataTable =\n",
              "            await google.colab.kernel.invokeFunction('convertToInteractive',\n",
              "                                                     [key], {});\n",
              "          if (!dataTable) return;\n",
              "\n",
              "          const docLinkHtml = 'Like what you see? Visit the ' +\n",
              "            '<a target=\"_blank\" href=https://colab.research.google.com/notebooks/data_table.ipynb>data table notebook</a>'\n",
              "            + ' to learn more about interactive tables.';\n",
              "          element.innerHTML = '';\n",
              "          dataTable['output_type'] = 'display_data';\n",
              "          await google.colab.output.renderOutput(dataTable, element);\n",
              "          const docLink = document.createElement('div');\n",
              "          docLink.innerHTML = docLinkHtml;\n",
              "          element.appendChild(docLink);\n",
              "        }\n",
              "      </script>\n",
              "    </div>\n",
              "  </div>\n",
              "  "
            ],
            "text/plain": [
              "         Date    Symbol Series  Prev Close     Open    High      Low     Last  \\\n",
              "0  2017-01-02  RELIANCE     EQ     1082.40  1084.00  1090.0  1072.35  1086.70   \n",
              "1  2017-01-03  RELIANCE     EQ     1085.10  1089.85  1097.0  1081.10  1089.00   \n",
              "2  2017-01-04  RELIANCE     EQ     1089.40  1092.90  1093.0  1064.30  1067.15   \n",
              "3  2017-01-05  RELIANCE     EQ     1067.15  1071.00  1079.9  1068.75  1077.00   \n",
              "4  2017-01-06  RELIANCE     EQ     1077.40  1074.20  1085.0  1073.10  1073.95   \n",
              "\n",
              "     Close     VWAP   Volume      Turnover  Trades  Deliverable Volume  \\\n",
              "0  1085.10  1086.63  1622458  1.763016e+14   38903              881915   \n",
              "1  1089.40  1091.74  1470751  1.605682e+14   31291              776985   \n",
              "2  1067.15  1072.39  2375547  2.547514e+14   70540             1516724   \n",
              "3  1077.40  1077.12  1996483  2.150452e+14   84058             1272212   \n",
              "4  1074.95  1078.77  1793427  1.934704e+14   66643             1121595   \n",
              "\n",
              "   %Deliverble  \n",
              "0       0.5436  \n",
              "1       0.5283  \n",
              "2       0.6385  \n",
              "3       0.6372  \n",
              "4       0.6254  "
            ]
          },
          "metadata": {},
          "execution_count": 3
        }
      ]
    },
    {
      "cell_type": "code",
      "source": [
        "df= df.iloc[:,:9]"
      ],
      "metadata": {
        "id": "6byCXyoHNAd-"
      },
      "execution_count": null,
      "outputs": []
    },
    {
      "cell_type": "code",
      "source": [
        "df.head()"
      ],
      "metadata": {
        "colab": {
          "base_uri": "https://localhost:8080/",
          "height": 206
        },
        "id": "8BsuqiQONOyj",
        "outputId": "539b6740-c504-4d85-80a0-b4f3d4c513c7"
      },
      "execution_count": null,
      "outputs": [
        {
          "output_type": "execute_result",
          "data": {
            "text/html": [
              "\n",
              "  <div id=\"df-f3fcd196-371a-443e-ac96-95cbd3dffc8c\">\n",
              "    <div class=\"colab-df-container\">\n",
              "      <div>\n",
              "<style scoped>\n",
              "    .dataframe tbody tr th:only-of-type {\n",
              "        vertical-align: middle;\n",
              "    }\n",
              "\n",
              "    .dataframe tbody tr th {\n",
              "        vertical-align: top;\n",
              "    }\n",
              "\n",
              "    .dataframe thead th {\n",
              "        text-align: right;\n",
              "    }\n",
              "</style>\n",
              "<table border=\"1\" class=\"dataframe\">\n",
              "  <thead>\n",
              "    <tr style=\"text-align: right;\">\n",
              "      <th></th>\n",
              "      <th>Date</th>\n",
              "      <th>Symbol</th>\n",
              "      <th>Series</th>\n",
              "      <th>Prev Close</th>\n",
              "      <th>Open</th>\n",
              "      <th>High</th>\n",
              "      <th>Low</th>\n",
              "      <th>Last</th>\n",
              "      <th>Close</th>\n",
              "    </tr>\n",
              "  </thead>\n",
              "  <tbody>\n",
              "    <tr>\n",
              "      <th>0</th>\n",
              "      <td>2017-01-02</td>\n",
              "      <td>RELIANCE</td>\n",
              "      <td>EQ</td>\n",
              "      <td>1082.40</td>\n",
              "      <td>1084.00</td>\n",
              "      <td>1090.0</td>\n",
              "      <td>1072.35</td>\n",
              "      <td>1086.70</td>\n",
              "      <td>1085.10</td>\n",
              "    </tr>\n",
              "    <tr>\n",
              "      <th>1</th>\n",
              "      <td>2017-01-03</td>\n",
              "      <td>RELIANCE</td>\n",
              "      <td>EQ</td>\n",
              "      <td>1085.10</td>\n",
              "      <td>1089.85</td>\n",
              "      <td>1097.0</td>\n",
              "      <td>1081.10</td>\n",
              "      <td>1089.00</td>\n",
              "      <td>1089.40</td>\n",
              "    </tr>\n",
              "    <tr>\n",
              "      <th>2</th>\n",
              "      <td>2017-01-04</td>\n",
              "      <td>RELIANCE</td>\n",
              "      <td>EQ</td>\n",
              "      <td>1089.40</td>\n",
              "      <td>1092.90</td>\n",
              "      <td>1093.0</td>\n",
              "      <td>1064.30</td>\n",
              "      <td>1067.15</td>\n",
              "      <td>1067.15</td>\n",
              "    </tr>\n",
              "    <tr>\n",
              "      <th>3</th>\n",
              "      <td>2017-01-05</td>\n",
              "      <td>RELIANCE</td>\n",
              "      <td>EQ</td>\n",
              "      <td>1067.15</td>\n",
              "      <td>1071.00</td>\n",
              "      <td>1079.9</td>\n",
              "      <td>1068.75</td>\n",
              "      <td>1077.00</td>\n",
              "      <td>1077.40</td>\n",
              "    </tr>\n",
              "    <tr>\n",
              "      <th>4</th>\n",
              "      <td>2017-01-06</td>\n",
              "      <td>RELIANCE</td>\n",
              "      <td>EQ</td>\n",
              "      <td>1077.40</td>\n",
              "      <td>1074.20</td>\n",
              "      <td>1085.0</td>\n",
              "      <td>1073.10</td>\n",
              "      <td>1073.95</td>\n",
              "      <td>1074.95</td>\n",
              "    </tr>\n",
              "  </tbody>\n",
              "</table>\n",
              "</div>\n",
              "      <button class=\"colab-df-convert\" onclick=\"convertToInteractive('df-f3fcd196-371a-443e-ac96-95cbd3dffc8c')\"\n",
              "              title=\"Convert this dataframe to an interactive table.\"\n",
              "              style=\"display:none;\">\n",
              "        \n",
              "  <svg xmlns=\"http://www.w3.org/2000/svg\" height=\"24px\"viewBox=\"0 0 24 24\"\n",
              "       width=\"24px\">\n",
              "    <path d=\"M0 0h24v24H0V0z\" fill=\"none\"/>\n",
              "    <path d=\"M18.56 5.44l.94 2.06.94-2.06 2.06-.94-2.06-.94-.94-2.06-.94 2.06-2.06.94zm-11 1L8.5 8.5l.94-2.06 2.06-.94-2.06-.94L8.5 2.5l-.94 2.06-2.06.94zm10 10l.94 2.06.94-2.06 2.06-.94-2.06-.94-.94-2.06-.94 2.06-2.06.94z\"/><path d=\"M17.41 7.96l-1.37-1.37c-.4-.4-.92-.59-1.43-.59-.52 0-1.04.2-1.43.59L10.3 9.45l-7.72 7.72c-.78.78-.78 2.05 0 2.83L4 21.41c.39.39.9.59 1.41.59.51 0 1.02-.2 1.41-.59l7.78-7.78 2.81-2.81c.8-.78.8-2.07 0-2.86zM5.41 20L4 18.59l7.72-7.72 1.47 1.35L5.41 20z\"/>\n",
              "  </svg>\n",
              "      </button>\n",
              "      \n",
              "  <style>\n",
              "    .colab-df-container {\n",
              "      display:flex;\n",
              "      flex-wrap:wrap;\n",
              "      gap: 12px;\n",
              "    }\n",
              "\n",
              "    .colab-df-convert {\n",
              "      background-color: #E8F0FE;\n",
              "      border: none;\n",
              "      border-radius: 50%;\n",
              "      cursor: pointer;\n",
              "      display: none;\n",
              "      fill: #1967D2;\n",
              "      height: 32px;\n",
              "      padding: 0 0 0 0;\n",
              "      width: 32px;\n",
              "    }\n",
              "\n",
              "    .colab-df-convert:hover {\n",
              "      background-color: #E2EBFA;\n",
              "      box-shadow: 0px 1px 2px rgba(60, 64, 67, 0.3), 0px 1px 3px 1px rgba(60, 64, 67, 0.15);\n",
              "      fill: #174EA6;\n",
              "    }\n",
              "\n",
              "    [theme=dark] .colab-df-convert {\n",
              "      background-color: #3B4455;\n",
              "      fill: #D2E3FC;\n",
              "    }\n",
              "\n",
              "    [theme=dark] .colab-df-convert:hover {\n",
              "      background-color: #434B5C;\n",
              "      box-shadow: 0px 1px 3px 1px rgba(0, 0, 0, 0.15);\n",
              "      filter: drop-shadow(0px 1px 2px rgba(0, 0, 0, 0.3));\n",
              "      fill: #FFFFFF;\n",
              "    }\n",
              "  </style>\n",
              "\n",
              "      <script>\n",
              "        const buttonEl =\n",
              "          document.querySelector('#df-f3fcd196-371a-443e-ac96-95cbd3dffc8c button.colab-df-convert');\n",
              "        buttonEl.style.display =\n",
              "          google.colab.kernel.accessAllowed ? 'block' : 'none';\n",
              "\n",
              "        async function convertToInteractive(key) {\n",
              "          const element = document.querySelector('#df-f3fcd196-371a-443e-ac96-95cbd3dffc8c');\n",
              "          const dataTable =\n",
              "            await google.colab.kernel.invokeFunction('convertToInteractive',\n",
              "                                                     [key], {});\n",
              "          if (!dataTable) return;\n",
              "\n",
              "          const docLinkHtml = 'Like what you see? Visit the ' +\n",
              "            '<a target=\"_blank\" href=https://colab.research.google.com/notebooks/data_table.ipynb>data table notebook</a>'\n",
              "            + ' to learn more about interactive tables.';\n",
              "          element.innerHTML = '';\n",
              "          dataTable['output_type'] = 'display_data';\n",
              "          await google.colab.output.renderOutput(dataTable, element);\n",
              "          const docLink = document.createElement('div');\n",
              "          docLink.innerHTML = docLinkHtml;\n",
              "          element.appendChild(docLink);\n",
              "        }\n",
              "      </script>\n",
              "    </div>\n",
              "  </div>\n",
              "  "
            ],
            "text/plain": [
              "         Date    Symbol Series  Prev Close     Open    High      Low     Last  \\\n",
              "0  2017-01-02  RELIANCE     EQ     1082.40  1084.00  1090.0  1072.35  1086.70   \n",
              "1  2017-01-03  RELIANCE     EQ     1085.10  1089.85  1097.0  1081.10  1089.00   \n",
              "2  2017-01-04  RELIANCE     EQ     1089.40  1092.90  1093.0  1064.30  1067.15   \n",
              "3  2017-01-05  RELIANCE     EQ     1067.15  1071.00  1079.9  1068.75  1077.00   \n",
              "4  2017-01-06  RELIANCE     EQ     1077.40  1074.20  1085.0  1073.10  1073.95   \n",
              "\n",
              "     Close  \n",
              "0  1085.10  \n",
              "1  1089.40  \n",
              "2  1067.15  \n",
              "3  1077.40  \n",
              "4  1074.95  "
            ]
          },
          "metadata": {},
          "execution_count": 5
        }
      ]
    },
    {
      "cell_type": "code",
      "source": [
        "df.info()"
      ],
      "metadata": {
        "colab": {
          "base_uri": "https://localhost:8080/"
        },
        "id": "9tQXKqE1NQXR",
        "outputId": "90a7d763-9148-4811-a335-555b5fe86354"
      },
      "execution_count": null,
      "outputs": [
        {
          "output_type": "stream",
          "name": "stdout",
          "text": [
            "<class 'pandas.core.frame.DataFrame'>\n",
            "RangeIndex: 1284 entries, 0 to 1283\n",
            "Data columns (total 9 columns):\n",
            " #   Column      Non-Null Count  Dtype  \n",
            "---  ------      --------------  -----  \n",
            " 0   Date        1284 non-null   object \n",
            " 1   Symbol      1284 non-null   object \n",
            " 2   Series      1284 non-null   object \n",
            " 3   Prev Close  1284 non-null   float64\n",
            " 4   Open        1284 non-null   float64\n",
            " 5   High        1284 non-null   float64\n",
            " 6   Low         1284 non-null   float64\n",
            " 7   Last        1284 non-null   float64\n",
            " 8   Close       1284 non-null   float64\n",
            "dtypes: float64(6), object(3)\n",
            "memory usage: 90.4+ KB\n"
          ]
        }
      ]
    },
    {
      "cell_type": "code",
      "source": [
        "# Converting to datetime datatype\n",
        "df['Date'] = pd.to_datetime(df['Date'])"
      ],
      "metadata": {
        "id": "Q4UxFqbOOIER"
      },
      "execution_count": null,
      "outputs": []
    },
    {
      "cell_type": "code",
      "source": [
        "df.info()"
      ],
      "metadata": {
        "colab": {
          "base_uri": "https://localhost:8080/"
        },
        "id": "-Ja65DSRON1A",
        "outputId": "110d12af-1376-4abd-8dc9-3b690c7dd472"
      },
      "execution_count": null,
      "outputs": [
        {
          "output_type": "stream",
          "name": "stdout",
          "text": [
            "<class 'pandas.core.frame.DataFrame'>\n",
            "RangeIndex: 1284 entries, 0 to 1283\n",
            "Data columns (total 9 columns):\n",
            " #   Column      Non-Null Count  Dtype         \n",
            "---  ------      --------------  -----         \n",
            " 0   Date        1284 non-null   datetime64[ns]\n",
            " 1   Symbol      1284 non-null   object        \n",
            " 2   Series      1284 non-null   object        \n",
            " 3   Prev Close  1284 non-null   float64       \n",
            " 4   Open        1284 non-null   float64       \n",
            " 5   High        1284 non-null   float64       \n",
            " 6   Low         1284 non-null   float64       \n",
            " 7   Last        1284 non-null   float64       \n",
            " 8   Close       1284 non-null   float64       \n",
            "dtypes: datetime64[ns](1), float64(6), object(2)\n",
            "memory usage: 90.4+ KB\n"
          ]
        }
      ]
    },
    {
      "cell_type": "code",
      "source": [
        "df.tail()"
      ],
      "metadata": {
        "colab": {
          "base_uri": "https://localhost:8080/",
          "height": 206
        },
        "id": "TToEWG5APZR1",
        "outputId": "4e95a757-f29a-41a0-fa9a-bbf99699c8b7"
      },
      "execution_count": null,
      "outputs": [
        {
          "output_type": "execute_result",
          "data": {
            "text/html": [
              "\n",
              "  <div id=\"df-e5ddbb93-6380-43fc-9aab-42d37b52cfc1\">\n",
              "    <div class=\"colab-df-container\">\n",
              "      <div>\n",
              "<style scoped>\n",
              "    .dataframe tbody tr th:only-of-type {\n",
              "        vertical-align: middle;\n",
              "    }\n",
              "\n",
              "    .dataframe tbody tr th {\n",
              "        vertical-align: top;\n",
              "    }\n",
              "\n",
              "    .dataframe thead th {\n",
              "        text-align: right;\n",
              "    }\n",
              "</style>\n",
              "<table border=\"1\" class=\"dataframe\">\n",
              "  <thead>\n",
              "    <tr style=\"text-align: right;\">\n",
              "      <th></th>\n",
              "      <th>Date</th>\n",
              "      <th>Symbol</th>\n",
              "      <th>Series</th>\n",
              "      <th>Prev Close</th>\n",
              "      <th>Open</th>\n",
              "      <th>High</th>\n",
              "      <th>Low</th>\n",
              "      <th>Last</th>\n",
              "      <th>Close</th>\n",
              "    </tr>\n",
              "  </thead>\n",
              "  <tbody>\n",
              "    <tr>\n",
              "      <th>1279</th>\n",
              "      <td>2022-03-02</td>\n",
              "      <td>RELIANCE</td>\n",
              "      <td>EQ</td>\n",
              "      <td>2359.55</td>\n",
              "      <td>2334.45</td>\n",
              "      <td>2401.00</td>\n",
              "      <td>2329.20</td>\n",
              "      <td>2399.25</td>\n",
              "      <td>2398.55</td>\n",
              "    </tr>\n",
              "    <tr>\n",
              "      <th>1280</th>\n",
              "      <td>2022-03-03</td>\n",
              "      <td>RELIANCE</td>\n",
              "      <td>EQ</td>\n",
              "      <td>2398.55</td>\n",
              "      <td>2400.00</td>\n",
              "      <td>2414.85</td>\n",
              "      <td>2370.05</td>\n",
              "      <td>2382.00</td>\n",
              "      <td>2378.30</td>\n",
              "    </tr>\n",
              "    <tr>\n",
              "      <th>1281</th>\n",
              "      <td>2022-03-04</td>\n",
              "      <td>RELIANCE</td>\n",
              "      <td>EQ</td>\n",
              "      <td>2378.30</td>\n",
              "      <td>2353.00</td>\n",
              "      <td>2364.30</td>\n",
              "      <td>2320.35</td>\n",
              "      <td>2327.95</td>\n",
              "      <td>2325.55</td>\n",
              "    </tr>\n",
              "    <tr>\n",
              "      <th>1282</th>\n",
              "      <td>2022-03-07</td>\n",
              "      <td>RELIANCE</td>\n",
              "      <td>EQ</td>\n",
              "      <td>2325.55</td>\n",
              "      <td>2278.70</td>\n",
              "      <td>2312.10</td>\n",
              "      <td>2222.00</td>\n",
              "      <td>2240.05</td>\n",
              "      <td>2239.55</td>\n",
              "    </tr>\n",
              "    <tr>\n",
              "      <th>1283</th>\n",
              "      <td>2022-03-08</td>\n",
              "      <td>RELIANCE</td>\n",
              "      <td>EQ</td>\n",
              "      <td>2239.55</td>\n",
              "      <td>2211.50</td>\n",
              "      <td>2246.00</td>\n",
              "      <td>2180.00</td>\n",
              "      <td>2235.05</td>\n",
              "      <td>2235.50</td>\n",
              "    </tr>\n",
              "  </tbody>\n",
              "</table>\n",
              "</div>\n",
              "      <button class=\"colab-df-convert\" onclick=\"convertToInteractive('df-e5ddbb93-6380-43fc-9aab-42d37b52cfc1')\"\n",
              "              title=\"Convert this dataframe to an interactive table.\"\n",
              "              style=\"display:none;\">\n",
              "        \n",
              "  <svg xmlns=\"http://www.w3.org/2000/svg\" height=\"24px\"viewBox=\"0 0 24 24\"\n",
              "       width=\"24px\">\n",
              "    <path d=\"M0 0h24v24H0V0z\" fill=\"none\"/>\n",
              "    <path d=\"M18.56 5.44l.94 2.06.94-2.06 2.06-.94-2.06-.94-.94-2.06-.94 2.06-2.06.94zm-11 1L8.5 8.5l.94-2.06 2.06-.94-2.06-.94L8.5 2.5l-.94 2.06-2.06.94zm10 10l.94 2.06.94-2.06 2.06-.94-2.06-.94-.94-2.06-.94 2.06-2.06.94z\"/><path d=\"M17.41 7.96l-1.37-1.37c-.4-.4-.92-.59-1.43-.59-.52 0-1.04.2-1.43.59L10.3 9.45l-7.72 7.72c-.78.78-.78 2.05 0 2.83L4 21.41c.39.39.9.59 1.41.59.51 0 1.02-.2 1.41-.59l7.78-7.78 2.81-2.81c.8-.78.8-2.07 0-2.86zM5.41 20L4 18.59l7.72-7.72 1.47 1.35L5.41 20z\"/>\n",
              "  </svg>\n",
              "      </button>\n",
              "      \n",
              "  <style>\n",
              "    .colab-df-container {\n",
              "      display:flex;\n",
              "      flex-wrap:wrap;\n",
              "      gap: 12px;\n",
              "    }\n",
              "\n",
              "    .colab-df-convert {\n",
              "      background-color: #E8F0FE;\n",
              "      border: none;\n",
              "      border-radius: 50%;\n",
              "      cursor: pointer;\n",
              "      display: none;\n",
              "      fill: #1967D2;\n",
              "      height: 32px;\n",
              "      padding: 0 0 0 0;\n",
              "      width: 32px;\n",
              "    }\n",
              "\n",
              "    .colab-df-convert:hover {\n",
              "      background-color: #E2EBFA;\n",
              "      box-shadow: 0px 1px 2px rgba(60, 64, 67, 0.3), 0px 1px 3px 1px rgba(60, 64, 67, 0.15);\n",
              "      fill: #174EA6;\n",
              "    }\n",
              "\n",
              "    [theme=dark] .colab-df-convert {\n",
              "      background-color: #3B4455;\n",
              "      fill: #D2E3FC;\n",
              "    }\n",
              "\n",
              "    [theme=dark] .colab-df-convert:hover {\n",
              "      background-color: #434B5C;\n",
              "      box-shadow: 0px 1px 3px 1px rgba(0, 0, 0, 0.15);\n",
              "      filter: drop-shadow(0px 1px 2px rgba(0, 0, 0, 0.3));\n",
              "      fill: #FFFFFF;\n",
              "    }\n",
              "  </style>\n",
              "\n",
              "      <script>\n",
              "        const buttonEl =\n",
              "          document.querySelector('#df-e5ddbb93-6380-43fc-9aab-42d37b52cfc1 button.colab-df-convert');\n",
              "        buttonEl.style.display =\n",
              "          google.colab.kernel.accessAllowed ? 'block' : 'none';\n",
              "\n",
              "        async function convertToInteractive(key) {\n",
              "          const element = document.querySelector('#df-e5ddbb93-6380-43fc-9aab-42d37b52cfc1');\n",
              "          const dataTable =\n",
              "            await google.colab.kernel.invokeFunction('convertToInteractive',\n",
              "                                                     [key], {});\n",
              "          if (!dataTable) return;\n",
              "\n",
              "          const docLinkHtml = 'Like what you see? Visit the ' +\n",
              "            '<a target=\"_blank\" href=https://colab.research.google.com/notebooks/data_table.ipynb>data table notebook</a>'\n",
              "            + ' to learn more about interactive tables.';\n",
              "          element.innerHTML = '';\n",
              "          dataTable['output_type'] = 'display_data';\n",
              "          await google.colab.output.renderOutput(dataTable, element);\n",
              "          const docLink = document.createElement('div');\n",
              "          docLink.innerHTML = docLinkHtml;\n",
              "          element.appendChild(docLink);\n",
              "        }\n",
              "      </script>\n",
              "    </div>\n",
              "  </div>\n",
              "  "
            ],
            "text/plain": [
              "           Date    Symbol Series  Prev Close     Open     High      Low  \\\n",
              "1279 2022-03-02  RELIANCE     EQ     2359.55  2334.45  2401.00  2329.20   \n",
              "1280 2022-03-03  RELIANCE     EQ     2398.55  2400.00  2414.85  2370.05   \n",
              "1281 2022-03-04  RELIANCE     EQ     2378.30  2353.00  2364.30  2320.35   \n",
              "1282 2022-03-07  RELIANCE     EQ     2325.55  2278.70  2312.10  2222.00   \n",
              "1283 2022-03-08  RELIANCE     EQ     2239.55  2211.50  2246.00  2180.00   \n",
              "\n",
              "         Last    Close  \n",
              "1279  2399.25  2398.55  \n",
              "1280  2382.00  2378.30  \n",
              "1281  2327.95  2325.55  \n",
              "1282  2240.05  2239.55  \n",
              "1283  2235.05  2235.50  "
            ]
          },
          "metadata": {},
          "execution_count": 9
        }
      ]
    },
    {
      "cell_type": "code",
      "source": [
        "df.shape"
      ],
      "metadata": {
        "colab": {
          "base_uri": "https://localhost:8080/"
        },
        "id": "Zw3p67SARB_e",
        "outputId": "ef133c86-c1bb-44ef-f198-c14250d23b52"
      },
      "execution_count": null,
      "outputs": [
        {
          "output_type": "execute_result",
          "data": {
            "text/plain": [
              "(1284, 9)"
            ]
          },
          "metadata": {},
          "execution_count": 10
        }
      ]
    },
    {
      "cell_type": "code",
      "source": [
        "df[df.duplicated()].shape"
      ],
      "metadata": {
        "colab": {
          "base_uri": "https://localhost:8080/"
        },
        "id": "shuuv8MvRJkP",
        "outputId": "01035a28-14bf-4d5e-ef12-d39030f1ea3c"
      },
      "execution_count": null,
      "outputs": [
        {
          "output_type": "execute_result",
          "data": {
            "text/plain": [
              "(0, 9)"
            ]
          },
          "metadata": {},
          "execution_count": 11
        }
      ]
    },
    {
      "cell_type": "code",
      "source": [
        "df.nunique()"
      ],
      "metadata": {
        "colab": {
          "base_uri": "https://localhost:8080/"
        },
        "id": "Z9Mzxtn8ROTv",
        "outputId": "33205ed2-5c2b-41f3-ded4-bc5fb7ef1452"
      },
      "execution_count": null,
      "outputs": [
        {
          "output_type": "execute_result",
          "data": {
            "text/plain": [
              "Date          1284\n",
              "Symbol           1\n",
              "Series           1\n",
              "Prev Close    1253\n",
              "Open          1156\n",
              "High          1196\n",
              "Low           1204\n",
              "Last          1190\n",
              "Close         1253\n",
              "dtype: int64"
            ]
          },
          "metadata": {},
          "execution_count": 12
        }
      ]
    },
    {
      "cell_type": "code",
      "source": [
        "df.isnull().sum()"
      ],
      "metadata": {
        "colab": {
          "base_uri": "https://localhost:8080/"
        },
        "id": "MwLPQYu4RRme",
        "outputId": "d71f6d0d-74a1-4aa6-9072-0623971d298e"
      },
      "execution_count": null,
      "outputs": [
        {
          "output_type": "execute_result",
          "data": {
            "text/plain": [
              "Date          0\n",
              "Symbol        0\n",
              "Series        0\n",
              "Prev Close    0\n",
              "Open          0\n",
              "High          0\n",
              "Low           0\n",
              "Last          0\n",
              "Close         0\n",
              "dtype: int64"
            ]
          },
          "metadata": {},
          "execution_count": 13
        }
      ]
    },
    {
      "cell_type": "code",
      "source": [
        "df.describe()"
      ],
      "metadata": {
        "colab": {
          "base_uri": "https://localhost:8080/",
          "height": 300
        },
        "id": "nf-HUim4RYXc",
        "outputId": "5c10cf54-197c-4871-cffc-a9dca107ef2b"
      },
      "execution_count": null,
      "outputs": [
        {
          "output_type": "execute_result",
          "data": {
            "text/html": [
              "\n",
              "  <div id=\"df-7a0c85ce-cd08-4f64-bc1e-6efbabc39322\">\n",
              "    <div class=\"colab-df-container\">\n",
              "      <div>\n",
              "<style scoped>\n",
              "    .dataframe tbody tr th:only-of-type {\n",
              "        vertical-align: middle;\n",
              "    }\n",
              "\n",
              "    .dataframe tbody tr th {\n",
              "        vertical-align: top;\n",
              "    }\n",
              "\n",
              "    .dataframe thead th {\n",
              "        text-align: right;\n",
              "    }\n",
              "</style>\n",
              "<table border=\"1\" class=\"dataframe\">\n",
              "  <thead>\n",
              "    <tr style=\"text-align: right;\">\n",
              "      <th></th>\n",
              "      <th>Prev Close</th>\n",
              "      <th>Open</th>\n",
              "      <th>High</th>\n",
              "      <th>Low</th>\n",
              "      <th>Last</th>\n",
              "      <th>Close</th>\n",
              "    </tr>\n",
              "  </thead>\n",
              "  <tbody>\n",
              "    <tr>\n",
              "      <th>count</th>\n",
              "      <td>1284.000000</td>\n",
              "      <td>1284.000000</td>\n",
              "      <td>1284.000000</td>\n",
              "      <td>1284.000000</td>\n",
              "      <td>1284.000000</td>\n",
              "      <td>1284.000000</td>\n",
              "    </tr>\n",
              "    <tr>\n",
              "      <th>mean</th>\n",
              "      <td>1532.792952</td>\n",
              "      <td>1535.259034</td>\n",
              "      <td>1552.770717</td>\n",
              "      <td>1516.280802</td>\n",
              "      <td>1533.822741</td>\n",
              "      <td>1533.691005</td>\n",
              "    </tr>\n",
              "    <tr>\n",
              "      <th>std</th>\n",
              "      <td>502.254113</td>\n",
              "      <td>503.869678</td>\n",
              "      <td>508.636785</td>\n",
              "      <td>497.351378</td>\n",
              "      <td>502.426607</td>\n",
              "      <td>502.479009</td>\n",
              "    </tr>\n",
              "    <tr>\n",
              "      <th>min</th>\n",
              "      <td>780.900000</td>\n",
              "      <td>791.750000</td>\n",
              "      <td>793.400000</td>\n",
              "      <td>779.100000</td>\n",
              "      <td>781.200000</td>\n",
              "      <td>780.900000</td>\n",
              "    </tr>\n",
              "    <tr>\n",
              "      <th>25%</th>\n",
              "      <td>1120.825000</td>\n",
              "      <td>1120.625000</td>\n",
              "      <td>1133.637500</td>\n",
              "      <td>1105.337500</td>\n",
              "      <td>1120.137500</td>\n",
              "      <td>1121.187500</td>\n",
              "    </tr>\n",
              "    <tr>\n",
              "      <th>50%</th>\n",
              "      <td>1372.375000</td>\n",
              "      <td>1375.000000</td>\n",
              "      <td>1393.100000</td>\n",
              "      <td>1363.375000</td>\n",
              "      <td>1373.150000</td>\n",
              "      <td>1373.525000</td>\n",
              "    </tr>\n",
              "    <tr>\n",
              "      <th>75%</th>\n",
              "      <td>1994.237500</td>\n",
              "      <td>1998.037500</td>\n",
              "      <td>2016.837500</td>\n",
              "      <td>1980.037500</td>\n",
              "      <td>1994.087500</td>\n",
              "      <td>1994.537500</td>\n",
              "    </tr>\n",
              "    <tr>\n",
              "      <th>max</th>\n",
              "      <td>2731.850000</td>\n",
              "      <td>2742.750000</td>\n",
              "      <td>2751.350000</td>\n",
              "      <td>2708.000000</td>\n",
              "      <td>2730.800000</td>\n",
              "      <td>2731.850000</td>\n",
              "    </tr>\n",
              "  </tbody>\n",
              "</table>\n",
              "</div>\n",
              "      <button class=\"colab-df-convert\" onclick=\"convertToInteractive('df-7a0c85ce-cd08-4f64-bc1e-6efbabc39322')\"\n",
              "              title=\"Convert this dataframe to an interactive table.\"\n",
              "              style=\"display:none;\">\n",
              "        \n",
              "  <svg xmlns=\"http://www.w3.org/2000/svg\" height=\"24px\"viewBox=\"0 0 24 24\"\n",
              "       width=\"24px\">\n",
              "    <path d=\"M0 0h24v24H0V0z\" fill=\"none\"/>\n",
              "    <path d=\"M18.56 5.44l.94 2.06.94-2.06 2.06-.94-2.06-.94-.94-2.06-.94 2.06-2.06.94zm-11 1L8.5 8.5l.94-2.06 2.06-.94-2.06-.94L8.5 2.5l-.94 2.06-2.06.94zm10 10l.94 2.06.94-2.06 2.06-.94-2.06-.94-.94-2.06-.94 2.06-2.06.94z\"/><path d=\"M17.41 7.96l-1.37-1.37c-.4-.4-.92-.59-1.43-.59-.52 0-1.04.2-1.43.59L10.3 9.45l-7.72 7.72c-.78.78-.78 2.05 0 2.83L4 21.41c.39.39.9.59 1.41.59.51 0 1.02-.2 1.41-.59l7.78-7.78 2.81-2.81c.8-.78.8-2.07 0-2.86zM5.41 20L4 18.59l7.72-7.72 1.47 1.35L5.41 20z\"/>\n",
              "  </svg>\n",
              "      </button>\n",
              "      \n",
              "  <style>\n",
              "    .colab-df-container {\n",
              "      display:flex;\n",
              "      flex-wrap:wrap;\n",
              "      gap: 12px;\n",
              "    }\n",
              "\n",
              "    .colab-df-convert {\n",
              "      background-color: #E8F0FE;\n",
              "      border: none;\n",
              "      border-radius: 50%;\n",
              "      cursor: pointer;\n",
              "      display: none;\n",
              "      fill: #1967D2;\n",
              "      height: 32px;\n",
              "      padding: 0 0 0 0;\n",
              "      width: 32px;\n",
              "    }\n",
              "\n",
              "    .colab-df-convert:hover {\n",
              "      background-color: #E2EBFA;\n",
              "      box-shadow: 0px 1px 2px rgba(60, 64, 67, 0.3), 0px 1px 3px 1px rgba(60, 64, 67, 0.15);\n",
              "      fill: #174EA6;\n",
              "    }\n",
              "\n",
              "    [theme=dark] .colab-df-convert {\n",
              "      background-color: #3B4455;\n",
              "      fill: #D2E3FC;\n",
              "    }\n",
              "\n",
              "    [theme=dark] .colab-df-convert:hover {\n",
              "      background-color: #434B5C;\n",
              "      box-shadow: 0px 1px 3px 1px rgba(0, 0, 0, 0.15);\n",
              "      filter: drop-shadow(0px 1px 2px rgba(0, 0, 0, 0.3));\n",
              "      fill: #FFFFFF;\n",
              "    }\n",
              "  </style>\n",
              "\n",
              "      <script>\n",
              "        const buttonEl =\n",
              "          document.querySelector('#df-7a0c85ce-cd08-4f64-bc1e-6efbabc39322 button.colab-df-convert');\n",
              "        buttonEl.style.display =\n",
              "          google.colab.kernel.accessAllowed ? 'block' : 'none';\n",
              "\n",
              "        async function convertToInteractive(key) {\n",
              "          const element = document.querySelector('#df-7a0c85ce-cd08-4f64-bc1e-6efbabc39322');\n",
              "          const dataTable =\n",
              "            await google.colab.kernel.invokeFunction('convertToInteractive',\n",
              "                                                     [key], {});\n",
              "          if (!dataTable) return;\n",
              "\n",
              "          const docLinkHtml = 'Like what you see? Visit the ' +\n",
              "            '<a target=\"_blank\" href=https://colab.research.google.com/notebooks/data_table.ipynb>data table notebook</a>'\n",
              "            + ' to learn more about interactive tables.';\n",
              "          element.innerHTML = '';\n",
              "          dataTable['output_type'] = 'display_data';\n",
              "          await google.colab.output.renderOutput(dataTable, element);\n",
              "          const docLink = document.createElement('div');\n",
              "          docLink.innerHTML = docLinkHtml;\n",
              "          element.appendChild(docLink);\n",
              "        }\n",
              "      </script>\n",
              "    </div>\n",
              "  </div>\n",
              "  "
            ],
            "text/plain": [
              "        Prev Close         Open         High          Low         Last  \\\n",
              "count  1284.000000  1284.000000  1284.000000  1284.000000  1284.000000   \n",
              "mean   1532.792952  1535.259034  1552.770717  1516.280802  1533.822741   \n",
              "std     502.254113   503.869678   508.636785   497.351378   502.426607   \n",
              "min     780.900000   791.750000   793.400000   779.100000   781.200000   \n",
              "25%    1120.825000  1120.625000  1133.637500  1105.337500  1120.137500   \n",
              "50%    1372.375000  1375.000000  1393.100000  1363.375000  1373.150000   \n",
              "75%    1994.237500  1998.037500  2016.837500  1980.037500  1994.087500   \n",
              "max    2731.850000  2742.750000  2751.350000  2708.000000  2730.800000   \n",
              "\n",
              "             Close  \n",
              "count  1284.000000  \n",
              "mean   1533.691005  \n",
              "std     502.479009  \n",
              "min     780.900000  \n",
              "25%    1121.187500  \n",
              "50%    1373.525000  \n",
              "75%    1994.537500  \n",
              "max    2731.850000  "
            ]
          },
          "metadata": {},
          "execution_count": 14
        }
      ]
    },
    {
      "cell_type": "code",
      "source": [
        "df1 = df.copy()"
      ],
      "metadata": {
        "id": "tXEzyPIIRbcw"
      },
      "execution_count": null,
      "outputs": []
    },
    {
      "cell_type": "code",
      "source": [
        "import matplotlib.pyplot as plt\n",
        "%matplotlib inline\n",
        "import seaborn as sns"
      ],
      "metadata": {
        "id": "cdjFF9UnRwDc"
      },
      "execution_count": null,
      "outputs": []
    },
    {
      "cell_type": "code",
      "source": [
        "sns.boxplot(x= 'Open', data=df1)"
      ],
      "metadata": {
        "colab": {
          "base_uri": "https://localhost:8080/",
          "height": 296
        },
        "id": "iFlhLQ0ARiH_",
        "outputId": "d0ca46c8-6b45-4e9b-d1d7-5669ac2923cf"
      },
      "execution_count": null,
      "outputs": [
        {
          "output_type": "execute_result",
          "data": {
            "text/plain": [
              "<matplotlib.axes._subplots.AxesSubplot at 0x7f229dcde590>"
            ]
          },
          "metadata": {},
          "execution_count": 17
        },
        {
          "output_type": "display_data",
          "data": {
            "image/png": "[encoded data removed]",
            "text/plain": [
              "<Figure size 432x288 with 1 Axes>"
            ]
          },
          "metadata": {
            "needs_background": "light"
          }
        }
      ]
    },
    {
      "cell_type": "code",
      "source": [
        "#plt.figure(figsize = (10,8))\n",
        "sns.catplot(x = 'Date' , y = 'Open', data = df1)\n",
        "plt.show()"
      ],
      "metadata": {
        "colab": {
          "base_uri": "https://localhost:8080/",
          "height": 369
        },
        "id": "cskaDuORRqF0",
        "outputId": "5e618439-23c6-4ca2-b762-5dbf629ddd1a"
      },
      "execution_count": null,
      "outputs": [
        {
          "output_type": "display_data",
          "data": {
            "image/png": "[encoded data removed]",
            "text/plain": [
              "<Figure size 360x360 with 1 Axes>"
            ]
          },
          "metadata": {
            "needs_background": "light"
          }
        }
      ]
    },
    {
      "cell_type": "code",
      "source": [
        "plt.figure(figsize=(12,5))\n",
        "sns.lineplot(x=df1['Date'],y=df1['Open'],color='blue')\n",
        "plt.xticks(rotation='vertical')\n",
        "plt.xlabel('date')\n",
        "plt.ylabel('Open stock price')\n",
        "plt.title(\"Day wise stock price\",fontsize=16)\n",
        "\n",
        "plt.tight_layout(pad=0.5)\n",
        "plt.show()"
      ],
      "metadata": {
        "colab": {
          "base_uri": "https://localhost:8080/",
          "height": 381
        },
        "id": "1A1K6uKESFbi",
        "outputId": "c120d7d6-3a83-4d53-a3d3-a14854343e0d"
      },
      "execution_count": null,
      "outputs": [
        {
          "output_type": "display_data",
          "data": {
            "image/png": "[encoded data removed]",
            "text/plain": [
              "<Figure size 864x360 with 1 Axes>"
            ]
          },
          "metadata": {
            "needs_background": "light"
          }
        }
      ]
    },
    {
      "cell_type": "code",
      "source": [
        "sns.distplot(df1['Open'])"
      ],
      "metadata": {
        "colab": {
          "base_uri": "https://localhost:8080/",
          "height": 354
        },
        "id": "Vk9XKg-wSezj",
        "outputId": "d2db286d-c8ab-4f23-8bc9-7313d6f613cf"
      },
      "execution_count": null,
      "outputs": [
        {
          "output_type": "stream",
          "name": "stderr",
          "text": [
            "/usr/local/lib/python3.7/dist-packages/seaborn/distributions.py:2619: FutureWarning: `distplot` is a deprecated function and will be removed in a future version. Please adapt your code to use either `displot` (a figure-level function with similar flexibility) or `histplot` (an axes-level function for histograms).\n",
            "  warnings.warn(msg, FutureWarning)\n"
          ]
        },
        {
          "output_type": "execute_result",
          "data": {
            "text/plain": [
              "<matplotlib.axes._subplots.AxesSubplot at 0x7f229d51fdd0>"
            ]
          },
          "metadata": {},
          "execution_count": 20
        },
        {
          "output_type": "display_data",
          "data": {
            "image/png": "[encoded data removed]",
            "text/plain": [
              "<Figure size 432x288 with 1 Axes>"
            ]
          },
          "metadata": {
            "needs_background": "light"
          }
        }
      ]
    },
    {
      "cell_type": "code",
      "source": [
        "sns.kdeplot(df1['Open'],shade=True, color='b')"
      ],
      "metadata": {
        "id": "DdY3a8DIS462",
        "colab": {
          "base_uri": "https://localhost:8080/",
          "height": 296
        },
        "outputId": "6b2cdef1-cf02-432a-d9d6-473bd0c90603"
      },
      "execution_count": null,
      "outputs": [
        {
          "output_type": "execute_result",
          "data": {
            "text/plain": [
              "<matplotlib.axes._subplots.AxesSubplot at 0x7f229aa04150>"
            ]
          },
          "metadata": {},
          "execution_count": 21
        },
        {
          "output_type": "display_data",
          "data": {
            "image/png": "[encoded data removed]",
            "text/plain": [
              "<Figure size 432x288 with 1 Axes>"
            ]
          },
          "metadata": {
            "needs_background": "light"
          }
        }
      ]
    },
    {
      "cell_type": "markdown",
      "source": [
        "# Log Transformation"
      ],
      "metadata": {
        "id": "4mwBOgtYVvQS"
      }
    },
    {
      "cell_type": "code",
      "source": [
        "import warnings\n",
        "warnings.filterwarnings('ignore')\n",
        "log = np.log(df1['Open'])\n",
        "sns.distplot(log)\n",
        "fig = plt.figure()"
      ],
      "metadata": {
        "colab": {
          "base_uri": "https://localhost:8080/",
          "height": 296
        },
        "id": "izmVd4TUVwdu",
        "outputId": "8ede072a-9340-4b0d-8641-e5ad642eb210"
      },
      "execution_count": null,
      "outputs": [
        {
          "output_type": "display_data",
          "data": {
            "image/png": "[encoded data removed]",
            "text/plain": [
              "<Figure size 432x288 with 1 Axes>"
            ]
          },
          "metadata": {
            "needs_background": "light"
          }
        },
        {
          "output_type": "display_data",
          "data": {
            "text/plain": [
              "<Figure size 432x288 with 0 Axes>"
            ]
          },
          "metadata": {}
        }
      ]
    },
    {
      "cell_type": "code",
      "source": [
        "# Square root transformation\n",
        "\n",
        "sqrt = np.sqrt(df1['Open'])\n",
        "sns.distplot(sqrt)\n",
        "fig = plt.figure()"
      ],
      "metadata": {
        "colab": {
          "base_uri": "https://localhost:8080/",
          "height": 296
        },
        "id": "mEXiT8Y_V5O4",
        "outputId": "98e422a4-285d-4d43-b300-ffee8ea9508d"
      },
      "execution_count": null,
      "outputs": [
        {
          "output_type": "display_data",
          "data": {
            "image/png": "[encoded data removed]",
            "text/plain": [
              "<Figure size 432x288 with 1 Axes>"
            ]
          },
          "metadata": {
            "needs_background": "light"
          }
        },
        {
          "output_type": "display_data",
          "data": {
            "text/plain": [
              "<Figure size 432x288 with 0 Axes>"
            ]
          },
          "metadata": {}
        }
      ]
    },
    {
      "cell_type": "code",
      "source": [
        "# Reciprocal Transformation\n",
        "\n",
        "rec = 1/(df1['Open']+1)\n",
        "sns.distplot(rec)\n",
        "fig = plt.figure()"
      ],
      "metadata": {
        "colab": {
          "base_uri": "https://localhost:8080/",
          "height": 296
        },
        "id": "WOJAxau3WCp3",
        "outputId": "ebe5e9a0-4052-4417-96c7-61d809915fb2"
      },
      "execution_count": null,
      "outputs": [
        {
          "output_type": "display_data",
          "data": {
            "image/png": "[encoded data removed]",
            "text/plain": [
              "<Figure size 432x288 with 1 Axes>"
            ]
          },
          "metadata": {
            "needs_background": "light"
          }
        },
        {
          "output_type": "display_data",
          "data": {
            "text/plain": [
              "<Figure size 432x288 with 0 Axes>"
            ]
          },
          "metadata": {}
        }
      ]
    },
    {
      "cell_type": "code",
      "source": [
        "# Power Transformation:Box-Cox transformation\n",
        "\n",
        "from scipy import stats\n",
        "pt = stats.boxcox(df1['Open'])[0]\n",
        "sns.distplot(pt)\n",
        "fig = plt.figure()"
      ],
      "metadata": {
        "colab": {
          "base_uri": "https://localhost:8080/",
          "height": 282
        },
        "id": "FYsvRTz9WKx4",
        "outputId": "2003e176-982a-4c4e-cab4-069960afe574"
      },
      "execution_count": null,
      "outputs": [
        {
          "output_type": "display_data",
          "data": {
            "image/png": "[encoded data removed]",
            "text/plain": [
              "<Figure size 432x288 with 1 Axes>"
            ]
          },
          "metadata": {
            "needs_background": "light"
          }
        },
        {
          "output_type": "display_data",
          "data": {
            "text/plain": [
              "<Figure size 432x288 with 0 Axes>"
            ]
          },
          "metadata": {}
        }
      ]
    },
    {
      "cell_type": "code",
      "source": [
        "# Even after transformations data is Not normal so we moved ahead Without transformation"
      ],
      "metadata": {
        "id": "DSvrS1QrWVJR"
      },
      "execution_count": null,
      "outputs": []
    },
    {
      "cell_type": "code",
      "source": [
        "plt.figure(figsize=(12,3))\n",
        "sns.lineplot(x=\"Date\",y=\"Open\",data=df1)"
      ],
      "metadata": {
        "colab": {
          "base_uri": "https://localhost:8080/",
          "height": 242
        },
        "id": "Pjk4WEb2WetP",
        "outputId": "9ac72c56-6bea-4a65-f3bb-3905294a8883"
      },
      "execution_count": null,
      "outputs": [
        {
          "output_type": "execute_result",
          "data": {
            "text/plain": [
              "<matplotlib.axes._subplots.AxesSubplot at 0x7f229d4e0750>"
            ]
          },
          "metadata": {},
          "execution_count": 26
        },
        {
          "output_type": "display_data",
          "data": {
            "image/png": "[encoded data removed]",
            "text/plain": [
              "<Figure size 864x216 with 1 Axes>"
            ]
          },
          "metadata": {
            "needs_background": "light"
          }
        }
      ]
    },
    {
      "cell_type": "code",
      "source": [
        ""
      ],
      "metadata": {
        "id": "dFQQKq5VWlRL"
      },
      "execution_count": null,
      "outputs": []
    },
    {
      "cell_type": "markdown",
      "source": [
        "# Model Building"
      ],
      "metadata": {
        "id": "RaNswJ0zjkly"
      }
    },
    {
      "cell_type": "code",
      "source": [
        "import numpy as np\n",
        "import pandas as pd"
      ],
      "metadata": {
        "id": "Fwino-xB5_2c"
      },
      "execution_count": 41,
      "outputs": []
    },
    {
      "cell_type": "code",
      "source": [
        "df = pd.read_csv('/content/sample_data/Reliance_5_years.csv')"
      ],
      "metadata": {
        "id": "7PYr02WOjnKu"
      },
      "execution_count": 42,
      "outputs": []
    },
    {
      "cell_type": "code",
      "source": [
        "df.info()"
      ],
      "metadata": {
        "colab": {
          "base_uri": "https://localhost:8080/"
        },
        "id": "T3VsI8U8j5BY",
        "outputId": "08c8ab21-f690-49fa-d1a3-5bd0b61ee36d"
      },
      "execution_count": 43,
      "outputs": [
        {
          "output_type": "stream",
          "name": "stdout",
          "text": [
            "<class 'pandas.core.frame.DataFrame'>\n",
            "RangeIndex: 1284 entries, 0 to 1283\n",
            "Data columns (total 15 columns):\n",
            " #   Column              Non-Null Count  Dtype  \n",
            "---  ------              --------------  -----  \n",
            " 0   Date                1284 non-null   object \n",
            " 1   Symbol              1284 non-null   object \n",
            " 2   Series              1284 non-null   object \n",
            " 3   Prev Close          1284 non-null   float64\n",
            " 4   Open                1284 non-null   float64\n",
            " 5   High                1284 non-null   float64\n",
            " 6   Low                 1284 non-null   float64\n",
            " 7   Last                1284 non-null   float64\n",
            " 8   Close               1284 non-null   float64\n",
            " 9   VWAP                1284 non-null   float64\n",
            " 10  Volume              1284 non-null   int64  \n",
            " 11  Turnover            1284 non-null   float64\n",
            " 12  Trades              1284 non-null   int64  \n",
            " 13  Deliverable Volume  1284 non-null   int64  \n",
            " 14  %Deliverble         1284 non-null   float64\n",
            "dtypes: float64(9), int64(3), object(3)\n",
            "memory usage: 150.6+ KB\n"
          ]
        }
      ]
    },
    {
      "cell_type": "code",
      "source": [
        "df= df.iloc[:,:9]\n",
        "df.head()"
      ],
      "metadata": {
        "colab": {
          "base_uri": "https://localhost:8080/",
          "height": 206
        },
        "id": "GaD51Arq6Lro",
        "outputId": "6cb53f05-8867-4994-8a72-7ca2b19d835b"
      },
      "execution_count": 44,
      "outputs": [
        {
          "output_type": "execute_result",
          "data": {
            "text/html": [
              "\n",
              "  <div id=\"df-6f0b1eb3-3028-430b-b104-a0dce7ae1080\">\n",
              "    <div class=\"colab-df-container\">\n",
              "      <div>\n",
              "<style scoped>\n",
              "    .dataframe tbody tr th:only-of-type {\n",
              "        vertical-align: middle;\n",
              "    }\n",
              "\n",
              "    .dataframe tbody tr th {\n",
              "        vertical-align: top;\n",
              "    }\n",
              "\n",
              "    .dataframe thead th {\n",
              "        text-align: right;\n",
              "    }\n",
              "</style>\n",
              "<table border=\"1\" class=\"dataframe\">\n",
              "  <thead>\n",
              "    <tr style=\"text-align: right;\">\n",
              "      <th></th>\n",
              "      <th>Date</th>\n",
              "      <th>Symbol</th>\n",
              "      <th>Series</th>\n",
              "      <th>Prev Close</th>\n",
              "      <th>Open</th>\n",
              "      <th>High</th>\n",
              "      <th>Low</th>\n",
              "      <th>Last</th>\n",
              "      <th>Close</th>\n",
              "    </tr>\n",
              "  </thead>\n",
              "  <tbody>\n",
              "    <tr>\n",
              "      <th>0</th>\n",
              "      <td>2017-01-02</td>\n",
              "      <td>RELIANCE</td>\n",
              "      <td>EQ</td>\n",
              "      <td>1082.40</td>\n",
              "      <td>1084.00</td>\n",
              "      <td>1090.0</td>\n",
              "      <td>1072.35</td>\n",
              "      <td>1086.70</td>\n",
              "      <td>1085.10</td>\n",
              "    </tr>\n",
              "    <tr>\n",
              "      <th>1</th>\n",
              "      <td>2017-01-03</td>\n",
              "      <td>RELIANCE</td>\n",
              "      <td>EQ</td>\n",
              "      <td>1085.10</td>\n",
              "      <td>1089.85</td>\n",
              "      <td>1097.0</td>\n",
              "      <td>1081.10</td>\n",
              "      <td>1089.00</td>\n",
              "      <td>1089.40</td>\n",
              "    </tr>\n",
              "    <tr>\n",
              "      <th>2</th>\n",
              "      <td>2017-01-04</td>\n",
              "      <td>RELIANCE</td>\n",
              "      <td>EQ</td>\n",
              "      <td>1089.40</td>\n",
              "      <td>1092.90</td>\n",
              "      <td>1093.0</td>\n",
              "      <td>1064.30</td>\n",
              "      <td>1067.15</td>\n",
              "      <td>1067.15</td>\n",
              "    </tr>\n",
              "    <tr>\n",
              "      <th>3</th>\n",
              "      <td>2017-01-05</td>\n",
              "      <td>RELIANCE</td>\n",
              "      <td>EQ</td>\n",
              "      <td>1067.15</td>\n",
              "      <td>1071.00</td>\n",
              "      <td>1079.9</td>\n",
              "      <td>1068.75</td>\n",
              "      <td>1077.00</td>\n",
              "      <td>1077.40</td>\n",
              "    </tr>\n",
              "    <tr>\n",
              "      <th>4</th>\n",
              "      <td>2017-01-06</td>\n",
              "      <td>RELIANCE</td>\n",
              "      <td>EQ</td>\n",
              "      <td>1077.40</td>\n",
              "      <td>1074.20</td>\n",
              "      <td>1085.0</td>\n",
              "      <td>1073.10</td>\n",
              "      <td>1073.95</td>\n",
              "      <td>1074.95</td>\n",
              "    </tr>\n",
              "  </tbody>\n",
              "</table>\n",
              "</div>\n",
              "      <button class=\"colab-df-convert\" onclick=\"convertToInteractive('df-6f0b1eb3-3028-430b-b104-a0dce7ae1080')\"\n",
              "              title=\"Convert this dataframe to an interactive table.\"\n",
              "              style=\"display:none;\">\n",
              "        \n",
              "  <svg xmlns=\"http://www.w3.org/2000/svg\" height=\"24px\"viewBox=\"0 0 24 24\"\n",
              "       width=\"24px\">\n",
              "    <path d=\"M0 0h24v24H0V0z\" fill=\"none\"/>\n",
              "    <path d=\"M18.56 5.44l.94 2.06.94-2.06 2.06-.94-2.06-.94-.94-2.06-.94 2.06-2.06.94zm-11 1L8.5 8.5l.94-2.06 2.06-.94-2.06-.94L8.5 2.5l-.94 2.06-2.06.94zm10 10l.94 2.06.94-2.06 2.06-.94-2.06-.94-.94-2.06-.94 2.06-2.06.94z\"/><path d=\"M17.41 7.96l-1.37-1.37c-.4-.4-.92-.59-1.43-.59-.52 0-1.04.2-1.43.59L10.3 9.45l-7.72 7.72c-.78.78-.78 2.05 0 2.83L4 21.41c.39.39.9.59 1.41.59.51 0 1.02-.2 1.41-.59l7.78-7.78 2.81-2.81c.8-.78.8-2.07 0-2.86zM5.41 20L4 18.59l7.72-7.72 1.47 1.35L5.41 20z\"/>\n",
              "  </svg>\n",
              "      </button>\n",
              "      \n",
              "  <style>\n",
              "    .colab-df-container {\n",
              "      display:flex;\n",
              "      flex-wrap:wrap;\n",
              "      gap: 12px;\n",
              "    }\n",
              "\n",
              "    .colab-df-convert {\n",
              "      background-color: #E8F0FE;\n",
              "      border: none;\n",
              "      border-radius: 50%;\n",
              "      cursor: pointer;\n",
              "      display: none;\n",
              "      fill: #1967D2;\n",
              "      height: 32px;\n",
              "      padding: 0 0 0 0;\n",
              "      width: 32px;\n",
              "    }\n",
              "\n",
              "    .colab-df-convert:hover {\n",
              "      background-color: #E2EBFA;\n",
              "      box-shadow: 0px 1px 2px rgba(60, 64, 67, 0.3), 0px 1px 3px 1px rgba(60, 64, 67, 0.15);\n",
              "      fill: #174EA6;\n",
              "    }\n",
              "\n",
              "    [theme=dark] .colab-df-convert {\n",
              "      background-color: #3B4455;\n",
              "      fill: #D2E3FC;\n",
              "    }\n",
              "\n",
              "    [theme=dark] .colab-df-convert:hover {\n",
              "      background-color: #434B5C;\n",
              "      box-shadow: 0px 1px 3px 1px rgba(0, 0, 0, 0.15);\n",
              "      filter: drop-shadow(0px 1px 2px rgba(0, 0, 0, 0.3));\n",
              "      fill: #FFFFFF;\n",
              "    }\n",
              "  </style>\n",
              "\n",
              "      <script>\n",
              "        const buttonEl =\n",
              "          document.querySelector('#df-6f0b1eb3-3028-430b-b104-a0dce7ae1080 button.colab-df-convert');\n",
              "        buttonEl.style.display =\n",
              "          google.colab.kernel.accessAllowed ? 'block' : 'none';\n",
              "\n",
              "        async function convertToInteractive(key) {\n",
              "          const element = document.querySelector('#df-6f0b1eb3-3028-430b-b104-a0dce7ae1080');\n",
              "          const dataTable =\n",
              "            await google.colab.kernel.invokeFunction('convertToInteractive',\n",
              "                                                     [key], {});\n",
              "          if (!dataTable) return;\n",
              "\n",
              "          const docLinkHtml = 'Like what you see? Visit the ' +\n",
              "            '<a target=\"_blank\" href=https://colab.research.google.com/notebooks/data_table.ipynb>data table notebook</a>'\n",
              "            + ' to learn more about interactive tables.';\n",
              "          element.innerHTML = '';\n",
              "          dataTable['output_type'] = 'display_data';\n",
              "          await google.colab.output.renderOutput(dataTable, element);\n",
              "          const docLink = document.createElement('div');\n",
              "          docLink.innerHTML = docLinkHtml;\n",
              "          element.appendChild(docLink);\n",
              "        }\n",
              "      </script>\n",
              "    </div>\n",
              "  </div>\n",
              "  "
            ],
            "text/plain": [
              "         Date    Symbol Series  Prev Close     Open    High      Low     Last  \\\n",
              "0  2017-01-02  RELIANCE     EQ     1082.40  1084.00  1090.0  1072.35  1086.70   \n",
              "1  2017-01-03  RELIANCE     EQ     1085.10  1089.85  1097.0  1081.10  1089.00   \n",
              "2  2017-01-04  RELIANCE     EQ     1089.40  1092.90  1093.0  1064.30  1067.15   \n",
              "3  2017-01-05  RELIANCE     EQ     1067.15  1071.00  1079.9  1068.75  1077.00   \n",
              "4  2017-01-06  RELIANCE     EQ     1077.40  1074.20  1085.0  1073.10  1073.95   \n",
              "\n",
              "     Close  \n",
              "0  1085.10  \n",
              "1  1089.40  \n",
              "2  1067.15  \n",
              "3  1077.40  \n",
              "4  1074.95  "
            ]
          },
          "metadata": {},
          "execution_count": 44
        }
      ]
    },
    {
      "cell_type": "code",
      "source": [
        "# Converting to datetime datatype\n",
        "df['Date'] = pd.to_datetime(df['Date'])"
      ],
      "metadata": {
        "id": "ZDtI5CoXj602"
      },
      "execution_count": 45,
      "outputs": []
    },
    {
      "cell_type": "code",
      "source": [
        "df.info()"
      ],
      "metadata": {
        "colab": {
          "base_uri": "https://localhost:8080/"
        },
        "id": "3xAqy73ukIsi",
        "outputId": "4f0238ed-c7f7-484f-dd6a-c8d2b125893d"
      },
      "execution_count": 46,
      "outputs": [
        {
          "output_type": "stream",
          "name": "stdout",
          "text": [
            "<class 'pandas.core.frame.DataFrame'>\n",
            "RangeIndex: 1284 entries, 0 to 1283\n",
            "Data columns (total 9 columns):\n",
            " #   Column      Non-Null Count  Dtype         \n",
            "---  ------      --------------  -----         \n",
            " 0   Date        1284 non-null   datetime64[ns]\n",
            " 1   Symbol      1284 non-null   object        \n",
            " 2   Series      1284 non-null   object        \n",
            " 3   Prev Close  1284 non-null   float64       \n",
            " 4   Open        1284 non-null   float64       \n",
            " 5   High        1284 non-null   float64       \n",
            " 6   Low         1284 non-null   float64       \n",
            " 7   Last        1284 non-null   float64       \n",
            " 8   Close       1284 non-null   float64       \n",
            "dtypes: datetime64[ns](1), float64(6), object(2)\n",
            "memory usage: 90.4+ KB\n"
          ]
        }
      ]
    },
    {
      "cell_type": "code",
      "source": [
        "import matplotlib.pyplot as plt\n",
        "import statsmodels.api as sms"
      ],
      "metadata": {
        "id": "v2mb8YJmkK6y"
      },
      "execution_count": 47,
      "outputs": []
    },
    {
      "cell_type": "code",
      "source": [
        "from statsmodels.tsa.stattools import adfuller"
      ],
      "metadata": {
        "id": "usiCyVIxkToZ"
      },
      "execution_count": 48,
      "outputs": []
    },
    {
      "cell_type": "code",
      "source": [
        "df1=df"
      ],
      "metadata": {
        "id": "yBRRXszVk35s"
      },
      "execution_count": 49,
      "outputs": []
    },
    {
      "cell_type": "code",
      "source": [
        "df1.head()"
      ],
      "metadata": {
        "colab": {
          "base_uri": "https://localhost:8080/",
          "height": 206
        },
        "id": "H4MgxyGPmSY4",
        "outputId": "2541ae8f-6c4b-49fa-fbdb-2dbf23edca15"
      },
      "execution_count": 50,
      "outputs": [
        {
          "output_type": "execute_result",
          "data": {
            "text/html": [
              "\n",
              "  <div id=\"df-c0afafda-e02f-43cc-9fba-43ea9218720e\">\n",
              "    <div class=\"colab-df-container\">\n",
              "      <div>\n",
              "<style scoped>\n",
              "    .dataframe tbody tr th:only-of-type {\n",
              "        vertical-align: middle;\n",
              "    }\n",
              "\n",
              "    .dataframe tbody tr th {\n",
              "        vertical-align: top;\n",
              "    }\n",
              "\n",
              "    .dataframe thead th {\n",
              "        text-align: right;\n",
              "    }\n",
              "</style>\n",
              "<table border=\"1\" class=\"dataframe\">\n",
              "  <thead>\n",
              "    <tr style=\"text-align: right;\">\n",
              "      <th></th>\n",
              "      <th>Date</th>\n",
              "      <th>Symbol</th>\n",
              "      <th>Series</th>\n",
              "      <th>Prev Close</th>\n",
              "      <th>Open</th>\n",
              "      <th>High</th>\n",
              "      <th>Low</th>\n",
              "      <th>Last</th>\n",
              "      <th>Close</th>\n",
              "    </tr>\n",
              "  </thead>\n",
              "  <tbody>\n",
              "    <tr>\n",
              "      <th>0</th>\n",
              "      <td>2017-01-02</td>\n",
              "      <td>RELIANCE</td>\n",
              "      <td>EQ</td>\n",
              "      <td>1082.40</td>\n",
              "      <td>1084.00</td>\n",
              "      <td>1090.0</td>\n",
              "      <td>1072.35</td>\n",
              "      <td>1086.70</td>\n",
              "      <td>1085.10</td>\n",
              "    </tr>\n",
              "    <tr>\n",
              "      <th>1</th>\n",
              "      <td>2017-01-03</td>\n",
              "      <td>RELIANCE</td>\n",
              "      <td>EQ</td>\n",
              "      <td>1085.10</td>\n",
              "      <td>1089.85</td>\n",
              "      <td>1097.0</td>\n",
              "      <td>1081.10</td>\n",
              "      <td>1089.00</td>\n",
              "      <td>1089.40</td>\n",
              "    </tr>\n",
              "    <tr>\n",
              "      <th>2</th>\n",
              "      <td>2017-01-04</td>\n",
              "      <td>RELIANCE</td>\n",
              "      <td>EQ</td>\n",
              "      <td>1089.40</td>\n",
              "      <td>1092.90</td>\n",
              "      <td>1093.0</td>\n",
              "      <td>1064.30</td>\n",
              "      <td>1067.15</td>\n",
              "      <td>1067.15</td>\n",
              "    </tr>\n",
              "    <tr>\n",
              "      <th>3</th>\n",
              "      <td>2017-01-05</td>\n",
              "      <td>RELIANCE</td>\n",
              "      <td>EQ</td>\n",
              "      <td>1067.15</td>\n",
              "      <td>1071.00</td>\n",
              "      <td>1079.9</td>\n",
              "      <td>1068.75</td>\n",
              "      <td>1077.00</td>\n",
              "      <td>1077.40</td>\n",
              "    </tr>\n",
              "    <tr>\n",
              "      <th>4</th>\n",
              "      <td>2017-01-06</td>\n",
              "      <td>RELIANCE</td>\n",
              "      <td>EQ</td>\n",
              "      <td>1077.40</td>\n",
              "      <td>1074.20</td>\n",
              "      <td>1085.0</td>\n",
              "      <td>1073.10</td>\n",
              "      <td>1073.95</td>\n",
              "      <td>1074.95</td>\n",
              "    </tr>\n",
              "  </tbody>\n",
              "</table>\n",
              "</div>\n",
              "      <button class=\"colab-df-convert\" onclick=\"convertToInteractive('df-c0afafda-e02f-43cc-9fba-43ea9218720e')\"\n",
              "              title=\"Convert this dataframe to an interactive table.\"\n",
              "              style=\"display:none;\">\n",
              "        \n",
              "  <svg xmlns=\"http://www.w3.org/2000/svg\" height=\"24px\"viewBox=\"0 0 24 24\"\n",
              "       width=\"24px\">\n",
              "    <path d=\"M0 0h24v24H0V0z\" fill=\"none\"/>\n",
              "    <path d=\"M18.56 5.44l.94 2.06.94-2.06 2.06-.94-2.06-.94-.94-2.06-.94 2.06-2.06.94zm-11 1L8.5 8.5l.94-2.06 2.06-.94-2.06-.94L8.5 2.5l-.94 2.06-2.06.94zm10 10l.94 2.06.94-2.06 2.06-.94-2.06-.94-.94-2.06-.94 2.06-2.06.94z\"/><path d=\"M17.41 7.96l-1.37-1.37c-.4-.4-.92-.59-1.43-.59-.52 0-1.04.2-1.43.59L10.3 9.45l-7.72 7.72c-.78.78-.78 2.05 0 2.83L4 21.41c.39.39.9.59 1.41.59.51 0 1.02-.2 1.41-.59l7.78-7.78 2.81-2.81c.8-.78.8-2.07 0-2.86zM5.41 20L4 18.59l7.72-7.72 1.47 1.35L5.41 20z\"/>\n",
              "  </svg>\n",
              "      </button>\n",
              "      \n",
              "  <style>\n",
              "    .colab-df-container {\n",
              "      display:flex;\n",
              "      flex-wrap:wrap;\n",
              "      gap: 12px;\n",
              "    }\n",
              "\n",
              "    .colab-df-convert {\n",
              "      background-color: #E8F0FE;\n",
              "      border: none;\n",
              "      border-radius: 50%;\n",
              "      cursor: pointer;\n",
              "      display: none;\n",
              "      fill: #1967D2;\n",
              "      height: 32px;\n",
              "      padding: 0 0 0 0;\n",
              "      width: 32px;\n",
              "    }\n",
              "\n",
              "    .colab-df-convert:hover {\n",
              "      background-color: #E2EBFA;\n",
              "      box-shadow: 0px 1px 2px rgba(60, 64, 67, 0.3), 0px 1px 3px 1px rgba(60, 64, 67, 0.15);\n",
              "      fill: #174EA6;\n",
              "    }\n",
              "\n",
              "    [theme=dark] .colab-df-convert {\n",
              "      background-color: #3B4455;\n",
              "      fill: #D2E3FC;\n",
              "    }\n",
              "\n",
              "    [theme=dark] .colab-df-convert:hover {\n",
              "      background-color: #434B5C;\n",
              "      box-shadow: 0px 1px 3px 1px rgba(0, 0, 0, 0.15);\n",
              "      filter: drop-shadow(0px 1px 2px rgba(0, 0, 0, 0.3));\n",
              "      fill: #FFFFFF;\n",
              "    }\n",
              "  </style>\n",
              "\n",
              "      <script>\n",
              "        const buttonEl =\n",
              "          document.querySelector('#df-c0afafda-e02f-43cc-9fba-43ea9218720e button.colab-df-convert');\n",
              "        buttonEl.style.display =\n",
              "          google.colab.kernel.accessAllowed ? 'block' : 'none';\n",
              "\n",
              "        async function convertToInteractive(key) {\n",
              "          const element = document.querySelector('#df-c0afafda-e02f-43cc-9fba-43ea9218720e');\n",
              "          const dataTable =\n",
              "            await google.colab.kernel.invokeFunction('convertToInteractive',\n",
              "                                                     [key], {});\n",
              "          if (!dataTable) return;\n",
              "\n",
              "          const docLinkHtml = 'Like what you see? Visit the ' +\n",
              "            '<a target=\"_blank\" href=https://colab.research.google.com/notebooks/data_table.ipynb>data table notebook</a>'\n",
              "            + ' to learn more about interactive tables.';\n",
              "          element.innerHTML = '';\n",
              "          dataTable['output_type'] = 'display_data';\n",
              "          await google.colab.output.renderOutput(dataTable, element);\n",
              "          const docLink = document.createElement('div');\n",
              "          docLink.innerHTML = docLinkHtml;\n",
              "          element.appendChild(docLink);\n",
              "        }\n",
              "      </script>\n",
              "    </div>\n",
              "  </div>\n",
              "  "
            ],
            "text/plain": [
              "        Date    Symbol Series  Prev Close     Open    High      Low     Last  \\\n",
              "0 2017-01-02  RELIANCE     EQ     1082.40  1084.00  1090.0  1072.35  1086.70   \n",
              "1 2017-01-03  RELIANCE     EQ     1085.10  1089.85  1097.0  1081.10  1089.00   \n",
              "2 2017-01-04  RELIANCE     EQ     1089.40  1092.90  1093.0  1064.30  1067.15   \n",
              "3 2017-01-05  RELIANCE     EQ     1067.15  1071.00  1079.9  1068.75  1077.00   \n",
              "4 2017-01-06  RELIANCE     EQ     1077.40  1074.20  1085.0  1073.10  1073.95   \n",
              "\n",
              "     Close  \n",
              "0  1085.10  \n",
              "1  1089.40  \n",
              "2  1067.15  \n",
              "3  1077.40  \n",
              "4  1074.95  "
            ]
          },
          "metadata": {},
          "execution_count": 50
        }
      ]
    },
    {
      "cell_type": "code",
      "source": [
        "def adf_test(series):\n",
        "    result=adfuller(series)\n",
        "    print('ADF Statistics: {}'.format(result[0]))\n",
        "    print('p- value: {}'.format(result[1]))\n",
        "    if result[1] <= 0.05:\n",
        "        print(\"strong evidence against the null hypothesis, reject the null hypothesis. Data has no unit root and is stationary\")\n",
        "    else:\n",
        "        print(\"weak evidence against null hypothesis, time series has a unit root, indicating it is non-stationary \")"
      ],
      "metadata": {
        "id": "9DdBj91QkZ7a"
      },
      "execution_count": 51,
      "outputs": []
    },
    {
      "cell_type": "code",
      "source": [
        "adf_test(df1['Open'])"
      ],
      "metadata": {
        "colab": {
          "base_uri": "https://localhost:8080/"
        },
        "id": "wfBlvWuikhxS",
        "outputId": "80bf1d3f-e693-42f2-be45-0e6f03c2660c"
      },
      "execution_count": 52,
      "outputs": [
        {
          "output_type": "stream",
          "name": "stdout",
          "text": [
            "ADF Statistics: -1.1555425651708975\n",
            "p- value: 0.6924220583525118\n",
            "weak evidence against null hypothesis, time series has a unit root, indicating it is non-stationary \n"
          ]
        }
      ]
    },
    {
      "cell_type": "code",
      "source": [
        "## Use Techniques Differencing\n",
        "df1['First_Difference_Open']=df1['Open']-df1['Open'].shift(1)"
      ],
      "metadata": {
        "id": "-cVuKdZ_knWw"
      },
      "execution_count": 53,
      "outputs": []
    },
    {
      "cell_type": "code",
      "source": [
        "df1.head()"
      ],
      "metadata": {
        "colab": {
          "base_uri": "https://localhost:8080/",
          "height": 206
        },
        "id": "EuYlZQQplGcR",
        "outputId": "fea0ebf8-8095-4511-811a-972a2497e349"
      },
      "execution_count": 54,
      "outputs": [
        {
          "output_type": "execute_result",
          "data": {
            "text/html": [
              "\n",
              "  <div id=\"df-d9862891-12c8-4284-8eb3-d4a810fd7cb1\">\n",
              "    <div class=\"colab-df-container\">\n",
              "      <div>\n",
              "<style scoped>\n",
              "    .dataframe tbody tr th:only-of-type {\n",
              "        vertical-align: middle;\n",
              "    }\n",
              "\n",
              "    .dataframe tbody tr th {\n",
              "        vertical-align: top;\n",
              "    }\n",
              "\n",
              "    .dataframe thead th {\n",
              "        text-align: right;\n",
              "    }\n",
              "</style>\n",
              "<table border=\"1\" class=\"dataframe\">\n",
              "  <thead>\n",
              "    <tr style=\"text-align: right;\">\n",
              "      <th></th>\n",
              "      <th>Date</th>\n",
              "      <th>Symbol</th>\n",
              "      <th>Series</th>\n",
              "      <th>Prev Close</th>\n",
              "      <th>Open</th>\n",
              "      <th>High</th>\n",
              "      <th>Low</th>\n",
              "      <th>Last</th>\n",
              "      <th>Close</th>\n",
              "      <th>First_Difference_Open</th>\n",
              "    </tr>\n",
              "  </thead>\n",
              "  <tbody>\n",
              "    <tr>\n",
              "      <th>0</th>\n",
              "      <td>2017-01-02</td>\n",
              "      <td>RELIANCE</td>\n",
              "      <td>EQ</td>\n",
              "      <td>1082.40</td>\n",
              "      <td>1084.00</td>\n",
              "      <td>1090.0</td>\n",
              "      <td>1072.35</td>\n",
              "      <td>1086.70</td>\n",
              "      <td>1085.10</td>\n",
              "      <td>NaN</td>\n",
              "    </tr>\n",
              "    <tr>\n",
              "      <th>1</th>\n",
              "      <td>2017-01-03</td>\n",
              "      <td>RELIANCE</td>\n",
              "      <td>EQ</td>\n",
              "      <td>1085.10</td>\n",
              "      <td>1089.85</td>\n",
              "      <td>1097.0</td>\n",
              "      <td>1081.10</td>\n",
              "      <td>1089.00</td>\n",
              "      <td>1089.40</td>\n",
              "      <td>5.85</td>\n",
              "    </tr>\n",
              "    <tr>\n",
              "      <th>2</th>\n",
              "      <td>2017-01-04</td>\n",
              "      <td>RELIANCE</td>\n",
              "      <td>EQ</td>\n",
              "      <td>1089.40</td>\n",
              "      <td>1092.90</td>\n",
              "      <td>1093.0</td>\n",
              "      <td>1064.30</td>\n",
              "      <td>1067.15</td>\n",
              "      <td>1067.15</td>\n",
              "      <td>3.05</td>\n",
              "    </tr>\n",
              "    <tr>\n",
              "      <th>3</th>\n",
              "      <td>2017-01-05</td>\n",
              "      <td>RELIANCE</td>\n",
              "      <td>EQ</td>\n",
              "      <td>1067.15</td>\n",
              "      <td>1071.00</td>\n",
              "      <td>1079.9</td>\n",
              "      <td>1068.75</td>\n",
              "      <td>1077.00</td>\n",
              "      <td>1077.40</td>\n",
              "      <td>-21.90</td>\n",
              "    </tr>\n",
              "    <tr>\n",
              "      <th>4</th>\n",
              "      <td>2017-01-06</td>\n",
              "      <td>RELIANCE</td>\n",
              "      <td>EQ</td>\n",
              "      <td>1077.40</td>\n",
              "      <td>1074.20</td>\n",
              "      <td>1085.0</td>\n",
              "      <td>1073.10</td>\n",
              "      <td>1073.95</td>\n",
              "      <td>1074.95</td>\n",
              "      <td>3.20</td>\n",
              "    </tr>\n",
              "  </tbody>\n",
              "</table>\n",
              "</div>\n",
              "      <button class=\"colab-df-convert\" onclick=\"convertToInteractive('df-d9862891-12c8-4284-8eb3-d4a810fd7cb1')\"\n",
              "              title=\"Convert this dataframe to an interactive table.\"\n",
              "              style=\"display:none;\">\n",
              "        \n",
              "  <svg xmlns=\"http://www.w3.org/2000/svg\" height=\"24px\"viewBox=\"0 0 24 24\"\n",
              "       width=\"24px\">\n",
              "    <path d=\"M0 0h24v24H0V0z\" fill=\"none\"/>\n",
              "    <path d=\"M18.56 5.44l.94 2.06.94-2.06 2.06-.94-2.06-.94-.94-2.06-.94 2.06-2.06.94zm-11 1L8.5 8.5l.94-2.06 2.06-.94-2.06-.94L8.5 2.5l-.94 2.06-2.06.94zm10 10l.94 2.06.94-2.06 2.06-.94-2.06-.94-.94-2.06-.94 2.06-2.06.94z\"/><path d=\"M17.41 7.96l-1.37-1.37c-.4-.4-.92-.59-1.43-.59-.52 0-1.04.2-1.43.59L10.3 9.45l-7.72 7.72c-.78.78-.78 2.05 0 2.83L4 21.41c.39.39.9.59 1.41.59.51 0 1.02-.2 1.41-.59l7.78-7.78 2.81-2.81c.8-.78.8-2.07 0-2.86zM5.41 20L4 18.59l7.72-7.72 1.47 1.35L5.41 20z\"/>\n",
              "  </svg>\n",
              "      </button>\n",
              "      \n",
              "  <style>\n",
              "    .colab-df-container {\n",
              "      display:flex;\n",
              "      flex-wrap:wrap;\n",
              "      gap: 12px;\n",
              "    }\n",
              "\n",
              "    .colab-df-convert {\n",
              "      background-color: #E8F0FE;\n",
              "      border: none;\n",
              "      border-radius: 50%;\n",
              "      cursor: pointer;\n",
              "      display: none;\n",
              "      fill: #1967D2;\n",
              "      height: 32px;\n",
              "      padding: 0 0 0 0;\n",
              "      width: 32px;\n",
              "    }\n",
              "\n",
              "    .colab-df-convert:hover {\n",
              "      background-color: #E2EBFA;\n",
              "      box-shadow: 0px 1px 2px rgba(60, 64, 67, 0.3), 0px 1px 3px 1px rgba(60, 64, 67, 0.15);\n",
              "      fill: #174EA6;\n",
              "    }\n",
              "\n",
              "    [theme=dark] .colab-df-convert {\n",
              "      background-color: #3B4455;\n",
              "      fill: #D2E3FC;\n",
              "    }\n",
              "\n",
              "    [theme=dark] .colab-df-convert:hover {\n",
              "      background-color: #434B5C;\n",
              "      box-shadow: 0px 1px 3px 1px rgba(0, 0, 0, 0.15);\n",
              "      filter: drop-shadow(0px 1px 2px rgba(0, 0, 0, 0.3));\n",
              "      fill: #FFFFFF;\n",
              "    }\n",
              "  </style>\n",
              "\n",
              "      <script>\n",
              "        const buttonEl =\n",
              "          document.querySelector('#df-d9862891-12c8-4284-8eb3-d4a810fd7cb1 button.colab-df-convert');\n",
              "        buttonEl.style.display =\n",
              "          google.colab.kernel.accessAllowed ? 'block' : 'none';\n",
              "\n",
              "        async function convertToInteractive(key) {\n",
              "          const element = document.querySelector('#df-d9862891-12c8-4284-8eb3-d4a810fd7cb1');\n",
              "          const dataTable =\n",
              "            await google.colab.kernel.invokeFunction('convertToInteractive',\n",
              "                                                     [key], {});\n",
              "          if (!dataTable) return;\n",
              "\n",
              "          const docLinkHtml = 'Like what you see? Visit the ' +\n",
              "            '<a target=\"_blank\" href=https://colab.research.google.com/notebooks/data_table.ipynb>data table notebook</a>'\n",
              "            + ' to learn more about interactive tables.';\n",
              "          element.innerHTML = '';\n",
              "          dataTable['output_type'] = 'display_data';\n",
              "          await google.colab.output.renderOutput(dataTable, element);\n",
              "          const docLink = document.createElement('div');\n",
              "          docLink.innerHTML = docLinkHtml;\n",
              "          element.appendChild(docLink);\n",
              "        }\n",
              "      </script>\n",
              "    </div>\n",
              "  </div>\n",
              "  "
            ],
            "text/plain": [
              "        Date    Symbol Series  Prev Close     Open    High      Low     Last  \\\n",
              "0 2017-01-02  RELIANCE     EQ     1082.40  1084.00  1090.0  1072.35  1086.70   \n",
              "1 2017-01-03  RELIANCE     EQ     1085.10  1089.85  1097.0  1081.10  1089.00   \n",
              "2 2017-01-04  RELIANCE     EQ     1089.40  1092.90  1093.0  1064.30  1067.15   \n",
              "3 2017-01-05  RELIANCE     EQ     1067.15  1071.00  1079.9  1068.75  1077.00   \n",
              "4 2017-01-06  RELIANCE     EQ     1077.40  1074.20  1085.0  1073.10  1073.95   \n",
              "\n",
              "     Close  First_Difference_Open  \n",
              "0  1085.10                    NaN  \n",
              "1  1089.40                   5.85  \n",
              "2  1067.15                   3.05  \n",
              "3  1077.40                 -21.90  \n",
              "4  1074.95                   3.20  "
            ]
          },
          "metadata": {},
          "execution_count": 54
        }
      ]
    },
    {
      "cell_type": "code",
      "source": [
        "adf_test(df1['First_Difference_Open'].dropna())"
      ],
      "metadata": {
        "colab": {
          "base_uri": "https://localhost:8080/"
        },
        "id": "SzKXh31MlIqQ",
        "outputId": "46491bfb-b97a-4728-c2c5-f14fca32c02f"
      },
      "execution_count": 55,
      "outputs": [
        {
          "output_type": "stream",
          "name": "stdout",
          "text": [
            "ADF Statistics: -34.812843463641265\n",
            "p- value: 0.0\n",
            "strong evidence against the null hypothesis, reject the null hypothesis. Data has no unit root and is stationary\n"
          ]
        }
      ]
    },
    {
      "cell_type": "code",
      "source": [
        "df1['First_Difference_Open'].plot()"
      ],
      "metadata": {
        "colab": {
          "base_uri": "https://localhost:8080/",
          "height": 282
        },
        "id": "dCAf5dAxF1KQ",
        "outputId": "0b9fe647-47d2-4176-e489-bb4eea04cf01"
      },
      "execution_count": 56,
      "outputs": [
        {
          "output_type": "execute_result",
          "data": {
            "text/plain": [
              "<matplotlib.axes._subplots.AxesSubplot at 0x7fb45d5d7590>"
            ]
          },
          "metadata": {},
          "execution_count": 56
        },
        {
          "output_type": "display_data",
          "data": {
            "image/png": "[encoded data removed]",
            "text/plain": [
              "<Figure size 432x288 with 1 Axes>"
            ]
          },
          "metadata": {
            "needs_background": "light"
          }
        }
      ]
    },
    {
      "cell_type": "code",
      "source": [
        "### 12 days \n",
        "## Use Techniques Differencing\n",
        "df1['12_Difference_open']=df1['Open']-df1['Open'].shift(12)"
      ],
      "metadata": {
        "id": "56PejG55m8uU"
      },
      "execution_count": 57,
      "outputs": []
    },
    {
      "cell_type": "code",
      "source": [
        "adf_test(df1['12_Difference_open'].dropna())"
      ],
      "metadata": {
        "colab": {
          "base_uri": "https://localhost:8080/"
        },
        "id": "LqbKnZtHnlKy",
        "outputId": "92a8d915-adae-4919-cb7d-f4d49705cb3f"
      },
      "execution_count": 58,
      "outputs": [
        {
          "output_type": "stream",
          "name": "stdout",
          "text": [
            "ADF Statistics: -7.135802668562633\n",
            "p- value: 3.423720253932684e-10\n",
            "strong evidence against the null hypothesis, reject the null hypothesis. Data has no unit root and is stationary\n"
          ]
        }
      ]
    },
    {
      "cell_type": "code",
      "source": [
        "df1['12_Difference_open'].plot()"
      ],
      "metadata": {
        "colab": {
          "base_uri": "https://localhost:8080/",
          "height": 282
        },
        "id": "zAUPNmqVF8cy",
        "outputId": "8ce29957-94d0-48c7-c6c2-cc37825d464f"
      },
      "execution_count": 59,
      "outputs": [
        {
          "output_type": "execute_result",
          "data": {
            "text/plain": [
              "<matplotlib.axes._subplots.AxesSubplot at 0x7fb45cf9b050>"
            ]
          },
          "metadata": {},
          "execution_count": 59
        },
        {
          "output_type": "display_data",
          "data": {
            "image/png": "[encoded data removed]",
            "text/plain": [
              "<Figure size 432x288 with 1 Axes>"
            ]
          },
          "metadata": {
            "needs_background": "light"
          }
        }
      ]
    },
    {
      "cell_type": "code",
      "source": [
        "from statsmodels.graphics.tsaplots import plot_acf,plot_pacf"
      ],
      "metadata": {
        "id": "jFaCS9BUnumv"
      },
      "execution_count": 60,
      "outputs": []
    },
    {
      "cell_type": "code",
      "source": [
        "acf = plot_acf(df1[\"First_Difference_Open\"].dropna())\n",
        "pacf = plot_pacf(df1[\"First_Difference_Open\"].dropna())"
      ],
      "metadata": {
        "colab": {
          "base_uri": "https://localhost:8080/",
          "height": 600
        },
        "id": "7NtwJ27nnzeC",
        "outputId": "c2934b6b-d5e9-43fb-8e6b-a0b0dd486273"
      },
      "execution_count": 62,
      "outputs": [
        {
          "output_type": "stream",
          "name": "stderr",
          "text": [
            "/usr/local/lib/python3.7/dist-packages/statsmodels/graphics/tsaplots.py:353: FutureWarning: The default method 'yw' can produce PACF values outside of the [-1,1] interval. After 0.13, the default will change tounadjusted Yule-Walker ('ywm'). You can use this method now by setting method='ywm'.\n",
            "  FutureWarning,\n"
          ]
        },
        {
          "output_type": "display_data",
          "data": {
            "image/png": "[encoded data removed]",
            "text/plain": [
              "<Figure size 432x288 with 1 Axes>"
            ]
          },
          "metadata": {
            "needs_background": "light"
          }
        },
        {
          "output_type": "display_data",
          "data": {
            "image/png": "[encoded data removed]",
            "text/plain": [
              "<Figure size 432x288 with 1 Axes>"
            ]
          },
          "metadata": {
            "needs_background": "light"
          }
        }
      ]
    },
    {
      "cell_type": "code",
      "source": [
        "acf12 = plot_acf(df1[\"12_Difference_open\"].dropna())\n",
        "pacf12 = plot_pacf(df1[\"12_Difference_open\"].dropna())"
      ],
      "metadata": {
        "colab": {
          "base_uri": "https://localhost:8080/",
          "height": 600
        },
        "id": "2KjQ24FUn9kp",
        "outputId": "39a56b74-6fa4-4330-c726-8ccf86b3bde7"
      },
      "execution_count": 63,
      "outputs": [
        {
          "output_type": "stream",
          "name": "stderr",
          "text": [
            "/usr/local/lib/python3.7/dist-packages/statsmodels/graphics/tsaplots.py:353: FutureWarning: The default method 'yw' can produce PACF values outside of the [-1,1] interval. After 0.13, the default will change tounadjusted Yule-Walker ('ywm'). You can use this method now by setting method='ywm'.\n",
            "  FutureWarning,\n"
          ]
        },
        {
          "output_type": "display_data",
          "data": {
            "image/png": "[encoded data removed]",
            "text/plain": [
              "<Figure size 432x288 with 1 Axes>"
            ]
          },
          "metadata": {
            "needs_background": "light"
          }
        },
        {
          "output_type": "display_data",
          "data": {
            "image/png": "[encoded data removed]",
            "text/plain": [
              "<Figure size 432x288 with 1 Axes>"
            ]
          },
          "metadata": {
            "needs_background": "light"
          }
        }
      ]
    },
    {
      "cell_type": "code",
      "source": [
        "import numpy as np\n",
        "import matplotlib.pyplot as plt\n",
        "%matplotlib inline\n",
        "import seaborn as sns"
      ],
      "metadata": {
        "id": "YOlwnw8LyAOu"
      },
      "execution_count": 64,
      "outputs": []
    },
    {
      "cell_type": "code",
      "source": [
        "df1.head()"
      ],
      "metadata": {
        "colab": {
          "base_uri": "https://localhost:8080/",
          "height": 354
        },
        "id": "MtAhBgYg-FVf",
        "outputId": "e72e8dcb-d1ef-481d-9aba-3e6e1199501a"
      },
      "execution_count": 65,
      "outputs": [
        {
          "output_type": "execute_result",
          "data": {
            "text/html": [
              "\n",
              "  <div id=\"df-f9820744-a9df-480b-bf1b-b6457f129ffd\">\n",
              "    <div class=\"colab-df-container\">\n",
              "      <div>\n",
              "<style scoped>\n",
              "    .dataframe tbody tr th:only-of-type {\n",
              "        vertical-align: middle;\n",
              "    }\n",
              "\n",
              "    .dataframe tbody tr th {\n",
              "        vertical-align: top;\n",
              "    }\n",
              "\n",
              "    .dataframe thead th {\n",
              "        text-align: right;\n",
              "    }\n",
              "</style>\n",
              "<table border=\"1\" class=\"dataframe\">\n",
              "  <thead>\n",
              "    <tr style=\"text-align: right;\">\n",
              "      <th></th>\n",
              "      <th>Date</th>\n",
              "      <th>Symbol</th>\n",
              "      <th>Series</th>\n",
              "      <th>Prev Close</th>\n",
              "      <th>Open</th>\n",
              "      <th>High</th>\n",
              "      <th>Low</th>\n",
              "      <th>Last</th>\n",
              "      <th>Close</th>\n",
              "      <th>First_Difference_Open</th>\n",
              "      <th>12_Difference_open</th>\n",
              "    </tr>\n",
              "  </thead>\n",
              "  <tbody>\n",
              "    <tr>\n",
              "      <th>0</th>\n",
              "      <td>2017-01-02</td>\n",
              "      <td>RELIANCE</td>\n",
              "      <td>EQ</td>\n",
              "      <td>1082.40</td>\n",
              "      <td>1084.00</td>\n",
              "      <td>1090.0</td>\n",
              "      <td>1072.35</td>\n",
              "      <td>1086.70</td>\n",
              "      <td>1085.10</td>\n",
              "      <td>NaN</td>\n",
              "      <td>NaN</td>\n",
              "    </tr>\n",
              "    <tr>\n",
              "      <th>1</th>\n",
              "      <td>2017-01-03</td>\n",
              "      <td>RELIANCE</td>\n",
              "      <td>EQ</td>\n",
              "      <td>1085.10</td>\n",
              "      <td>1089.85</td>\n",
              "      <td>1097.0</td>\n",
              "      <td>1081.10</td>\n",
              "      <td>1089.00</td>\n",
              "      <td>1089.40</td>\n",
              "      <td>5.85</td>\n",
              "      <td>NaN</td>\n",
              "    </tr>\n",
              "    <tr>\n",
              "      <th>2</th>\n",
              "      <td>2017-01-04</td>\n",
              "      <td>RELIANCE</td>\n",
              "      <td>EQ</td>\n",
              "      <td>1089.40</td>\n",
              "      <td>1092.90</td>\n",
              "      <td>1093.0</td>\n",
              "      <td>1064.30</td>\n",
              "      <td>1067.15</td>\n",
              "      <td>1067.15</td>\n",
              "      <td>3.05</td>\n",
              "      <td>NaN</td>\n",
              "    </tr>\n",
              "    <tr>\n",
              "      <th>3</th>\n",
              "      <td>2017-01-05</td>\n",
              "      <td>RELIANCE</td>\n",
              "      <td>EQ</td>\n",
              "      <td>1067.15</td>\n",
              "      <td>1071.00</td>\n",
              "      <td>1079.9</td>\n",
              "      <td>1068.75</td>\n",
              "      <td>1077.00</td>\n",
              "      <td>1077.40</td>\n",
              "      <td>-21.90</td>\n",
              "      <td>NaN</td>\n",
              "    </tr>\n",
              "    <tr>\n",
              "      <th>4</th>\n",
              "      <td>2017-01-06</td>\n",
              "      <td>RELIANCE</td>\n",
              "      <td>EQ</td>\n",
              "      <td>1077.40</td>\n",
              "      <td>1074.20</td>\n",
              "      <td>1085.0</td>\n",
              "      <td>1073.10</td>\n",
              "      <td>1073.95</td>\n",
              "      <td>1074.95</td>\n",
              "      <td>3.20</td>\n",
              "      <td>NaN</td>\n",
              "    </tr>\n",
              "  </tbody>\n",
              "</table>\n",
              "</div>\n",
              "      <button class=\"colab-df-convert\" onclick=\"convertToInteractive('df-f9820744-a9df-480b-bf1b-b6457f129ffd')\"\n",
              "              title=\"Convert this dataframe to an interactive table.\"\n",
              "              style=\"display:none;\">\n",
              "        \n",
              "  <svg xmlns=\"http://www.w3.org/2000/svg\" height=\"24px\"viewBox=\"0 0 24 24\"\n",
              "       width=\"24px\">\n",
              "    <path d=\"M0 0h24v24H0V0z\" fill=\"none\"/>\n",
              "    <path d=\"M18.56 5.44l.94 2.06.94-2.06 2.06-.94-2.06-.94-.94-2.06-.94 2.06-2.06.94zm-11 1L8.5 8.5l.94-2.06 2.06-.94-2.06-.94L8.5 2.5l-.94 2.06-2.06.94zm10 10l.94 2.06.94-2.06 2.06-.94-2.06-.94-.94-2.06-.94 2.06-2.06.94z\"/><path d=\"M17.41 7.96l-1.37-1.37c-.4-.4-.92-.59-1.43-.59-.52 0-1.04.2-1.43.59L10.3 9.45l-7.72 7.72c-.78.78-.78 2.05 0 2.83L4 21.41c.39.39.9.59 1.41.59.51 0 1.02-.2 1.41-.59l7.78-7.78 2.81-2.81c.8-.78.8-2.07 0-2.86zM5.41 20L4 18.59l7.72-7.72 1.47 1.35L5.41 20z\"/>\n",
              "  </svg>\n",
              "      </button>\n",
              "      \n",
              "  <style>\n",
              "    .colab-df-container {\n",
              "      display:flex;\n",
              "      flex-wrap:wrap;\n",
              "      gap: 12px;\n",
              "    }\n",
              "\n",
              "    .colab-df-convert {\n",
              "      background-color: #E8F0FE;\n",
              "      border: none;\n",
              "      border-radius: 50%;\n",
              "      cursor: pointer;\n",
              "      display: none;\n",
              "      fill: #1967D2;\n",
              "      height: 32px;\n",
              "      padding: 0 0 0 0;\n",
              "      width: 32px;\n",
              "    }\n",
              "\n",
              "    .colab-df-convert:hover {\n",
              "      background-color: #E2EBFA;\n",
              "      box-shadow: 0px 1px 2px rgba(60, 64, 67, 0.3), 0px 1px 3px 1px rgba(60, 64, 67, 0.15);\n",
              "      fill: #174EA6;\n",
              "    }\n",
              "\n",
              "    [theme=dark] .colab-df-convert {\n",
              "      background-color: #3B4455;\n",
              "      fill: #D2E3FC;\n",
              "    }\n",
              "\n",
              "    [theme=dark] .colab-df-convert:hover {\n",
              "      background-color: #434B5C;\n",
              "      box-shadow: 0px 1px 3px 1px rgba(0, 0, 0, 0.15);\n",
              "      filter: drop-shadow(0px 1px 2px rgba(0, 0, 0, 0.3));\n",
              "      fill: #FFFFFF;\n",
              "    }\n",
              "  </style>\n",
              "\n",
              "      <script>\n",
              "        const buttonEl =\n",
              "          document.querySelector('#df-f9820744-a9df-480b-bf1b-b6457f129ffd button.colab-df-convert');\n",
              "        buttonEl.style.display =\n",
              "          google.colab.kernel.accessAllowed ? 'block' : 'none';\n",
              "\n",
              "        async function convertToInteractive(key) {\n",
              "          const element = document.querySelector('#df-f9820744-a9df-480b-bf1b-b6457f129ffd');\n",
              "          const dataTable =\n",
              "            await google.colab.kernel.invokeFunction('convertToInteractive',\n",
              "                                                     [key], {});\n",
              "          if (!dataTable) return;\n",
              "\n",
              "          const docLinkHtml = 'Like what you see? Visit the ' +\n",
              "            '<a target=\"_blank\" href=https://colab.research.google.com/notebooks/data_table.ipynb>data table notebook</a>'\n",
              "            + ' to learn more about interactive tables.';\n",
              "          element.innerHTML = '';\n",
              "          dataTable['output_type'] = 'display_data';\n",
              "          await google.colab.output.renderOutput(dataTable, element);\n",
              "          const docLink = document.createElement('div');\n",
              "          docLink.innerHTML = docLinkHtml;\n",
              "          element.appendChild(docLink);\n",
              "        }\n",
              "      </script>\n",
              "    </div>\n",
              "  </div>\n",
              "  "
            ],
            "text/plain": [
              "        Date    Symbol Series  Prev Close     Open    High      Low     Last  \\\n",
              "0 2017-01-02  RELIANCE     EQ     1082.40  1084.00  1090.0  1072.35  1086.70   \n",
              "1 2017-01-03  RELIANCE     EQ     1085.10  1089.85  1097.0  1081.10  1089.00   \n",
              "2 2017-01-04  RELIANCE     EQ     1089.40  1092.90  1093.0  1064.30  1067.15   \n",
              "3 2017-01-05  RELIANCE     EQ     1067.15  1071.00  1079.9  1068.75  1077.00   \n",
              "4 2017-01-06  RELIANCE     EQ     1077.40  1074.20  1085.0  1073.10  1073.95   \n",
              "\n",
              "     Close  First_Difference_Open  12_Difference_open  \n",
              "0  1085.10                    NaN                 NaN  \n",
              "1  1089.40                   5.85                 NaN  \n",
              "2  1067.15                   3.05                 NaN  \n",
              "3  1077.40                 -21.90                 NaN  \n",
              "4  1074.95                   3.20                 NaN  "
            ]
          },
          "metadata": {},
          "execution_count": 65
        }
      ]
    },
    {
      "cell_type": "code",
      "source": [
        "df1.drop(columns=['Symbol','Series','Prev Close','High','Low','Last','Close'],axis=1,inplace=True)"
      ],
      "metadata": {
        "id": "hdQxtiIjxrxl"
      },
      "execution_count": 67,
      "outputs": []
    },
    {
      "cell_type": "code",
      "source": [
        "df1"
      ],
      "metadata": {
        "colab": {
          "base_uri": "https://localhost:8080/",
          "height": 424
        },
        "id": "vQWiz_y5yYzh",
        "outputId": "259ff53e-3d1d-4d65-bbe3-901f78952d57"
      },
      "execution_count": 68,
      "outputs": [
        {
          "output_type": "execute_result",
          "data": {
            "text/html": [
              "\n",
              "  <div id=\"df-ec3ac10e-118d-412f-889e-eaea0db3e6af\">\n",
              "    <div class=\"colab-df-container\">\n",
              "      <div>\n",
              "<style scoped>\n",
              "    .dataframe tbody tr th:only-of-type {\n",
              "        vertical-align: middle;\n",
              "    }\n",
              "\n",
              "    .dataframe tbody tr th {\n",
              "        vertical-align: top;\n",
              "    }\n",
              "\n",
              "    .dataframe thead th {\n",
              "        text-align: right;\n",
              "    }\n",
              "</style>\n",
              "<table border=\"1\" class=\"dataframe\">\n",
              "  <thead>\n",
              "    <tr style=\"text-align: right;\">\n",
              "      <th></th>\n",
              "      <th>Date</th>\n",
              "      <th>Open</th>\n",
              "      <th>First_Difference_Open</th>\n",
              "      <th>12_Difference_open</th>\n",
              "    </tr>\n",
              "  </thead>\n",
              "  <tbody>\n",
              "    <tr>\n",
              "      <th>0</th>\n",
              "      <td>2017-01-02</td>\n",
              "      <td>1084.00</td>\n",
              "      <td>NaN</td>\n",
              "      <td>NaN</td>\n",
              "    </tr>\n",
              "    <tr>\n",
              "      <th>1</th>\n",
              "      <td>2017-01-03</td>\n",
              "      <td>1089.85</td>\n",
              "      <td>5.85</td>\n",
              "      <td>NaN</td>\n",
              "    </tr>\n",
              "    <tr>\n",
              "      <th>2</th>\n",
              "      <td>2017-01-04</td>\n",
              "      <td>1092.90</td>\n",
              "      <td>3.05</td>\n",
              "      <td>NaN</td>\n",
              "    </tr>\n",
              "    <tr>\n",
              "      <th>3</th>\n",
              "      <td>2017-01-05</td>\n",
              "      <td>1071.00</td>\n",
              "      <td>-21.90</td>\n",
              "      <td>NaN</td>\n",
              "    </tr>\n",
              "    <tr>\n",
              "      <th>4</th>\n",
              "      <td>2017-01-06</td>\n",
              "      <td>1074.20</td>\n",
              "      <td>3.20</td>\n",
              "      <td>NaN</td>\n",
              "    </tr>\n",
              "    <tr>\n",
              "      <th>...</th>\n",
              "      <td>...</td>\n",
              "      <td>...</td>\n",
              "      <td>...</td>\n",
              "      <td>...</td>\n",
              "    </tr>\n",
              "    <tr>\n",
              "      <th>1279</th>\n",
              "      <td>2022-03-02</td>\n",
              "      <td>2334.45</td>\n",
              "      <td>91.45</td>\n",
              "      <td>-38.80</td>\n",
              "    </tr>\n",
              "    <tr>\n",
              "      <th>1280</th>\n",
              "      <td>2022-03-03</td>\n",
              "      <td>2400.00</td>\n",
              "      <td>65.55</td>\n",
              "      <td>59.75</td>\n",
              "    </tr>\n",
              "    <tr>\n",
              "      <th>1281</th>\n",
              "      <td>2022-03-04</td>\n",
              "      <td>2353.00</td>\n",
              "      <td>-47.00</td>\n",
              "      <td>1.80</td>\n",
              "    </tr>\n",
              "    <tr>\n",
              "      <th>1282</th>\n",
              "      <td>2022-03-07</td>\n",
              "      <td>2278.70</td>\n",
              "      <td>-74.30</td>\n",
              "      <td>-151.30</td>\n",
              "    </tr>\n",
              "    <tr>\n",
              "      <th>1283</th>\n",
              "      <td>2022-03-08</td>\n",
              "      <td>2211.50</td>\n",
              "      <td>-67.20</td>\n",
              "      <td>-208.60</td>\n",
              "    </tr>\n",
              "  </tbody>\n",
              "</table>\n",
              "<p>1284 rows × 4 columns</p>\n",
              "</div>\n",
              "      <button class=\"colab-df-convert\" onclick=\"convertToInteractive('df-ec3ac10e-118d-412f-889e-eaea0db3e6af')\"\n",
              "              title=\"Convert this dataframe to an interactive table.\"\n",
              "              style=\"display:none;\">\n",
              "        \n",
              "  <svg xmlns=\"http://www.w3.org/2000/svg\" height=\"24px\"viewBox=\"0 0 24 24\"\n",
              "       width=\"24px\">\n",
              "    <path d=\"M0 0h24v24H0V0z\" fill=\"none\"/>\n",
              "    <path d=\"M18.56 5.44l.94 2.06.94-2.06 2.06-.94-2.06-.94-.94-2.06-.94 2.06-2.06.94zm-11 1L8.5 8.5l.94-2.06 2.06-.94-2.06-.94L8.5 2.5l-.94 2.06-2.06.94zm10 10l.94 2.06.94-2.06 2.06-.94-2.06-.94-.94-2.06-.94 2.06-2.06.94z\"/><path d=\"M17.41 7.96l-1.37-1.37c-.4-.4-.92-.59-1.43-.59-.52 0-1.04.2-1.43.59L10.3 9.45l-7.72 7.72c-.78.78-.78 2.05 0 2.83L4 21.41c.39.39.9.59 1.41.59.51 0 1.02-.2 1.41-.59l7.78-7.78 2.81-2.81c.8-.78.8-2.07 0-2.86zM5.41 20L4 18.59l7.72-7.72 1.47 1.35L5.41 20z\"/>\n",
              "  </svg>\n",
              "      </button>\n",
              "      \n",
              "  <style>\n",
              "    .colab-df-container {\n",
              "      display:flex;\n",
              "      flex-wrap:wrap;\n",
              "      gap: 12px;\n",
              "    }\n",
              "\n",
              "    .colab-df-convert {\n",
              "      background-color: #E8F0FE;\n",
              "      border: none;\n",
              "      border-radius: 50%;\n",
              "      cursor: pointer;\n",
              "      display: none;\n",
              "      fill: #1967D2;\n",
              "      height: 32px;\n",
              "      padding: 0 0 0 0;\n",
              "      width: 32px;\n",
              "    }\n",
              "\n",
              "    .colab-df-convert:hover {\n",
              "      background-color: #E2EBFA;\n",
              "      box-shadow: 0px 1px 2px rgba(60, 64, 67, 0.3), 0px 1px 3px 1px rgba(60, 64, 67, 0.15);\n",
              "      fill: #174EA6;\n",
              "    }\n",
              "\n",
              "    [theme=dark] .colab-df-convert {\n",
              "      background-color: #3B4455;\n",
              "      fill: #D2E3FC;\n",
              "    }\n",
              "\n",
              "    [theme=dark] .colab-df-convert:hover {\n",
              "      background-color: #434B5C;\n",
              "      box-shadow: 0px 1px 3px 1px rgba(0, 0, 0, 0.15);\n",
              "      filter: drop-shadow(0px 1px 2px rgba(0, 0, 0, 0.3));\n",
              "      fill: #FFFFFF;\n",
              "    }\n",
              "  </style>\n",
              "\n",
              "      <script>\n",
              "        const buttonEl =\n",
              "          document.querySelector('#df-ec3ac10e-118d-412f-889e-eaea0db3e6af button.colab-df-convert');\n",
              "        buttonEl.style.display =\n",
              "          google.colab.kernel.accessAllowed ? 'block' : 'none';\n",
              "\n",
              "        async function convertToInteractive(key) {\n",
              "          const element = document.querySelector('#df-ec3ac10e-118d-412f-889e-eaea0db3e6af');\n",
              "          const dataTable =\n",
              "            await google.colab.kernel.invokeFunction('convertToInteractive',\n",
              "                                                     [key], {});\n",
              "          if (!dataTable) return;\n",
              "\n",
              "          const docLinkHtml = 'Like what you see? Visit the ' +\n",
              "            '<a target=\"_blank\" href=https://colab.research.google.com/notebooks/data_table.ipynb>data table notebook</a>'\n",
              "            + ' to learn more about interactive tables.';\n",
              "          element.innerHTML = '';\n",
              "          dataTable['output_type'] = 'display_data';\n",
              "          await google.colab.output.renderOutput(dataTable, element);\n",
              "          const docLink = document.createElement('div');\n",
              "          docLink.innerHTML = docLinkHtml;\n",
              "          element.appendChild(docLink);\n",
              "        }\n",
              "      </script>\n",
              "    </div>\n",
              "  </div>\n",
              "  "
            ],
            "text/plain": [
              "           Date     Open  First_Difference_Open  12_Difference_open\n",
              "0    2017-01-02  1084.00                    NaN                 NaN\n",
              "1    2017-01-03  1089.85                   5.85                 NaN\n",
              "2    2017-01-04  1092.90                   3.05                 NaN\n",
              "3    2017-01-05  1071.00                 -21.90                 NaN\n",
              "4    2017-01-06  1074.20                   3.20                 NaN\n",
              "...         ...      ...                    ...                 ...\n",
              "1279 2022-03-02  2334.45                  91.45              -38.80\n",
              "1280 2022-03-03  2400.00                  65.55               59.75\n",
              "1281 2022-03-04  2353.00                 -47.00                1.80\n",
              "1282 2022-03-07  2278.70                 -74.30             -151.30\n",
              "1283 2022-03-08  2211.50                 -67.20             -208.60\n",
              "\n",
              "[1284 rows x 4 columns]"
            ]
          },
          "metadata": {},
          "execution_count": 68
        }
      ]
    },
    {
      "cell_type": "code",
      "source": [
        "train_data=df1[:1000]\n",
        "test_data=df1[1000:]\n",
        "plt.plot(train_data.Open)\n",
        "plt.plot(test_data.Open)\n",
        "#train_data=df1[:datetime(2021,6,28)]\n",
        "#test_data=df1[train_dataset_end+timedelta(days=1):test_dataset_end]"
      ],
      "metadata": {
        "id": "eAvmZtLwszjm",
        "colab": {
          "base_uri": "https://localhost:8080/",
          "height": 282
        },
        "outputId": "bfb16b0e-abff-4241-fbaa-ec2a589f4228"
      },
      "execution_count": 69,
      "outputs": [
        {
          "output_type": "execute_result",
          "data": {
            "text/plain": [
              "[<matplotlib.lines.Line2D at 0x7fb45acf8dd0>]"
            ]
          },
          "metadata": {},
          "execution_count": 69
        },
        {
          "output_type": "display_data",
          "data": {
            "image/png": "[encoded data removed]",
            "text/plain": [
              "<Figure size 432x288 with 1 Axes>"
            ]
          },
          "metadata": {
            "needs_background": "light"
          }
        }
      ]
    },
    {
      "cell_type": "markdown",
      "source": [
        "# AUTO-ARIMA"
      ],
      "metadata": {
        "id": "HCjJqhFB0285"
      }
    },
    {
      "cell_type": "code",
      "source": [
        "#! pip install pmdarima"
      ],
      "metadata": {
        "id": "kftq0p6m0zCl"
      },
      "execution_count": 70,
      "outputs": []
    },
    {
      "cell_type": "code",
      "source": [
        "from pmdarima.arima import auto_arima"
      ],
      "metadata": {
        "id": "HXu-GxfQ0y1p"
      },
      "execution_count": 71,
      "outputs": []
    },
    {
      "cell_type": "code",
      "source": [
        "arima_model = auto_arima(train_data.Open,start_p=0,d=1,start_q=0,max_p=5,start_Q=0,max_P=5,max_D=5,max_Q=5,m=12,seasonal=True,error_action='warn',trace=True,supress_warnings=True,stepwise=True,random_state=20,n_fits=50)"
      ],
      "metadata": {
        "colab": {
          "base_uri": "https://localhost:8080/"
        },
        "id": "pjOq9oCP0ym8",
        "outputId": "aaf284d7-51af-4024-c9e7-495ee6d78fae"
      },
      "execution_count": 72,
      "outputs": [
        {
          "output_type": "stream",
          "name": "stdout",
          "text": [
            "Performing stepwise search to minimize aic\n",
            " ARIMA(0,1,0)(1,0,0)[12] intercept   : AIC=10092.911, Time=0.50 sec\n",
            " ARIMA(0,1,0)(0,0,0)[12] intercept   : AIC=10091.272, Time=0.10 sec\n",
            " ARIMA(1,1,0)(1,0,0)[12] intercept   : AIC=10094.154, Time=1.03 sec\n",
            " ARIMA(0,1,1)(0,0,1)[12] intercept   : AIC=10094.135, Time=1.71 sec\n",
            " ARIMA(0,1,0)(0,0,0)[12]             : AIC=10089.817, Time=0.06 sec\n",
            " ARIMA(0,1,0)(0,0,1)[12] intercept   : AIC=10092.922, Time=0.65 sec\n",
            " ARIMA(0,1,0)(1,0,1)[12] intercept   : AIC=10094.858, Time=2.38 sec\n",
            " ARIMA(1,1,0)(0,0,0)[12] intercept   : AIC=10092.473, Time=0.09 sec\n",
            " ARIMA(0,1,1)(0,0,0)[12] intercept   : AIC=10092.442, Time=0.27 sec\n",
            " ARIMA(1,1,1)(0,0,0)[12] intercept   : AIC=10094.330, Time=0.40 sec\n",
            "\n",
            "Best model:  ARIMA(0,1,0)(0,0,0)[12]          \n",
            "Total fit time: 7.260 seconds\n"
          ]
        }
      ]
    },
    {
      "cell_type": "code",
      "source": [
        "## create a ARIMA model\n",
        "#from statsmodels.tsa.arima_model import ARIMA"
      ],
      "metadata": {
        "id": "Y0cwXuD8ujGG"
      },
      "execution_count": 5,
      "outputs": []
    },
    {
      "cell_type": "markdown",
      "source": [
        "# ARIMA Model"
      ],
      "metadata": {
        "id": "bA405K95-1to"
      }
    },
    {
      "cell_type": "code",
      "source": [
        "#import arima model\n",
        "import statsmodels.tsa.arima.model as stats"
      ],
      "metadata": {
        "id": "kgpRieMTSklb"
      },
      "execution_count": 73,
      "outputs": []
    },
    {
      "cell_type": "code",
      "source": [
        "from sklearn.metrics import mean_squared_error"
      ],
      "metadata": {
        "id": "6eKFDlqmTlIb"
      },
      "execution_count": 74,
      "outputs": []
    },
    {
      "cell_type": "code",
      "source": [
        "#model_ARIMA=ARIMA(train_data['Open'],order=(9,1,9)) - straight line\n",
        "#model_ARIMA=ARIMA(train_data['Open'],order=(9,0,5)) - right down\n",
        "#model_ARIMA=ARIMA(train_data['Open'],order=(2,0,5)) - right down\n",
        "#model_ARIMA=ARIMA(train_data['Open'],order=(9,0,0)) - right down\n",
        "#model_ARIMA=ARIMA(train_data['Open'],order=(3,0,3)) - right down\n",
        "#model_ARIMA=ARIMA(train_data['Open'],order=(3,0,3)) - right down\n",
        "model_ARIMA=stats.ARIMA(train_data['Open'],order=(0,1,0),trend=\"t\") # Best model as per Auto_ARIMA\n",
        "#model_ARIMA=ARIMA(train_data['Open'],order=(5,0,4)) - right down\n",
        "#model_ARIMA=ARIMA(train_data['Open'],order=(12,0,17)) - straight 2000 line\n",
        "#model_ARIMA=ARIMA(train_data['Open'],order=(3,0,17)) - right down\n",
        "#model_ARIMA=ARIMA(train_data['Open'],order=(1,0,0))\n",
        "#model_ARIMA=ARIMA(train_data['Open'],order=(17,0,3)) # straight line 1900"
      ],
      "metadata": {
        "id": "UZmzZUHyvSYc"
      },
      "execution_count": 75,
      "outputs": []
    },
    {
      "cell_type": "code",
      "source": [
        "model_Arima_fit=model_ARIMA.fit()"
      ],
      "metadata": {
        "id": "i7WbclvvvYyU"
      },
      "execution_count": 76,
      "outputs": []
    },
    {
      "cell_type": "code",
      "source": [
        "model_Arima_fit.summary()"
      ],
      "metadata": {
        "colab": {
          "base_uri": "https://localhost:8080/",
          "height": 409
        },
        "id": "X7TmhskEvctP",
        "outputId": "7393867d-afd9-41fc-b7e2-02844145e087"
      },
      "execution_count": 77,
      "outputs": [
        {
          "output_type": "execute_result",
          "data": {
            "text/html": [
              "<table class=\"simpletable\">\n",
              "<caption>SARIMAX Results</caption>\n",
              "<tr>\n",
              "  <th>Dep. Variable:</th>         <td>Open</td>       <th>  No. Observations:  </th>   <td>1000</td>   \n",
              "</tr>\n",
              "<tr>\n",
              "  <th>Model:</th>            <td>ARIMA(0, 1, 0)</td>  <th>  Log Likelihood     </th> <td>-5043.636</td>\n",
              "</tr>\n",
              "<tr>\n",
              "  <th>Date:</th>            <td>Thu, 10 Mar 2022</td> <th>  AIC                </th> <td>10091.272</td>\n",
              "</tr>\n",
              "<tr>\n",
              "  <th>Time:</th>                <td>13:19:21</td>     <th>  BIC                </th> <td>10101.085</td>\n",
              "</tr>\n",
              "<tr>\n",
              "  <th>Sample:</th>                  <td>0</td>        <th>  HQIC               </th> <td>10095.002</td>\n",
              "</tr>\n",
              "<tr>\n",
              "  <th></th>                      <td> - 1000</td>     <th>                     </th>     <td> </td>    \n",
              "</tr>\n",
              "<tr>\n",
              "  <th>Covariance Type:</th>        <td>opg</td>       <th>                     </th>     <td> </td>    \n",
              "</tr>\n",
              "</table>\n",
              "<table class=\"simpletable\">\n",
              "<tr>\n",
              "     <td></td>       <th>coef</th>     <th>std err</th>      <th>z</th>      <th>P>|z|</th>  <th>[0.025</th>    <th>0.975]</th>  \n",
              "</tr>\n",
              "<tr>\n",
              "  <th>x1</th>     <td>    0.8804</td> <td>    1.587</td> <td>    0.555</td> <td> 0.579</td> <td>   -2.230</td> <td>    3.991</td>\n",
              "</tr>\n",
              "<tr>\n",
              "  <th>sigma2</th> <td> 1421.5449</td> <td>    8.285</td> <td>  171.575</td> <td> 0.000</td> <td> 1405.306</td> <td> 1437.784</td>\n",
              "</tr>\n",
              "</table>\n",
              "<table class=\"simpletable\">\n",
              "<tr>\n",
              "  <th>Ljung-Box (L1) (Q):</th>     <td>0.80</td> <th>  Jarque-Bera (JB):  </th> <td>1791544.50</td>\n",
              "</tr>\n",
              "<tr>\n",
              "  <th>Prob(Q):</th>                <td>0.37</td> <th>  Prob(JB):          </th>    <td>0.00</td>   \n",
              "</tr>\n",
              "<tr>\n",
              "  <th>Heteroskedasticity (H):</th> <td>0.66</td> <th>  Skew:              </th>    <td>-9.52</td>  \n",
              "</tr>\n",
              "<tr>\n",
              "  <th>Prob(H) (two-sided):</th>    <td>0.00</td> <th>  Kurtosis:          </th>   <td>209.58</td>  \n",
              "</tr>\n",
              "</table><br/><br/>Warnings:<br/>[1] Covariance matrix calculated using the outer product of gradients (complex-step)."
            ],
            "text/plain": [
              "<class 'statsmodels.iolib.summary.Summary'>\n",
              "\"\"\"\n",
              "                               SARIMAX Results                                \n",
              "==============================================================================\n",
              "Dep. Variable:                   Open   No. Observations:                 1000\n",
              "Model:                 ARIMA(0, 1, 0)   Log Likelihood               -5043.636\n",
              "Date:                Thu, 10 Mar 2022   AIC                          10091.272\n",
              "Time:                        13:19:21   BIC                          10101.085\n",
              "Sample:                             0   HQIC                         10095.002\n",
              "                               - 1000                                         \n",
              "Covariance Type:                  opg                                         \n",
              "==============================================================================\n",
              "                 coef    std err          z      P>|z|      [0.025      0.975]\n",
              "------------------------------------------------------------------------------\n",
              "x1             0.8804      1.587      0.555      0.579      -2.230       3.991\n",
              "sigma2      1421.5449      8.285    171.575      0.000    1405.306    1437.784\n",
              "===================================================================================\n",
              "Ljung-Box (L1) (Q):                   0.80   Jarque-Bera (JB):           1791544.50\n",
              "Prob(Q):                              0.37   Prob(JB):                         0.00\n",
              "Heteroskedasticity (H):               0.66   Skew:                            -9.52\n",
              "Prob(H) (two-sided):                  0.00   Kurtosis:                       209.58\n",
              "===================================================================================\n",
              "\n",
              "Warnings:\n",
              "[1] Covariance matrix calculated using the outer product of gradients (complex-step).\n",
              "\"\"\""
            ]
          },
          "metadata": {},
          "execution_count": 77
        }
      ]
    },
    {
      "cell_type": "code",
      "source": [
        "### make prediction on test set\n",
        "start = len(test_data)\n",
        "end = len(train_data)+len(test_data)-1\n",
        "\n",
        "\n",
        "pred=model_Arima_fit.predict(start=start,end=end)\n",
        "residuals=test_data['Open']-pred"
      ],
      "metadata": {
        "id": "OlBlWJ-Pv21f"
      },
      "execution_count": 78,
      "outputs": []
    },
    {
      "cell_type": "code",
      "source": [
        "pred"
      ],
      "metadata": {
        "colab": {
          "base_uri": "https://localhost:8080/"
        },
        "id": "NefUsWxGv_aK",
        "outputId": "e324e2e8-9575-492c-dd7f-2b5ad253b54b"
      },
      "execution_count": 79,
      "outputs": [
        {
          "output_type": "execute_result",
          "data": {
            "text/plain": [
              "284      930.880425\n",
              "285      922.880425\n",
              "286      926.280425\n",
              "287      939.880425\n",
              "288      939.880425\n",
              "           ...     \n",
              "1279    2210.069114\n",
              "1280    2210.949540\n",
              "1281    2211.829965\n",
              "1282    2212.710390\n",
              "1283    2213.590816\n",
              "Name: predicted_mean, Length: 1000, dtype: float64"
            ]
          },
          "metadata": {},
          "execution_count": 79
        }
      ]
    },
    {
      "cell_type": "code",
      "source": [
        "residuals"
      ],
      "metadata": {
        "colab": {
          "base_uri": "https://localhost:8080/"
        },
        "id": "2ao1C5wiwBkh",
        "outputId": "5579a887-8d45-41dc-ed19-a7fe84648447"
      },
      "execution_count": 80,
      "outputs": [
        {
          "output_type": "execute_result",
          "data": {
            "text/plain": [
              "284            NaN\n",
              "285            NaN\n",
              "286            NaN\n",
              "287            NaN\n",
              "288            NaN\n",
              "           ...    \n",
              "1279    124.380886\n",
              "1280    189.050460\n",
              "1281    141.170035\n",
              "1282     65.989610\n",
              "1283     -2.090816\n",
              "Length: 1000, dtype: float64"
            ]
          },
          "metadata": {},
          "execution_count": 80
        }
      ]
    },
    {
      "cell_type": "code",
      "source": [
        "# Plot residual errors\n",
        "fig, ax = plt.subplots(1,2)\n",
        "residuals.plot(title=\"Residuals\", ax=ax[0])\n",
        "residuals.plot(kind='kde', title='Density', ax=ax[1])\n",
        "plt.show()"
      ],
      "metadata": {
        "colab": {
          "base_uri": "https://localhost:8080/",
          "height": 281
        },
        "id": "XBXXrZ_NIeO0",
        "outputId": "5ef842e5-4464-4bd4-8be4-7b96087d1a0d"
      },
      "execution_count": 81,
      "outputs": [
        {
          "output_type": "display_data",
          "data": {
            "image/png": "[encoded data removed]",
            "text/plain": [
              "<Figure size 432x288 with 2 Axes>"
            ]
          },
          "metadata": {
            "needs_background": "light"
          }
        }
      ]
    },
    {
      "cell_type": "code",
      "source": [
        "model_Arima_fit.resid.plot(kind='kde')"
      ],
      "metadata": {
        "colab": {
          "base_uri": "https://localhost:8080/",
          "height": 286
        },
        "id": "IbCr0vYswGyd",
        "outputId": "b4f63afa-4203-4a10-f58d-8452dc1817f4"
      },
      "execution_count": 82,
      "outputs": [
        {
          "output_type": "execute_result",
          "data": {
            "text/plain": [
              "<matplotlib.axes._subplots.AxesSubplot at 0x7fb4598cea90>"
            ]
          },
          "metadata": {},
          "execution_count": 82
        },
        {
          "output_type": "display_data",
          "data": {
            "image/png": "[encoded data removed]",
            "text/plain": [
              "<Figure size 432x288 with 1 Axes>"
            ]
          },
          "metadata": {
            "needs_background": "light"
          }
        }
      ]
    },
    {
      "cell_type": "code",
      "source": [
        "test_data['Predicted_ARIMA']=pred"
      ],
      "metadata": {
        "colab": {
          "base_uri": "https://localhost:8080/"
        },
        "id": "mfon6ZTswL17",
        "outputId": "c2c79056-2466-452b-9e4c-4f03b7716034"
      },
      "execution_count": 83,
      "outputs": [
        {
          "output_type": "stream",
          "name": "stderr",
          "text": [
            "/usr/local/lib/python3.7/dist-packages/ipykernel_launcher.py:1: SettingWithCopyWarning: \n",
            "A value is trying to be set on a copy of a slice from a DataFrame.\n",
            "Try using .loc[row_indexer,col_indexer] = value instead\n",
            "\n",
            "See the caveats in the documentation: https://pandas.pydata.org/pandas-docs/stable/user_guide/indexing.html#returning-a-view-versus-a-copy\n",
            "  \"\"\"Entry point for launching an IPython kernel.\n"
          ]
        }
      ]
    },
    {
      "cell_type": "code",
      "source": [
        "test_data[['Open','Predicted_ARIMA']].plot()\n",
        "test_data"
      ],
      "metadata": {
        "colab": {
          "base_uri": "https://localhost:8080/",
          "height": 672
        },
        "id": "v51SXX_pxjpd",
        "outputId": "afae90aa-a76f-4f7f-c2a6-e45b69aaa197"
      },
      "execution_count": 84,
      "outputs": [
        {
          "output_type": "execute_result",
          "data": {
            "text/html": [
              "\n",
              "  <div id=\"df-bd83bc7b-8915-42f6-a73e-12126007e022\">\n",
              "    <div class=\"colab-df-container\">\n",
              "      <div>\n",
              "<style scoped>\n",
              "    .dataframe tbody tr th:only-of-type {\n",
              "        vertical-align: middle;\n",
              "    }\n",
              "\n",
              "    .dataframe tbody tr th {\n",
              "        vertical-align: top;\n",
              "    }\n",
              "\n",
              "    .dataframe thead th {\n",
              "        text-align: right;\n",
              "    }\n",
              "</style>\n",
              "<table border=\"1\" class=\"dataframe\">\n",
              "  <thead>\n",
              "    <tr style=\"text-align: right;\">\n",
              "      <th></th>\n",
              "      <th>Date</th>\n",
              "      <th>Open</th>\n",
              "      <th>First_Difference_Open</th>\n",
              "      <th>12_Difference_open</th>\n",
              "      <th>Predicted_ARIMA</th>\n",
              "    </tr>\n",
              "  </thead>\n",
              "  <tbody>\n",
              "    <tr>\n",
              "      <th>1000</th>\n",
              "      <td>2021-01-14</td>\n",
              "      <td>1945.00</td>\n",
              "      <td>-18.55</td>\n",
              "      <td>-64.00</td>\n",
              "      <td>1964.430425</td>\n",
              "    </tr>\n",
              "    <tr>\n",
              "      <th>1001</th>\n",
              "      <td>2021-01-15</td>\n",
              "      <td>1960.60</td>\n",
              "      <td>15.60</td>\n",
              "      <td>-34.65</td>\n",
              "      <td>1965.310851</td>\n",
              "    </tr>\n",
              "    <tr>\n",
              "      <th>1002</th>\n",
              "      <td>2021-01-18</td>\n",
              "      <td>1949.10</td>\n",
              "      <td>-11.50</td>\n",
              "      <td>-44.40</td>\n",
              "      <td>1966.191276</td>\n",
              "    </tr>\n",
              "    <tr>\n",
              "      <th>1003</th>\n",
              "      <td>2021-01-19</td>\n",
              "      <td>1994.65</td>\n",
              "      <td>45.55</td>\n",
              "      <td>6.65</td>\n",
              "      <td>1967.071702</td>\n",
              "    </tr>\n",
              "    <tr>\n",
              "      <th>1004</th>\n",
              "      <td>2021-01-20</td>\n",
              "      <td>2021.40</td>\n",
              "      <td>26.75</td>\n",
              "      <td>26.30</td>\n",
              "      <td>1967.952127</td>\n",
              "    </tr>\n",
              "    <tr>\n",
              "      <th>...</th>\n",
              "      <td>...</td>\n",
              "      <td>...</td>\n",
              "      <td>...</td>\n",
              "      <td>...</td>\n",
              "      <td>...</td>\n",
              "    </tr>\n",
              "    <tr>\n",
              "      <th>1279</th>\n",
              "      <td>2022-03-02</td>\n",
              "      <td>2334.45</td>\n",
              "      <td>91.45</td>\n",
              "      <td>-38.80</td>\n",
              "      <td>2210.069114</td>\n",
              "    </tr>\n",
              "    <tr>\n",
              "      <th>1280</th>\n",
              "      <td>2022-03-03</td>\n",
              "      <td>2400.00</td>\n",
              "      <td>65.55</td>\n",
              "      <td>59.75</td>\n",
              "      <td>2210.949540</td>\n",
              "    </tr>\n",
              "    <tr>\n",
              "      <th>1281</th>\n",
              "      <td>2022-03-04</td>\n",
              "      <td>2353.00</td>\n",
              "      <td>-47.00</td>\n",
              "      <td>1.80</td>\n",
              "      <td>2211.829965</td>\n",
              "    </tr>\n",
              "    <tr>\n",
              "      <th>1282</th>\n",
              "      <td>2022-03-07</td>\n",
              "      <td>2278.70</td>\n",
              "      <td>-74.30</td>\n",
              "      <td>-151.30</td>\n",
              "      <td>2212.710390</td>\n",
              "    </tr>\n",
              "    <tr>\n",
              "      <th>1283</th>\n",
              "      <td>2022-03-08</td>\n",
              "      <td>2211.50</td>\n",
              "      <td>-67.20</td>\n",
              "      <td>-208.60</td>\n",
              "      <td>2213.590816</td>\n",
              "    </tr>\n",
              "  </tbody>\n",
              "</table>\n",
              "<p>284 rows × 5 columns</p>\n",
              "</div>\n",
              "      <button class=\"colab-df-convert\" onclick=\"convertToInteractive('df-bd83bc7b-8915-42f6-a73e-12126007e022')\"\n",
              "              title=\"Convert this dataframe to an interactive table.\"\n",
              "              style=\"display:none;\">\n",
              "        \n",
              "  <svg xmlns=\"http://www.w3.org/2000/svg\" height=\"24px\"viewBox=\"0 0 24 24\"\n",
              "       width=\"24px\">\n",
              "    <path d=\"M0 0h24v24H0V0z\" fill=\"none\"/>\n",
              "    <path d=\"M18.56 5.44l.94 2.06.94-2.06 2.06-.94-2.06-.94-.94-2.06-.94 2.06-2.06.94zm-11 1L8.5 8.5l.94-2.06 2.06-.94-2.06-.94L8.5 2.5l-.94 2.06-2.06.94zm10 10l.94 2.06.94-2.06 2.06-.94-2.06-.94-.94-2.06-.94 2.06-2.06.94z\"/><path d=\"M17.41 7.96l-1.37-1.37c-.4-.4-.92-.59-1.43-.59-.52 0-1.04.2-1.43.59L10.3 9.45l-7.72 7.72c-.78.78-.78 2.05 0 2.83L4 21.41c.39.39.9.59 1.41.59.51 0 1.02-.2 1.41-.59l7.78-7.78 2.81-2.81c.8-.78.8-2.07 0-2.86zM5.41 20L4 18.59l7.72-7.72 1.47 1.35L5.41 20z\"/>\n",
              "  </svg>\n",
              "      </button>\n",
              "      \n",
              "  <style>\n",
              "    .colab-df-container {\n",
              "      display:flex;\n",
              "      flex-wrap:wrap;\n",
              "      gap: 12px;\n",
              "    }\n",
              "\n",
              "    .colab-df-convert {\n",
              "      background-color: #E8F0FE;\n",
              "      border: none;\n",
              "      border-radius: 50%;\n",
              "      cursor: pointer;\n",
              "      display: none;\n",
              "      fill: #1967D2;\n",
              "      height: 32px;\n",
              "      padding: 0 0 0 0;\n",
              "      width: 32px;\n",
              "    }\n",
              "\n",
              "    .colab-df-convert:hover {\n",
              "      background-color: #E2EBFA;\n",
              "      box-shadow: 0px 1px 2px rgba(60, 64, 67, 0.3), 0px 1px 3px 1px rgba(60, 64, 67, 0.15);\n",
              "      fill: #174EA6;\n",
              "    }\n",
              "\n",
              "    [theme=dark] .colab-df-convert {\n",
              "      background-color: #3B4455;\n",
              "      fill: #D2E3FC;\n",
              "    }\n",
              "\n",
              "    [theme=dark] .colab-df-convert:hover {\n",
              "      background-color: #434B5C;\n",
              "      box-shadow: 0px 1px 3px 1px rgba(0, 0, 0, 0.15);\n",
              "      filter: drop-shadow(0px 1px 2px rgba(0, 0, 0, 0.3));\n",
              "      fill: #FFFFFF;\n",
              "    }\n",
              "  </style>\n",
              "\n",
              "      <script>\n",
              "        const buttonEl =\n",
              "          document.querySelector('#df-bd83bc7b-8915-42f6-a73e-12126007e022 button.colab-df-convert');\n",
              "        buttonEl.style.display =\n",
              "          google.colab.kernel.accessAllowed ? 'block' : 'none';\n",
              "\n",
              "        async function convertToInteractive(key) {\n",
              "          const element = document.querySelector('#df-bd83bc7b-8915-42f6-a73e-12126007e022');\n",
              "          const dataTable =\n",
              "            await google.colab.kernel.invokeFunction('convertToInteractive',\n",
              "                                                     [key], {});\n",
              "          if (!dataTable) return;\n",
              "\n",
              "          const docLinkHtml = 'Like what you see? Visit the ' +\n",
              "            '<a target=\"_blank\" href=https://colab.research.google.com/notebooks/data_table.ipynb>data table notebook</a>'\n",
              "            + ' to learn more about interactive tables.';\n",
              "          element.innerHTML = '';\n",
              "          dataTable['output_type'] = 'display_data';\n",
              "          await google.colab.output.renderOutput(dataTable, element);\n",
              "          const docLink = document.createElement('div');\n",
              "          docLink.innerHTML = docLinkHtml;\n",
              "          element.appendChild(docLink);\n",
              "        }\n",
              "      </script>\n",
              "    </div>\n",
              "  </div>\n",
              "  "
            ],
            "text/plain": [
              "           Date     Open  First_Difference_Open  12_Difference_open  \\\n",
              "1000 2021-01-14  1945.00                 -18.55              -64.00   \n",
              "1001 2021-01-15  1960.60                  15.60              -34.65   \n",
              "1002 2021-01-18  1949.10                 -11.50              -44.40   \n",
              "1003 2021-01-19  1994.65                  45.55                6.65   \n",
              "1004 2021-01-20  2021.40                  26.75               26.30   \n",
              "...         ...      ...                    ...                 ...   \n",
              "1279 2022-03-02  2334.45                  91.45              -38.80   \n",
              "1280 2022-03-03  2400.00                  65.55               59.75   \n",
              "1281 2022-03-04  2353.00                 -47.00                1.80   \n",
              "1282 2022-03-07  2278.70                 -74.30             -151.30   \n",
              "1283 2022-03-08  2211.50                 -67.20             -208.60   \n",
              "\n",
              "      Predicted_ARIMA  \n",
              "1000      1964.430425  \n",
              "1001      1965.310851  \n",
              "1002      1966.191276  \n",
              "1003      1967.071702  \n",
              "1004      1967.952127  \n",
              "...               ...  \n",
              "1279      2210.069114  \n",
              "1280      2210.949540  \n",
              "1281      2211.829965  \n",
              "1282      2212.710390  \n",
              "1283      2213.590816  \n",
              "\n",
              "[284 rows x 5 columns]"
            ]
          },
          "metadata": {},
          "execution_count": 84
        },
        {
          "output_type": "display_data",
          "data": {
            "image/png": "[encoded data removed]",
            "text/plain": [
              "<Figure size 432x288 with 1 Axes>"
            ]
          },
          "metadata": {
            "needs_background": "light"
          }
        }
      ]
    },
    {
      "cell_type": "code",
      "source": [
        "acf12 = plot_acf(df1[\"12_Difference_open\"].dropna())\n",
        "pacf12 = plot_pacf(df1[\"12_Difference_open\"].dropna())"
      ],
      "metadata": {
        "colab": {
          "base_uri": "https://localhost:8080/",
          "height": 600
        },
        "id": "kmPZdFtfxo9s",
        "outputId": "8edf3c32-3fe4-4406-ae53-dfc3a8f0ef0e"
      },
      "execution_count": 85,
      "outputs": [
        {
          "output_type": "stream",
          "name": "stderr",
          "text": [
            "/usr/local/lib/python3.7/dist-packages/statsmodels/graphics/tsaplots.py:353: FutureWarning: The default method 'yw' can produce PACF values outside of the [-1,1] interval. After 0.13, the default will change tounadjusted Yule-Walker ('ywm'). You can use this method now by setting method='ywm'.\n",
            "  FutureWarning,\n"
          ]
        },
        {
          "output_type": "display_data",
          "data": {
            "image/png": "[encoded data removed]",
            "text/plain": [
              "<Figure size 432x288 with 1 Axes>"
            ]
          },
          "metadata": {
            "needs_background": "light"
          }
        },
        {
          "output_type": "display_data",
          "data": {
            "image/png": "[encoded data removed]",
            "text/plain": [
              "<Figure size 432x288 with 1 Axes>"
            ]
          },
          "metadata": {
            "needs_background": "light"
          }
        }
      ]
    },
    {
      "cell_type": "markdown",
      "source": [
        "# SARIMA Model"
      ],
      "metadata": {
        "id": "ajUscpIe_J8W"
      }
    },
    {
      "cell_type": "code",
      "source": [
        "## create a SARIMA model\n",
        "from statsmodels.tsa.statespace.sarimax import SARIMAX"
      ],
      "metadata": {
        "id": "14XkHjf2yBVW"
      },
      "execution_count": 86,
      "outputs": []
    },
    {
      "cell_type": "code",
      "source": [
        "#model_SARIMA=SARIMAX(train_data['Open'],order=(9,0,15))\n",
        "#model_SARIMA=SARIMAX(train_data['Open'],order=(2,0,0))\n",
        "#model_SARIMA=SARIMAX(train_data['Open'],order=(9,1,14))\n",
        "#model_SARIMA=SARIMAX(train_data['Open'],order=(0,1,0),seasonal_order=(0,0,0,0)) - only best for arima not sarima\n",
        "model_SARIMA=SARIMAX(train_data['Open'],order=(9,1,14),seasonal_order=(0,1,0,12))"
      ],
      "metadata": {
        "id": "17FYHqEeyI8s"
      },
      "execution_count": 87,
      "outputs": []
    },
    {
      "cell_type": "code",
      "source": [
        "model_SARIMA_fit=model_SARIMA.fit()"
      ],
      "metadata": {
        "colab": {
          "base_uri": "https://localhost:8080/"
        },
        "id": "l_0iqjyxyNse",
        "outputId": "c435450a-1539-4089-d816-344494a7665d"
      },
      "execution_count": 88,
      "outputs": [
        {
          "output_type": "stream",
          "name": "stderr",
          "text": [
            "/usr/local/lib/python3.7/dist-packages/statsmodels/base/model.py:606: ConvergenceWarning: Maximum Likelihood optimization failed to converge. Check mle_retvals\n",
            "  ConvergenceWarning)\n"
          ]
        }
      ]
    },
    {
      "cell_type": "code",
      "source": [
        "model_SARIMA_fit.summary()"
      ],
      "metadata": {
        "colab": {
          "base_uri": "https://localhost:8080/",
          "height": 879
        },
        "id": "NzyZTVS3yPt2",
        "outputId": "55dc283a-b281-442d-ebe6-318fbc62e794"
      },
      "execution_count": 89,
      "outputs": [
        {
          "output_type": "execute_result",
          "data": {
            "text/html": [
              "<table class=\"simpletable\">\n",
              "<caption>SARIMAX Results</caption>\n",
              "<tr>\n",
              "  <th>Dep. Variable:</th>                 <td>Open</td>               <th>  No. Observations:  </th>   <td>1000</td>   \n",
              "</tr>\n",
              "<tr>\n",
              "  <th>Model:</th>           <td>SARIMAX(9, 1, 14)x(0, 1, [], 12)</td> <th>  Log Likelihood     </th> <td>-5016.292</td>\n",
              "</tr>\n",
              "<tr>\n",
              "  <th>Date:</th>                    <td>Thu, 10 Mar 2022</td>         <th>  AIC                </th> <td>10080.584</td>\n",
              "</tr>\n",
              "<tr>\n",
              "  <th>Time:</th>                        <td>13:21:18</td>             <th>  BIC                </th> <td>10198.056</td>\n",
              "</tr>\n",
              "<tr>\n",
              "  <th>Sample:</th>                          <td>0</td>                <th>  HQIC               </th> <td>10125.260</td>\n",
              "</tr>\n",
              "<tr>\n",
              "  <th></th>                              <td> - 1000</td>             <th>                     </th>     <td> </td>    \n",
              "</tr>\n",
              "<tr>\n",
              "  <th>Covariance Type:</th>                <td>opg</td>               <th>                     </th>     <td> </td>    \n",
              "</tr>\n",
              "</table>\n",
              "<table class=\"simpletable\">\n",
              "<tr>\n",
              "     <td></td>       <th>coef</th>     <th>std err</th>      <th>z</th>      <th>P>|z|</th>  <th>[0.025</th>    <th>0.975]</th>  \n",
              "</tr>\n",
              "<tr>\n",
              "  <th>ar.L1</th>  <td>   -0.2083</td> <td>   79.696</td> <td>   -0.003</td> <td> 0.998</td> <td> -156.410</td> <td>  155.993</td>\n",
              "</tr>\n",
              "<tr>\n",
              "  <th>ar.L2</th>  <td>    0.5893</td> <td>   56.954</td> <td>    0.010</td> <td> 0.992</td> <td> -111.039</td> <td>  112.217</td>\n",
              "</tr>\n",
              "<tr>\n",
              "  <th>ar.L3</th>  <td>   -0.0678</td> <td>    5.131</td> <td>   -0.013</td> <td> 0.989</td> <td>  -10.124</td> <td>    9.988</td>\n",
              "</tr>\n",
              "<tr>\n",
              "  <th>ar.L4</th>  <td>   -0.0016</td> <td>    0.691</td> <td>   -0.002</td> <td> 0.998</td> <td>   -1.356</td> <td>    1.353</td>\n",
              "</tr>\n",
              "<tr>\n",
              "  <th>ar.L5</th>  <td>   -0.0286</td> <td>    0.538</td> <td>   -0.053</td> <td> 0.958</td> <td>   -1.083</td> <td>    1.026</td>\n",
              "</tr>\n",
              "<tr>\n",
              "  <th>ar.L6</th>  <td>    0.0361</td> <td>    2.748</td> <td>    0.013</td> <td> 0.990</td> <td>   -5.350</td> <td>    5.423</td>\n",
              "</tr>\n",
              "<tr>\n",
              "  <th>ar.L7</th>  <td>    0.0373</td> <td>    5.416</td> <td>    0.007</td> <td> 0.995</td> <td>  -10.577</td> <td>   10.652</td>\n",
              "</tr>\n",
              "<tr>\n",
              "  <th>ar.L8</th>  <td>    0.0060</td> <td>    2.009</td> <td>    0.003</td> <td> 0.998</td> <td>   -3.932</td> <td>    3.944</td>\n",
              "</tr>\n",
              "<tr>\n",
              "  <th>ar.L9</th>  <td>    0.0268</td> <td>    2.309</td> <td>    0.012</td> <td> 0.991</td> <td>   -4.499</td> <td>    4.552</td>\n",
              "</tr>\n",
              "<tr>\n",
              "  <th>ma.L1</th>  <td>    0.2430</td> <td>   79.774</td> <td>    0.003</td> <td> 0.998</td> <td> -156.111</td> <td>  156.597</td>\n",
              "</tr>\n",
              "<tr>\n",
              "  <th>ma.L2</th>  <td>   -0.6148</td> <td>   54.244</td> <td>   -0.011</td> <td> 0.991</td> <td> -106.932</td> <td>  105.702</td>\n",
              "</tr>\n",
              "<tr>\n",
              "  <th>ma.L3</th>  <td>    0.0074</td> <td>    1.263</td> <td>    0.006</td> <td> 0.995</td> <td>   -2.469</td> <td>    2.484</td>\n",
              "</tr>\n",
              "<tr>\n",
              "  <th>ma.L4</th>  <td>    0.0083</td> <td>    0.484</td> <td>    0.017</td> <td> 0.986</td> <td>   -0.940</td> <td>    0.957</td>\n",
              "</tr>\n",
              "<tr>\n",
              "  <th>ma.L5</th>  <td>   -0.0004</td> <td>    1.118</td> <td>   -0.000</td> <td> 1.000</td> <td>   -2.191</td> <td>    2.190</td>\n",
              "</tr>\n",
              "<tr>\n",
              "  <th>ma.L6</th>  <td>   -0.0055</td> <td>    1.265</td> <td>   -0.004</td> <td> 0.997</td> <td>   -2.484</td> <td>    2.473</td>\n",
              "</tr>\n",
              "<tr>\n",
              "  <th>ma.L7</th>  <td>   -0.0002</td> <td>    0.375</td> <td>   -0.001</td> <td> 1.000</td> <td>   -0.735</td> <td>    0.735</td>\n",
              "</tr>\n",
              "<tr>\n",
              "  <th>ma.L8</th>  <td>   -0.0081</td> <td>    0.887</td> <td>   -0.009</td> <td> 0.993</td> <td>   -1.747</td> <td>    1.731</td>\n",
              "</tr>\n",
              "<tr>\n",
              "  <th>ma.L9</th>  <td>   -0.0062</td> <td>    1.420</td> <td>   -0.004</td> <td> 0.996</td> <td>   -2.789</td> <td>    2.776</td>\n",
              "</tr>\n",
              "<tr>\n",
              "  <th>ma.L10</th> <td>    0.0008</td> <td>    0.453</td> <td>    0.002</td> <td> 0.999</td> <td>   -0.887</td> <td>    0.889</td>\n",
              "</tr>\n",
              "<tr>\n",
              "  <th>ma.L11</th> <td>    0.0043</td> <td>    0.893</td> <td>    0.005</td> <td> 0.996</td> <td>   -1.747</td> <td>    1.755</td>\n",
              "</tr>\n",
              "<tr>\n",
              "  <th>ma.L12</th> <td>   -0.9951</td> <td>    1.305</td> <td>   -0.763</td> <td> 0.446</td> <td>   -3.552</td> <td>    1.562</td>\n",
              "</tr>\n",
              "<tr>\n",
              "  <th>ma.L13</th> <td>   -0.2448</td> <td>   79.609</td> <td>   -0.003</td> <td> 0.998</td> <td> -156.275</td> <td>  155.785</td>\n",
              "</tr>\n",
              "<tr>\n",
              "  <th>ma.L14</th> <td>    0.6188</td> <td>   53.887</td> <td>    0.011</td> <td> 0.991</td> <td> -104.997</td> <td>  106.235</td>\n",
              "</tr>\n",
              "<tr>\n",
              "  <th>sigma2</th> <td> 1772.4404</td> <td> 1572.088</td> <td>    1.127</td> <td> 0.260</td> <td>-1308.796</td> <td> 4853.677</td>\n",
              "</tr>\n",
              "</table>\n",
              "<table class=\"simpletable\">\n",
              "<tr>\n",
              "  <th>Ljung-Box (L1) (Q):</th>     <td>0.02</td> <th>  Jarque-Bera (JB):  </th> <td>1439748.45</td>\n",
              "</tr>\n",
              "<tr>\n",
              "  <th>Prob(Q):</th>                <td>0.89</td> <th>  Prob(JB):          </th>    <td>0.00</td>   \n",
              "</tr>\n",
              "<tr>\n",
              "  <th>Heteroskedasticity (H):</th> <td>0.65</td> <th>  Skew:              </th>    <td>-8.86</td>  \n",
              "</tr>\n",
              "<tr>\n",
              "  <th>Prob(H) (two-sided):</th>    <td>0.00</td> <th>  Kurtosis:          </th>   <td>189.27</td>  \n",
              "</tr>\n",
              "</table><br/><br/>Warnings:<br/>[1] Covariance matrix calculated using the outer product of gradients (complex-step)."
            ],
            "text/plain": [
              "<class 'statsmodels.iolib.summary.Summary'>\n",
              "\"\"\"\n",
              "                                      SARIMAX Results                                       \n",
              "============================================================================================\n",
              "Dep. Variable:                                 Open   No. Observations:                 1000\n",
              "Model:             SARIMAX(9, 1, 14)x(0, 1, [], 12)   Log Likelihood               -5016.292\n",
              "Date:                              Thu, 10 Mar 2022   AIC                          10080.584\n",
              "Time:                                      13:21:18   BIC                          10198.056\n",
              "Sample:                                           0   HQIC                         10125.260\n",
              "                                             - 1000                                         \n",
              "Covariance Type:                                opg                                         \n",
              "==============================================================================\n",
              "                 coef    std err          z      P>|z|      [0.025      0.975]\n",
              "------------------------------------------------------------------------------\n",
              "ar.L1         -0.2083     79.696     -0.003      0.998    -156.410     155.993\n",
              "ar.L2          0.5893     56.954      0.010      0.992    -111.039     112.217\n",
              "ar.L3         -0.0678      5.131     -0.013      0.989     -10.124       9.988\n",
              "ar.L4         -0.0016      0.691     -0.002      0.998      -1.356       1.353\n",
              "ar.L5         -0.0286      0.538     -0.053      0.958      -1.083       1.026\n",
              "ar.L6          0.0361      2.748      0.013      0.990      -5.350       5.423\n",
              "ar.L7          0.0373      5.416      0.007      0.995     -10.577      10.652\n",
              "ar.L8          0.0060      2.009      0.003      0.998      -3.932       3.944\n",
              "ar.L9          0.0268      2.309      0.012      0.991      -4.499       4.552\n",
              "ma.L1          0.2430     79.774      0.003      0.998    -156.111     156.597\n",
              "ma.L2         -0.6148     54.244     -0.011      0.991    -106.932     105.702\n",
              "ma.L3          0.0074      1.263      0.006      0.995      -2.469       2.484\n",
              "ma.L4          0.0083      0.484      0.017      0.986      -0.940       0.957\n",
              "ma.L5         -0.0004      1.118     -0.000      1.000      -2.191       2.190\n",
              "ma.L6         -0.0055      1.265     -0.004      0.997      -2.484       2.473\n",
              "ma.L7         -0.0002      0.375     -0.001      1.000      -0.735       0.735\n",
              "ma.L8         -0.0081      0.887     -0.009      0.993      -1.747       1.731\n",
              "ma.L9         -0.0062      1.420     -0.004      0.996      -2.789       2.776\n",
              "ma.L10         0.0008      0.453      0.002      0.999      -0.887       0.889\n",
              "ma.L11         0.0043      0.893      0.005      0.996      -1.747       1.755\n",
              "ma.L12        -0.9951      1.305     -0.763      0.446      -3.552       1.562\n",
              "ma.L13        -0.2448     79.609     -0.003      0.998    -156.275     155.785\n",
              "ma.L14         0.6188     53.887      0.011      0.991    -104.997     106.235\n",
              "sigma2      1772.4404   1572.088      1.127      0.260   -1308.796    4853.677\n",
              "===================================================================================\n",
              "Ljung-Box (L1) (Q):                   0.02   Jarque-Bera (JB):           1439748.45\n",
              "Prob(Q):                              0.89   Prob(JB):                         0.00\n",
              "Heteroskedasticity (H):               0.65   Skew:                            -8.86\n",
              "Prob(H) (two-sided):                  0.00   Kurtosis:                       189.27\n",
              "===================================================================================\n",
              "\n",
              "Warnings:\n",
              "[1] Covariance matrix calculated using the outer product of gradients (complex-step).\n",
              "\"\"\""
            ]
          },
          "metadata": {},
          "execution_count": 89
        }
      ]
    },
    {
      "cell_type": "code",
      "source": [
        "##prediction\n",
        "pred_start_date=test_data.Date.iloc[0]\n",
        "pred_end_date=test_data.Date.iloc[-1]\n",
        "print(pred_start_date)\n",
        "print(pred_end_date)"
      ],
      "metadata": {
        "colab": {
          "base_uri": "https://localhost:8080/"
        },
        "id": "FqzF4Ct2ySjS",
        "outputId": "bab261d0-4da0-4e53-b1f8-523be4120ff4"
      },
      "execution_count": 90,
      "outputs": [
        {
          "output_type": "stream",
          "name": "stdout",
          "text": [
            "2021-01-14 00:00:00\n",
            "2022-03-08 00:00:00\n"
          ]
        }
      ]
    },
    {
      "cell_type": "code",
      "source": [
        "start = len(test_data)\n",
        "end = len(train_data)+len(test_data)-1\n",
        "\n",
        "pred_Sarima=model_SARIMA_fit.predict(start=start,end=end)\n",
        "residuals=test_data['Open']-pred_Sarima"
      ],
      "metadata": {
        "id": "QOifBh_rydUa"
      },
      "execution_count": 91,
      "outputs": []
    },
    {
      "cell_type": "code",
      "source": [
        "model_SARIMA_fit.resid.plot()"
      ],
      "metadata": {
        "colab": {
          "base_uri": "https://localhost:8080/",
          "height": 282
        },
        "id": "W-Y7nQ0IygbZ",
        "outputId": "15e94465-b51a-48bc-837b-8ca97d9f3b1d"
      },
      "execution_count": 92,
      "outputs": [
        {
          "output_type": "execute_result",
          "data": {
            "text/plain": [
              "<matplotlib.axes._subplots.AxesSubplot at 0x7fb46b7aead0>"
            ]
          },
          "metadata": {},
          "execution_count": 92
        },
        {
          "output_type": "display_data",
          "data": {
            "image/png": "[encoded data removed]",
            "text/plain": [
              "<Figure size 432x288 with 1 Axes>"
            ]
          },
          "metadata": {
            "needs_background": "light"
          }
        }
      ]
    },
    {
      "cell_type": "code",
      "source": [
        "model_SARIMA_fit.resid.plot(kind='kde')"
      ],
      "metadata": {
        "colab": {
          "base_uri": "https://localhost:8080/",
          "height": 285
        },
        "id": "NUZA9wwAyvje",
        "outputId": "4de0b520-455a-49d2-fd8d-cd9ca5a6ae8d"
      },
      "execution_count": 93,
      "outputs": [
        {
          "output_type": "execute_result",
          "data": {
            "text/plain": [
              "<matplotlib.axes._subplots.AxesSubplot at 0x7fb4597332d0>"
            ]
          },
          "metadata": {},
          "execution_count": 93
        },
        {
          "output_type": "display_data",
          "data": {
            "image/png": "[encoded data removed]",
            "text/plain": [
              "<Figure size 432x288 with 1 Axes>"
            ]
          },
          "metadata": {
            "needs_background": "light"
          }
        }
      ]
    },
    {
      "cell_type": "code",
      "source": [
        "test_data['Predicted_SARIMA']=pred_Sarima"
      ],
      "metadata": {
        "colab": {
          "base_uri": "https://localhost:8080/"
        },
        "id": "TZRUAz1MyysQ",
        "outputId": "2c3ca334-fa2b-47be-982e-195c65a93285"
      },
      "execution_count": 95,
      "outputs": [
        {
          "output_type": "stream",
          "name": "stderr",
          "text": [
            "/usr/local/lib/python3.7/dist-packages/ipykernel_launcher.py:1: SettingWithCopyWarning: \n",
            "A value is trying to be set on a copy of a slice from a DataFrame.\n",
            "Try using .loc[row_indexer,col_indexer] = value instead\n",
            "\n",
            "See the caveats in the documentation: https://pandas.pydata.org/pandas-docs/stable/user_guide/indexing.html#returning-a-view-versus-a-copy\n",
            "  \"\"\"Entry point for launching an IPython kernel.\n"
          ]
        }
      ]
    },
    {
      "cell_type": "code",
      "source": [
        "test_data[['Open','Predicted_SARIMA','Predicted_ARIMA']].plot()"
      ],
      "metadata": {
        "colab": {
          "base_uri": "https://localhost:8080/",
          "height": 282
        },
        "id": "A0SYSroDy2Ms",
        "outputId": "2b0df4f9-c0bc-43b5-bbe1-cf66873d2f1f"
      },
      "execution_count": 96,
      "outputs": [
        {
          "output_type": "execute_result",
          "data": {
            "text/plain": [
              "<matplotlib.axes._subplots.AxesSubplot at 0x7fb45969f150>"
            ]
          },
          "metadata": {},
          "execution_count": 96
        },
        {
          "output_type": "display_data",
          "data": {
            "image/png": "[encoded data removed]",
            "text/plain": [
              "<Figure size 432x288 with 1 Axes>"
            ]
          },
          "metadata": {
            "needs_background": "light"
          }
        }
      ]
    },
    {
      "cell_type": "code",
      "source": [
        ""
      ],
      "metadata": {
        "id": "IUR5PKVhE1sr"
      },
      "execution_count": null,
      "outputs": []
    }
  ]
}