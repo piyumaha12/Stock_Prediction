{
 "cells": [
  {
   "cell_type": "code",
   "execution_count": 1,
   "id": "397a336f",
   "metadata": {
    "ExecuteTime": {
     "end_time": "2022-02-28T13:07:18.395411Z",
     "start_time": "2022-02-28T13:07:18.390410Z"
    }
   },
   "outputs": [],
   "source": [
    "import numpy as np\n",
    "import pandas as pd\n",
    "import matplotlib.pyplot as plt\n",
    "import seaborn as sns\n",
    "import warnings\n",
    "warnings.filterwarnings(\"ignore\")\n",
    "#!pip install nsepy"
   ]
  },
  {
   "cell_type": "code",
   "execution_count": 2,
   "id": "559ef6ad",
   "metadata": {},
   "outputs": [],
   "source": [
    "# pip install nsepy"
   ]
  },
  {
   "cell_type": "code",
   "execution_count": 3,
   "id": "ea4eb1b7",
   "metadata": {
    "ExecuteTime": {
     "end_time": "2022-02-28T13:07:20.763479Z",
     "start_time": "2022-02-28T13:07:20.746248Z"
    }
   },
   "outputs": [],
   "source": [
    "from datetime import date\n",
    "from nsepy import get_history"
   ]
  },
  {
   "cell_type": "code",
   "execution_count": 4,
   "id": "19af0fd1",
   "metadata": {
    "ExecuteTime": {
     "end_time": "2022-02-28T13:07:22.761568Z",
     "start_time": "2022-02-28T13:07:22.749569Z"
    }
   },
   "outputs": [],
   "source": [
    "def get_data(name):\n",
    "    data = get_history(symbol = name , start=date(2020,1,1), end= date(2022,2,28))\n",
    "    return data"
   ]
  },
  {
   "cell_type": "code",
   "execution_count": 10,
   "id": "8d53a24f",
   "metadata": {
    "ExecuteTime": {
     "end_time": "2022-02-28T13:07:31.312537Z",
     "start_time": "2022-02-28T13:07:25.156076Z"
    }
   },
   "outputs": [
    {
     "name": "stdout",
     "output_type": "stream",
     "text": [
      "Enter Company Name  : COALINDIA\n"
     ]
    }
   ],
   "source": [
    "data = get_data(input('Enter Company Name  : '))"
   ]
  },
  {
   "cell_type": "code",
   "execution_count": 19,
   "id": "32c36a00",
   "metadata": {},
   "outputs": [],
   "source": [
    "data = get_history(symbol = 'TATAMOTORS' , start=date(2020,1,1), end= date(2022,2,28), )"
   ]
  },
  {
   "cell_type": "code",
   "execution_count": 21,
   "id": "6ed87710",
   "metadata": {
    "ExecuteTime": {
     "end_time": "2022-02-28T13:07:35.702513Z",
     "start_time": "2022-02-28T13:07:35.669511Z"
    }
   },
   "outputs": [
    {
     "data": {
      "text/html": [
       "<div>\n",
       "<style scoped>\n",
       "    .dataframe tbody tr th:only-of-type {\n",
       "        vertical-align: middle;\n",
       "    }\n",
       "\n",
       "    .dataframe tbody tr th {\n",
       "        vertical-align: top;\n",
       "    }\n",
       "\n",
       "    .dataframe thead th {\n",
       "        text-align: right;\n",
       "    }\n",
       "</style>\n",
       "<table border=\"1\" class=\"dataframe\">\n",
       "  <thead>\n",
       "    <tr style=\"text-align: right;\">\n",
       "      <th></th>\n",
       "      <th>Symbol</th>\n",
       "      <th>Series</th>\n",
       "      <th>Prev Close</th>\n",
       "      <th>Open</th>\n",
       "      <th>High</th>\n",
       "      <th>Low</th>\n",
       "      <th>Last</th>\n",
       "      <th>Close</th>\n",
       "      <th>VWAP</th>\n",
       "      <th>Volume</th>\n",
       "      <th>Turnover</th>\n",
       "      <th>Trades</th>\n",
       "      <th>Deliverable Volume</th>\n",
       "      <th>%Deliverble</th>\n",
       "    </tr>\n",
       "    <tr>\n",
       "      <th>Date</th>\n",
       "      <th></th>\n",
       "      <th></th>\n",
       "      <th></th>\n",
       "      <th></th>\n",
       "      <th></th>\n",
       "      <th></th>\n",
       "      <th></th>\n",
       "      <th></th>\n",
       "      <th></th>\n",
       "      <th></th>\n",
       "      <th></th>\n",
       "      <th></th>\n",
       "      <th></th>\n",
       "      <th></th>\n",
       "    </tr>\n",
       "  </thead>\n",
       "  <tbody>\n",
       "    <tr>\n",
       "      <th>2020-01-01</th>\n",
       "      <td>TATAMOTORS</td>\n",
       "      <td>EQ</td>\n",
       "      <td>185.15</td>\n",
       "      <td>185.15</td>\n",
       "      <td>186.70</td>\n",
       "      <td>183.60</td>\n",
       "      <td>184.25</td>\n",
       "      <td>184.45</td>\n",
       "      <td>185.11</td>\n",
       "      <td>25968357</td>\n",
       "      <td>4.806946e+14</td>\n",
       "      <td>99072</td>\n",
       "      <td>1878537</td>\n",
       "      <td>0.0723</td>\n",
       "    </tr>\n",
       "    <tr>\n",
       "      <th>2020-01-02</th>\n",
       "      <td>TATAMOTORS</td>\n",
       "      <td>EQ</td>\n",
       "      <td>184.45</td>\n",
       "      <td>185.00</td>\n",
       "      <td>194.70</td>\n",
       "      <td>184.60</td>\n",
       "      <td>193.85</td>\n",
       "      <td>193.75</td>\n",
       "      <td>190.57</td>\n",
       "      <td>57289863</td>\n",
       "      <td>1.091755e+15</td>\n",
       "      <td>251258</td>\n",
       "      <td>9368491</td>\n",
       "      <td>0.1635</td>\n",
       "    </tr>\n",
       "    <tr>\n",
       "      <th>2020-01-03</th>\n",
       "      <td>TATAMOTORS</td>\n",
       "      <td>EQ</td>\n",
       "      <td>193.75</td>\n",
       "      <td>192.90</td>\n",
       "      <td>195.65</td>\n",
       "      <td>189.25</td>\n",
       "      <td>191.25</td>\n",
       "      <td>191.10</td>\n",
       "      <td>192.00</td>\n",
       "      <td>47572728</td>\n",
       "      <td>9.134140e+14</td>\n",
       "      <td>185614</td>\n",
       "      <td>4181757</td>\n",
       "      <td>0.0879</td>\n",
       "    </tr>\n",
       "    <tr>\n",
       "      <th>2020-01-06</th>\n",
       "      <td>TATAMOTORS</td>\n",
       "      <td>EQ</td>\n",
       "      <td>191.10</td>\n",
       "      <td>191.00</td>\n",
       "      <td>191.00</td>\n",
       "      <td>185.05</td>\n",
       "      <td>185.40</td>\n",
       "      <td>185.65</td>\n",
       "      <td>187.30</td>\n",
       "      <td>28621212</td>\n",
       "      <td>5.360801e+14</td>\n",
       "      <td>138113</td>\n",
       "      <td>3848110</td>\n",
       "      <td>0.1344</td>\n",
       "    </tr>\n",
       "    <tr>\n",
       "      <th>2020-01-07</th>\n",
       "      <td>TATAMOTORS</td>\n",
       "      <td>EQ</td>\n",
       "      <td>185.65</td>\n",
       "      <td>187.00</td>\n",
       "      <td>189.40</td>\n",
       "      <td>182.30</td>\n",
       "      <td>184.35</td>\n",
       "      <td>184.70</td>\n",
       "      <td>185.41</td>\n",
       "      <td>34995035</td>\n",
       "      <td>6.488309e+14</td>\n",
       "      <td>133404</td>\n",
       "      <td>3453069</td>\n",
       "      <td>0.0987</td>\n",
       "    </tr>\n",
       "  </tbody>\n",
       "</table>\n",
       "</div>"
      ],
      "text/plain": [
       "                Symbol Series  Prev Close    Open    High     Low    Last  \\\n",
       "Date                                                                        \n",
       "2020-01-01  TATAMOTORS     EQ      185.15  185.15  186.70  183.60  184.25   \n",
       "2020-01-02  TATAMOTORS     EQ      184.45  185.00  194.70  184.60  193.85   \n",
       "2020-01-03  TATAMOTORS     EQ      193.75  192.90  195.65  189.25  191.25   \n",
       "2020-01-06  TATAMOTORS     EQ      191.10  191.00  191.00  185.05  185.40   \n",
       "2020-01-07  TATAMOTORS     EQ      185.65  187.00  189.40  182.30  184.35   \n",
       "\n",
       "             Close    VWAP    Volume      Turnover  Trades  \\\n",
       "Date                                                         \n",
       "2020-01-01  184.45  185.11  25968357  4.806946e+14   99072   \n",
       "2020-01-02  193.75  190.57  57289863  1.091755e+15  251258   \n",
       "2020-01-03  191.10  192.00  47572728  9.134140e+14  185614   \n",
       "2020-01-06  185.65  187.30  28621212  5.360801e+14  138113   \n",
       "2020-01-07  184.70  185.41  34995035  6.488309e+14  133404   \n",
       "\n",
       "            Deliverable Volume  %Deliverble  \n",
       "Date                                         \n",
       "2020-01-01             1878537       0.0723  \n",
       "2020-01-02             9368491       0.1635  \n",
       "2020-01-03             4181757       0.0879  \n",
       "2020-01-06             3848110       0.1344  \n",
       "2020-01-07             3453069       0.0987  "
      ]
     },
     "execution_count": 21,
     "metadata": {},
     "output_type": "execute_result"
    }
   ],
   "source": [
    "data.head()"
   ]
  },
  {
   "cell_type": "code",
   "execution_count": null,
   "id": "370c5bc4",
   "metadata": {},
   "outputs": [],
   "source": []
  },
  {
   "cell_type": "code",
   "execution_count": 22,
   "id": "330523f5",
   "metadata": {
    "ExecuteTime": {
     "end_time": "2022-02-28T13:07:39.549930Z",
     "start_time": "2022-02-28T13:07:39.514557Z"
    }
   },
   "outputs": [
    {
     "data": {
      "text/html": [
       "<div>\n",
       "<style scoped>\n",
       "    .dataframe tbody tr th:only-of-type {\n",
       "        vertical-align: middle;\n",
       "    }\n",
       "\n",
       "    .dataframe tbody tr th {\n",
       "        vertical-align: top;\n",
       "    }\n",
       "\n",
       "    .dataframe thead th {\n",
       "        text-align: right;\n",
       "    }\n",
       "</style>\n",
       "<table border=\"1\" class=\"dataframe\">\n",
       "  <thead>\n",
       "    <tr style=\"text-align: right;\">\n",
       "      <th></th>\n",
       "      <th>Symbol</th>\n",
       "      <th>Series</th>\n",
       "      <th>Prev Close</th>\n",
       "      <th>Open</th>\n",
       "      <th>High</th>\n",
       "      <th>Low</th>\n",
       "      <th>Last</th>\n",
       "      <th>Close</th>\n",
       "      <th>VWAP</th>\n",
       "      <th>Volume</th>\n",
       "      <th>Turnover</th>\n",
       "      <th>Trades</th>\n",
       "      <th>Deliverable Volume</th>\n",
       "      <th>%Deliverble</th>\n",
       "    </tr>\n",
       "    <tr>\n",
       "      <th>Date</th>\n",
       "      <th></th>\n",
       "      <th></th>\n",
       "      <th></th>\n",
       "      <th></th>\n",
       "      <th></th>\n",
       "      <th></th>\n",
       "      <th></th>\n",
       "      <th></th>\n",
       "      <th></th>\n",
       "      <th></th>\n",
       "      <th></th>\n",
       "      <th></th>\n",
       "      <th></th>\n",
       "      <th></th>\n",
       "    </tr>\n",
       "  </thead>\n",
       "  <tbody>\n",
       "    <tr>\n",
       "      <th>2022-02-22</th>\n",
       "      <td>TATAMOTORS</td>\n",
       "      <td>EQ</td>\n",
       "      <td>494.45</td>\n",
       "      <td>480.55</td>\n",
       "      <td>486.30</td>\n",
       "      <td>471.45</td>\n",
       "      <td>478.50</td>\n",
       "      <td>478.25</td>\n",
       "      <td>479.41</td>\n",
       "      <td>27957544</td>\n",
       "      <td>1.340311e+15</td>\n",
       "      <td>310898</td>\n",
       "      <td>7689870</td>\n",
       "      <td>0.2751</td>\n",
       "    </tr>\n",
       "    <tr>\n",
       "      <th>2022-02-23</th>\n",
       "      <td>TATAMOTORS</td>\n",
       "      <td>EQ</td>\n",
       "      <td>478.25</td>\n",
       "      <td>481.75</td>\n",
       "      <td>485.40</td>\n",
       "      <td>475.30</td>\n",
       "      <td>477.00</td>\n",
       "      <td>477.00</td>\n",
       "      <td>480.31</td>\n",
       "      <td>17703998</td>\n",
       "      <td>8.503351e+14</td>\n",
       "      <td>205394</td>\n",
       "      <td>4920749</td>\n",
       "      <td>0.2779</td>\n",
       "    </tr>\n",
       "    <tr>\n",
       "      <th>2022-02-24</th>\n",
       "      <td>TATAMOTORS</td>\n",
       "      <td>EQ</td>\n",
       "      <td>477.00</td>\n",
       "      <td>455.95</td>\n",
       "      <td>461.55</td>\n",
       "      <td>405.45</td>\n",
       "      <td>425.90</td>\n",
       "      <td>427.95</td>\n",
       "      <td>443.91</td>\n",
       "      <td>57265685</td>\n",
       "      <td>2.542080e+15</td>\n",
       "      <td>775585</td>\n",
       "      <td>18193568</td>\n",
       "      <td>0.3177</td>\n",
       "    </tr>\n",
       "    <tr>\n",
       "      <th>2022-02-25</th>\n",
       "      <td>TATAMOTORS</td>\n",
       "      <td>EQ</td>\n",
       "      <td>427.95</td>\n",
       "      <td>444.85</td>\n",
       "      <td>465.70</td>\n",
       "      <td>441.60</td>\n",
       "      <td>460.85</td>\n",
       "      <td>459.75</td>\n",
       "      <td>459.06</td>\n",
       "      <td>48876182</td>\n",
       "      <td>2.243688e+15</td>\n",
       "      <td>536058</td>\n",
       "      <td>8001318</td>\n",
       "      <td>0.1637</td>\n",
       "    </tr>\n",
       "    <tr>\n",
       "      <th>2022-02-28</th>\n",
       "      <td>TATAMOTORS</td>\n",
       "      <td>EQ</td>\n",
       "      <td>459.75</td>\n",
       "      <td>445.00</td>\n",
       "      <td>457.35</td>\n",
       "      <td>440.45</td>\n",
       "      <td>453.95</td>\n",
       "      <td>454.05</td>\n",
       "      <td>452.40</td>\n",
       "      <td>34475468</td>\n",
       "      <td>1.559657e+15</td>\n",
       "      <td>355388</td>\n",
       "      <td>8824925</td>\n",
       "      <td>0.2560</td>\n",
       "    </tr>\n",
       "  </tbody>\n",
       "</table>\n",
       "</div>"
      ],
      "text/plain": [
       "                Symbol Series  Prev Close    Open    High     Low    Last  \\\n",
       "Date                                                                        \n",
       "2022-02-22  TATAMOTORS     EQ      494.45  480.55  486.30  471.45  478.50   \n",
       "2022-02-23  TATAMOTORS     EQ      478.25  481.75  485.40  475.30  477.00   \n",
       "2022-02-24  TATAMOTORS     EQ      477.00  455.95  461.55  405.45  425.90   \n",
       "2022-02-25  TATAMOTORS     EQ      427.95  444.85  465.70  441.60  460.85   \n",
       "2022-02-28  TATAMOTORS     EQ      459.75  445.00  457.35  440.45  453.95   \n",
       "\n",
       "             Close    VWAP    Volume      Turnover  Trades  \\\n",
       "Date                                                         \n",
       "2022-02-22  478.25  479.41  27957544  1.340311e+15  310898   \n",
       "2022-02-23  477.00  480.31  17703998  8.503351e+14  205394   \n",
       "2022-02-24  427.95  443.91  57265685  2.542080e+15  775585   \n",
       "2022-02-25  459.75  459.06  48876182  2.243688e+15  536058   \n",
       "2022-02-28  454.05  452.40  34475468  1.559657e+15  355388   \n",
       "\n",
       "            Deliverable Volume  %Deliverble  \n",
       "Date                                         \n",
       "2022-02-22             7689870       0.2751  \n",
       "2022-02-23             4920749       0.2779  \n",
       "2022-02-24            18193568       0.3177  \n",
       "2022-02-25             8001318       0.1637  \n",
       "2022-02-28             8824925       0.2560  "
      ]
     },
     "execution_count": 22,
     "metadata": {},
     "output_type": "execute_result"
    }
   ],
   "source": [
    "data.tail()"
   ]
  },
  {
   "cell_type": "code",
   "execution_count": null,
   "id": "efa9f114",
   "metadata": {},
   "outputs": [],
   "source": []
  }
 ],
 "metadata": {
  "kernelspec": {
   "display_name": "Python 3",
   "language": "python",
   "name": "python3"
  },
  "language_info": {
   "codemirror_mode": {
    "name": "ipython",
    "version": 3
   },
   "file_extension": ".py",
   "mimetype": "text/x-python",
   "name": "python",
   "nbconvert_exporter": "python",
   "pygments_lexer": "ipython3",
   "version": "3.9.7"
  },
  "varInspector": {
   "cols": {
    "lenName": 16,
    "lenType": 16,
    "lenVar": 40
   },
   "kernels_config": {
    "python": {
     "delete_cmd_postfix": "",
     "delete_cmd_prefix": "del ",
     "library": "var_list.py",
     "varRefreshCmd": "print(var_dic_list())"
    },
    "r": {
     "delete_cmd_postfix": ") ",
     "delete_cmd_prefix": "rm(",
     "library": "var_list.r",
     "varRefreshCmd": "cat(var_dic_list()) "
    }
   },
   "types_to_exclude": [
    "module",
    "function",
    "builtin_function_or_method",
    "instance",
    "_Feature"
   ],
   "window_display": false
  }
 },
 "nbformat": 4,
 "nbformat_minor": 5
}
